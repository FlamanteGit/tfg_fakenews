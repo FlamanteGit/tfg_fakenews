{
  "nbformat": 4,
  "nbformat_minor": 0,
  "metadata": {
    "colab": {
      "name": "BERT-fakeddit.ipynb",
      "provenance": [],
      "collapsed_sections": []
    },
    "kernelspec": {
      "name": "python3",
      "display_name": "Python 3"
    },
    "language_info": {
      "name": "python"
    },
    "accelerator": "GPU"
  },
  "cells": [
    {
      "cell_type": "markdown",
      "source": [
        "# BERT for fake news detection\n"
      ],
      "metadata": {
        "id": "yCuBZU6iydnV"
      }
    },
    {
      "cell_type": "markdown",
      "source": [
        "Make sure that you are using GPU"
      ],
      "metadata": {
        "id": "B79lXyf-ypHd"
      }
    },
    {
      "cell_type": "code",
      "execution_count": 49,
      "metadata": {
        "colab": {
          "base_uri": "https://localhost:8080/"
        },
        "id": "kWpxmVSayazf",
        "outputId": "70e4d1e0-16c2-440f-c192-a6d3a177fea9"
      },
      "outputs": [
        {
          "output_type": "execute_result",
          "data": {
            "text/plain": [
              "device(type='cuda')"
            ]
          },
          "metadata": {},
          "execution_count": 49
        }
      ],
      "source": [
        "import torch \n",
        "\n",
        "device = torch.device(\"cuda\" if torch.cuda.is_available() else \"cpu\")\n",
        "device"
      ]
    },
    {
      "cell_type": "markdown",
      "source": [
        "You can see the type of gpu available for you:"
      ],
      "metadata": {
        "id": "Np_FymoPy25r"
      }
    },
    {
      "cell_type": "code",
      "source": [
        "!nvidia-smi"
      ],
      "metadata": {
        "colab": {
          "base_uri": "https://localhost:8080/"
        },
        "id": "Pg0bhGKSyzmD",
        "outputId": "c5ac8118-e0f2-4c62-dda9-f40418bacc4d"
      },
      "execution_count": 50,
      "outputs": [
        {
          "output_type": "stream",
          "name": "stdout",
          "text": [
            "Thu Mar 24 08:52:08 2022       \n",
            "+-----------------------------------------------------------------------------+\n",
            "| NVIDIA-SMI 460.32.03    Driver Version: 460.32.03    CUDA Version: 11.2     |\n",
            "|-------------------------------+----------------------+----------------------+\n",
            "| GPU  Name        Persistence-M| Bus-Id        Disp.A | Volatile Uncorr. ECC |\n",
            "| Fan  Temp  Perf  Pwr:Usage/Cap|         Memory-Usage | GPU-Util  Compute M. |\n",
            "|                               |                      |               MIG M. |\n",
            "|===============================+======================+======================|\n",
            "|   0  Tesla K80           Off  | 00000000:00:04.0 Off |                    0 |\n",
            "| N/A   73C    P0    72W / 149W |   2831MiB / 11441MiB |      0%      Default |\n",
            "|                               |                      |                  N/A |\n",
            "+-------------------------------+----------------------+----------------------+\n",
            "                                                                               \n",
            "+-----------------------------------------------------------------------------+\n",
            "| Processes:                                                                  |\n",
            "|  GPU   GI   CI        PID   Type   Process name                  GPU Memory |\n",
            "|        ID   ID                                                   Usage      |\n",
            "|=============================================================================|\n",
            "+-----------------------------------------------------------------------------+\n"
          ]
        }
      ]
    },
    {
      "cell_type": "markdown",
      "source": [
        "## 1. Load the data"
      ],
      "metadata": {
        "id": "yPL1qcW0zAb9"
      }
    },
    {
      "cell_type": "code",
      "source": [
        "# Load the Drive helper and mount\n",
        "from google.colab import drive\n",
        "drive.mount('/content/drive')\n",
        "root='drive/My Drive/Colab Notebooks/'\n",
        "paht = 'drive/My Drive/Colab Notebooks/fakkedit/'"
      ],
      "metadata": {
        "id": "UTBHpvISzDcy",
        "colab": {
          "base_uri": "https://localhost:8080/"
        },
        "outputId": "f8231af2-a886-4f64-fc82-6f77401063a5"
      },
      "execution_count": 51,
      "outputs": [
        {
          "output_type": "stream",
          "name": "stdout",
          "text": [
            "Drive already mounted at /content/drive; to attempt to forcibly remount, call drive.mount(\"/content/drive\", force_remount=True).\n"
          ]
        }
      ]
    },
    {
      "cell_type": "code",
      "source": [
        "MULTIMODAL_ONLY = True # if False, we will load all the\n",
        "nameFile = 'multimodal_'\n",
        "if not MULTIMODAL_ONLY:\n",
        "    nameFile ='all_'\n"
      ],
      "metadata": {
        "id": "TSUw5SS4DuQ4"
      },
      "execution_count": 52,
      "outputs": []
    },
    {
      "cell_type": "code",
      "source": [
        "import pandas as pd\n",
        "train = pd.read_csv(root+\"data/fakeddit/\" + nameFile+ \"train.tsv\", sep='\\t')\n",
        "val  = pd.read_csv(root+\"data/fakeddit/\" + nameFile+ \"validate.tsv\", sep='\\t')\n",
        "test  = pd.read_csv(root+\"data/fakeddit/\" + nameFile+ \"test_public.tsv\", sep='\\t')\n",
        "\n",
        "print(\"Dataset: \", nameFile)\n",
        "print('size training: ', len(train))\n",
        "print('size validation: ', len(val))\n",
        "print('size test: ', len(test))\n"
      ],
      "metadata": {
        "id": "-XgH1K-mzPaz",
        "colab": {
          "base_uri": "https://localhost:8080/"
        },
        "outputId": "f243398a-b252-4e6a-d128-c692fdb75b03"
      },
      "execution_count": 53,
      "outputs": [
        {
          "output_type": "stream",
          "name": "stdout",
          "text": [
            "Dataset:  multimodal_\n",
            "size training:  564000\n",
            "size validation:  59342\n",
            "size test:  59319\n"
          ]
        }
      ]
    },
    {
      "cell_type": "markdown",
      "source": [
        "To make faster experimentation, we reduce the size of the datasets (of course, the results will be worse)"
      ],
      "metadata": {
        "id": "5cOCj-A_0WxG"
      }
    },
    {
      "cell_type": "code",
      "source": [
        "import numpy as np\n",
        "reduction = 10 #100, 10 or 1\n",
        "\n",
        "print(\"reduction applied: \", reduction)\n",
        "\n",
        "\n",
        "print(f\"Training patterns before reduction: {len(train)}\")\n",
        "train = train.sample(int(len(train)/reduction), random_state=12345)\n",
        "print(f\"Training patterns after reduction:  {len(train)}\")\n",
        "\n",
        "print(f\"Validation patterns before reduction: {len(val)}\")\n",
        "val = val.sample(int(len(val)/reduction), random_state=12345)\n",
        "print(f\"Validation patterns after reduction:  {len(val)}\")\n",
        "\n",
        "print(f\"Test patterns before reduction: {len(test)}\")\n",
        "test = test.sample(int(len(test)/reduction), random_state=12345)\n",
        "print(f\"Test patterns after reduction:  {len(test)}\")"
      ],
      "metadata": {
        "id": "ZPxJzWJy0MvF",
        "colab": {
          "base_uri": "https://localhost:8080/"
        },
        "outputId": "902aac04-156a-4530-a253-d06d65474b66"
      },
      "execution_count": 54,
      "outputs": [
        {
          "output_type": "stream",
          "name": "stdout",
          "text": [
            "Training patterns before reduction: 564000\n",
            "Training patterns after reduction:  56400\n",
            "Training patterns before reduction: 59342\n",
            "Training patterns after reduction:  5934\n",
            "reduction applied:  10\n",
            "Test patterns before reduction: 59319\n",
            "Test patterns after reduction:  5931\n"
          ]
        }
      ]
    },
    {
      "cell_type": "code",
      "source": [
        "train.head()"
      ],
      "metadata": {
        "id": "pl3Uw2HQ0tyz",
        "colab": {
          "base_uri": "https://localhost:8080/",
          "height": 530
        },
        "outputId": "d5f1dc40-1ae8-4f43-8e5d-1c67eff1eb98"
      },
      "execution_count": 55,
      "outputs": [
        {
          "output_type": "execute_result",
          "data": {
            "text/plain": [
              "                author                                        clean_title  \\\n",
              "224716          T3nd0o  this basket made out of old candy wrappers fea...   \n",
              "525216  TindalosKeeper                              ugh shitty connection   \n",
              "104777         ZAPP3Rx                                        evil racoon   \n",
              "467061  Count_Mirchaud  german tank ace michael wittmans last stand ag...   \n",
              "350361      GuysnDolls                         the dread of lancaster bay   \n",
              "\n",
              "         created_utc     domain  hasImage       id  \\\n",
              "224716  1.566649e+09  i.redd.it      True   cusqgc   \n",
              "525216  1.560360e+09        NaN      True  eqwq1xm   \n",
              "104777  1.508945e+09  i.redd.it      True   78od95   \n",
              "467061  1.481311e+09  imgur.com      True   5hfnof   \n",
              "350361  1.552235e+09        NaN      True  ei7pl4z   \n",
              "\n",
              "                                                image_url  \\\n",
              "224716  https://preview.redd.it/vz64u4m03ei31.jpg?widt...   \n",
              "525216                    https://i.imgur.com/jhHIGoj.jpg   \n",
              "104777  https://preview.redd.it/as247oqduztz.jpg?width...   \n",
              "467061  https://external-preview.redd.it/F4ThHaQXXlqf3...   \n",
              "350361                    https://i.imgur.com/RgHJ9D3.jpg   \n",
              "\n",
              "       linked_submission_id  num_comments  score          subreddit  \\\n",
              "224716                  NaN           2.0     20  mildlyinteresting   \n",
              "525216               bzptls           NaN      8   psbattle_artwork   \n",
              "104777                  NaN           0.0      4         pareidolia   \n",
              "467061                  NaN           0.0      9    fakehistoryporn   \n",
              "350361               azb1dq           NaN     11   psbattle_artwork   \n",
              "\n",
              "                                                    title  upvote_ratio  \\\n",
              "224716  This basket made out of old candy wrappers (fe...          0.80   \n",
              "525216                            Ugh, shitty connection!           NaN   \n",
              "104777                                        Evil racoon          0.70   \n",
              "467061  German Tank Ace Michael Wittman's last stand a...          0.92   \n",
              "350361                         The Dread of Lancaster Bay           NaN   \n",
              "\n",
              "        2_way_label  3_way_label  6_way_label  \n",
              "224716            1            0            0  \n",
              "525216            0            2            4  \n",
              "104777            0            2            2  \n",
              "467061            0            2            2  \n",
              "350361            0            2            4  "
            ],
            "text/html": [
              "\n",
              "  <div id=\"df-53855d0d-ca3a-4a29-99be-3330a4eb3b90\">\n",
              "    <div class=\"colab-df-container\">\n",
              "      <div>\n",
              "<style scoped>\n",
              "    .dataframe tbody tr th:only-of-type {\n",
              "        vertical-align: middle;\n",
              "    }\n",
              "\n",
              "    .dataframe tbody tr th {\n",
              "        vertical-align: top;\n",
              "    }\n",
              "\n",
              "    .dataframe thead th {\n",
              "        text-align: right;\n",
              "    }\n",
              "</style>\n",
              "<table border=\"1\" class=\"dataframe\">\n",
              "  <thead>\n",
              "    <tr style=\"text-align: right;\">\n",
              "      <th></th>\n",
              "      <th>author</th>\n",
              "      <th>clean_title</th>\n",
              "      <th>created_utc</th>\n",
              "      <th>domain</th>\n",
              "      <th>hasImage</th>\n",
              "      <th>id</th>\n",
              "      <th>image_url</th>\n",
              "      <th>linked_submission_id</th>\n",
              "      <th>num_comments</th>\n",
              "      <th>score</th>\n",
              "      <th>subreddit</th>\n",
              "      <th>title</th>\n",
              "      <th>upvote_ratio</th>\n",
              "      <th>2_way_label</th>\n",
              "      <th>3_way_label</th>\n",
              "      <th>6_way_label</th>\n",
              "    </tr>\n",
              "  </thead>\n",
              "  <tbody>\n",
              "    <tr>\n",
              "      <th>224716</th>\n",
              "      <td>T3nd0o</td>\n",
              "      <td>this basket made out of old candy wrappers fea...</td>\n",
              "      <td>1.566649e+09</td>\n",
              "      <td>i.redd.it</td>\n",
              "      <td>True</td>\n",
              "      <td>cusqgc</td>\n",
              "      <td>https://preview.redd.it/vz64u4m03ei31.jpg?widt...</td>\n",
              "      <td>NaN</td>\n",
              "      <td>2.0</td>\n",
              "      <td>20</td>\n",
              "      <td>mildlyinteresting</td>\n",
              "      <td>This basket made out of old candy wrappers (fe...</td>\n",
              "      <td>0.80</td>\n",
              "      <td>1</td>\n",
              "      <td>0</td>\n",
              "      <td>0</td>\n",
              "    </tr>\n",
              "    <tr>\n",
              "      <th>525216</th>\n",
              "      <td>TindalosKeeper</td>\n",
              "      <td>ugh shitty connection</td>\n",
              "      <td>1.560360e+09</td>\n",
              "      <td>NaN</td>\n",
              "      <td>True</td>\n",
              "      <td>eqwq1xm</td>\n",
              "      <td>https://i.imgur.com/jhHIGoj.jpg</td>\n",
              "      <td>bzptls</td>\n",
              "      <td>NaN</td>\n",
              "      <td>8</td>\n",
              "      <td>psbattle_artwork</td>\n",
              "      <td>Ugh, shitty connection!</td>\n",
              "      <td>NaN</td>\n",
              "      <td>0</td>\n",
              "      <td>2</td>\n",
              "      <td>4</td>\n",
              "    </tr>\n",
              "    <tr>\n",
              "      <th>104777</th>\n",
              "      <td>ZAPP3Rx</td>\n",
              "      <td>evil racoon</td>\n",
              "      <td>1.508945e+09</td>\n",
              "      <td>i.redd.it</td>\n",
              "      <td>True</td>\n",
              "      <td>78od95</td>\n",
              "      <td>https://preview.redd.it/as247oqduztz.jpg?width...</td>\n",
              "      <td>NaN</td>\n",
              "      <td>0.0</td>\n",
              "      <td>4</td>\n",
              "      <td>pareidolia</td>\n",
              "      <td>Evil racoon</td>\n",
              "      <td>0.70</td>\n",
              "      <td>0</td>\n",
              "      <td>2</td>\n",
              "      <td>2</td>\n",
              "    </tr>\n",
              "    <tr>\n",
              "      <th>467061</th>\n",
              "      <td>Count_Mirchaud</td>\n",
              "      <td>german tank ace michael wittmans last stand ag...</td>\n",
              "      <td>1.481311e+09</td>\n",
              "      <td>imgur.com</td>\n",
              "      <td>True</td>\n",
              "      <td>5hfnof</td>\n",
              "      <td>https://external-preview.redd.it/F4ThHaQXXlqf3...</td>\n",
              "      <td>NaN</td>\n",
              "      <td>0.0</td>\n",
              "      <td>9</td>\n",
              "      <td>fakehistoryporn</td>\n",
              "      <td>German Tank Ace Michael Wittman's last stand a...</td>\n",
              "      <td>0.92</td>\n",
              "      <td>0</td>\n",
              "      <td>2</td>\n",
              "      <td>2</td>\n",
              "    </tr>\n",
              "    <tr>\n",
              "      <th>350361</th>\n",
              "      <td>GuysnDolls</td>\n",
              "      <td>the dread of lancaster bay</td>\n",
              "      <td>1.552235e+09</td>\n",
              "      <td>NaN</td>\n",
              "      <td>True</td>\n",
              "      <td>ei7pl4z</td>\n",
              "      <td>https://i.imgur.com/RgHJ9D3.jpg</td>\n",
              "      <td>azb1dq</td>\n",
              "      <td>NaN</td>\n",
              "      <td>11</td>\n",
              "      <td>psbattle_artwork</td>\n",
              "      <td>The Dread of Lancaster Bay</td>\n",
              "      <td>NaN</td>\n",
              "      <td>0</td>\n",
              "      <td>2</td>\n",
              "      <td>4</td>\n",
              "    </tr>\n",
              "  </tbody>\n",
              "</table>\n",
              "</div>\n",
              "      <button class=\"colab-df-convert\" onclick=\"convertToInteractive('df-53855d0d-ca3a-4a29-99be-3330a4eb3b90')\"\n",
              "              title=\"Convert this dataframe to an interactive table.\"\n",
              "              style=\"display:none;\">\n",
              "        \n",
              "  <svg xmlns=\"http://www.w3.org/2000/svg\" height=\"24px\"viewBox=\"0 0 24 24\"\n",
              "       width=\"24px\">\n",
              "    <path d=\"M0 0h24v24H0V0z\" fill=\"none\"/>\n",
              "    <path d=\"M18.56 5.44l.94 2.06.94-2.06 2.06-.94-2.06-.94-.94-2.06-.94 2.06-2.06.94zm-11 1L8.5 8.5l.94-2.06 2.06-.94-2.06-.94L8.5 2.5l-.94 2.06-2.06.94zm10 10l.94 2.06.94-2.06 2.06-.94-2.06-.94-.94-2.06-.94 2.06-2.06.94z\"/><path d=\"M17.41 7.96l-1.37-1.37c-.4-.4-.92-.59-1.43-.59-.52 0-1.04.2-1.43.59L10.3 9.45l-7.72 7.72c-.78.78-.78 2.05 0 2.83L4 21.41c.39.39.9.59 1.41.59.51 0 1.02-.2 1.41-.59l7.78-7.78 2.81-2.81c.8-.78.8-2.07 0-2.86zM5.41 20L4 18.59l7.72-7.72 1.47 1.35L5.41 20z\"/>\n",
              "  </svg>\n",
              "      </button>\n",
              "      \n",
              "  <style>\n",
              "    .colab-df-container {\n",
              "      display:flex;\n",
              "      flex-wrap:wrap;\n",
              "      gap: 12px;\n",
              "    }\n",
              "\n",
              "    .colab-df-convert {\n",
              "      background-color: #E8F0FE;\n",
              "      border: none;\n",
              "      border-radius: 50%;\n",
              "      cursor: pointer;\n",
              "      display: none;\n",
              "      fill: #1967D2;\n",
              "      height: 32px;\n",
              "      padding: 0 0 0 0;\n",
              "      width: 32px;\n",
              "    }\n",
              "\n",
              "    .colab-df-convert:hover {\n",
              "      background-color: #E2EBFA;\n",
              "      box-shadow: 0px 1px 2px rgba(60, 64, 67, 0.3), 0px 1px 3px 1px rgba(60, 64, 67, 0.15);\n",
              "      fill: #174EA6;\n",
              "    }\n",
              "\n",
              "    [theme=dark] .colab-df-convert {\n",
              "      background-color: #3B4455;\n",
              "      fill: #D2E3FC;\n",
              "    }\n",
              "\n",
              "    [theme=dark] .colab-df-convert:hover {\n",
              "      background-color: #434B5C;\n",
              "      box-shadow: 0px 1px 3px 1px rgba(0, 0, 0, 0.15);\n",
              "      filter: drop-shadow(0px 1px 2px rgba(0, 0, 0, 0.3));\n",
              "      fill: #FFFFFF;\n",
              "    }\n",
              "  </style>\n",
              "\n",
              "      <script>\n",
              "        const buttonEl =\n",
              "          document.querySelector('#df-53855d0d-ca3a-4a29-99be-3330a4eb3b90 button.colab-df-convert');\n",
              "        buttonEl.style.display =\n",
              "          google.colab.kernel.accessAllowed ? 'block' : 'none';\n",
              "\n",
              "        async function convertToInteractive(key) {\n",
              "          const element = document.querySelector('#df-53855d0d-ca3a-4a29-99be-3330a4eb3b90');\n",
              "          const dataTable =\n",
              "            await google.colab.kernel.invokeFunction('convertToInteractive',\n",
              "                                                     [key], {});\n",
              "          if (!dataTable) return;\n",
              "\n",
              "          const docLinkHtml = 'Like what you see? Visit the ' +\n",
              "            '<a target=\"_blank\" href=https://colab.research.google.com/notebooks/data_table.ipynb>data table notebook</a>'\n",
              "            + ' to learn more about interactive tables.';\n",
              "          element.innerHTML = '';\n",
              "          dataTable['output_type'] = 'display_data';\n",
              "          await google.colab.output.renderOutput(dataTable, element);\n",
              "          const docLink = document.createElement('div');\n",
              "          docLink.innerHTML = docLinkHtml;\n",
              "          element.appendChild(docLink);\n",
              "        }\n",
              "      </script>\n",
              "    </div>\n",
              "  </div>\n",
              "  "
            ]
          },
          "metadata": {},
          "execution_count": 55
        }
      ]
    },
    {
      "cell_type": "markdown",
      "source": [
        "We only keep the clean title and the columns for classification:"
      ],
      "metadata": {
        "id": "jMWzHdA81k1y"
      }
    },
    {
      "cell_type": "code",
      "source": [
        "train_data = train[[\"clean_title\", \"2_way_label\", \"3_way_label\", \"6_way_label\"]]\n",
        "val_data=val[[\"clean_title\", \"2_way_label\", \"3_way_label\", \"6_way_label\"]]\n",
        "test_data=test[[\"clean_title\", \"2_way_label\", \"3_way_label\", \"6_way_label\"]]\n",
        "# remove records with Nan values\n",
        "train_data = train_data.dropna()\n",
        "val_data = val_data.dropna()\n",
        "test_data = test_data.dropna()\n"
      ],
      "metadata": {
        "id": "S4fJM65f04Tn"
      },
      "execution_count": 56,
      "outputs": []
    },
    {
      "cell_type": "code",
      "source": [
        "train_data.head()"
      ],
      "metadata": {
        "id": "waBd194B1Ykd",
        "colab": {
          "base_uri": "https://localhost:8080/",
          "height": 206
        },
        "outputId": "27a6e37b-ab97-492e-b273-b161d69968b2"
      },
      "execution_count": 57,
      "outputs": [
        {
          "output_type": "execute_result",
          "data": {
            "text/plain": [
              "                                              clean_title  2_way_label  \\\n",
              "224716  this basket made out of old candy wrappers fea...            1   \n",
              "525216                              ugh shitty connection            0   \n",
              "104777                                        evil racoon            0   \n",
              "467061  german tank ace michael wittmans last stand ag...            0   \n",
              "350361                         the dread of lancaster bay            0   \n",
              "\n",
              "        3_way_label  6_way_label  \n",
              "224716            0            0  \n",
              "525216            2            4  \n",
              "104777            2            2  \n",
              "467061            2            2  \n",
              "350361            2            4  "
            ],
            "text/html": [
              "\n",
              "  <div id=\"df-681dce2f-4375-4064-9c22-a1166f650597\">\n",
              "    <div class=\"colab-df-container\">\n",
              "      <div>\n",
              "<style scoped>\n",
              "    .dataframe tbody tr th:only-of-type {\n",
              "        vertical-align: middle;\n",
              "    }\n",
              "\n",
              "    .dataframe tbody tr th {\n",
              "        vertical-align: top;\n",
              "    }\n",
              "\n",
              "    .dataframe thead th {\n",
              "        text-align: right;\n",
              "    }\n",
              "</style>\n",
              "<table border=\"1\" class=\"dataframe\">\n",
              "  <thead>\n",
              "    <tr style=\"text-align: right;\">\n",
              "      <th></th>\n",
              "      <th>clean_title</th>\n",
              "      <th>2_way_label</th>\n",
              "      <th>3_way_label</th>\n",
              "      <th>6_way_label</th>\n",
              "    </tr>\n",
              "  </thead>\n",
              "  <tbody>\n",
              "    <tr>\n",
              "      <th>224716</th>\n",
              "      <td>this basket made out of old candy wrappers fea...</td>\n",
              "      <td>1</td>\n",
              "      <td>0</td>\n",
              "      <td>0</td>\n",
              "    </tr>\n",
              "    <tr>\n",
              "      <th>525216</th>\n",
              "      <td>ugh shitty connection</td>\n",
              "      <td>0</td>\n",
              "      <td>2</td>\n",
              "      <td>4</td>\n",
              "    </tr>\n",
              "    <tr>\n",
              "      <th>104777</th>\n",
              "      <td>evil racoon</td>\n",
              "      <td>0</td>\n",
              "      <td>2</td>\n",
              "      <td>2</td>\n",
              "    </tr>\n",
              "    <tr>\n",
              "      <th>467061</th>\n",
              "      <td>german tank ace michael wittmans last stand ag...</td>\n",
              "      <td>0</td>\n",
              "      <td>2</td>\n",
              "      <td>2</td>\n",
              "    </tr>\n",
              "    <tr>\n",
              "      <th>350361</th>\n",
              "      <td>the dread of lancaster bay</td>\n",
              "      <td>0</td>\n",
              "      <td>2</td>\n",
              "      <td>4</td>\n",
              "    </tr>\n",
              "  </tbody>\n",
              "</table>\n",
              "</div>\n",
              "      <button class=\"colab-df-convert\" onclick=\"convertToInteractive('df-681dce2f-4375-4064-9c22-a1166f650597')\"\n",
              "              title=\"Convert this dataframe to an interactive table.\"\n",
              "              style=\"display:none;\">\n",
              "        \n",
              "  <svg xmlns=\"http://www.w3.org/2000/svg\" height=\"24px\"viewBox=\"0 0 24 24\"\n",
              "       width=\"24px\">\n",
              "    <path d=\"M0 0h24v24H0V0z\" fill=\"none\"/>\n",
              "    <path d=\"M18.56 5.44l.94 2.06.94-2.06 2.06-.94-2.06-.94-.94-2.06-.94 2.06-2.06.94zm-11 1L8.5 8.5l.94-2.06 2.06-.94-2.06-.94L8.5 2.5l-.94 2.06-2.06.94zm10 10l.94 2.06.94-2.06 2.06-.94-2.06-.94-.94-2.06-.94 2.06-2.06.94z\"/><path d=\"M17.41 7.96l-1.37-1.37c-.4-.4-.92-.59-1.43-.59-.52 0-1.04.2-1.43.59L10.3 9.45l-7.72 7.72c-.78.78-.78 2.05 0 2.83L4 21.41c.39.39.9.59 1.41.59.51 0 1.02-.2 1.41-.59l7.78-7.78 2.81-2.81c.8-.78.8-2.07 0-2.86zM5.41 20L4 18.59l7.72-7.72 1.47 1.35L5.41 20z\"/>\n",
              "  </svg>\n",
              "      </button>\n",
              "      \n",
              "  <style>\n",
              "    .colab-df-container {\n",
              "      display:flex;\n",
              "      flex-wrap:wrap;\n",
              "      gap: 12px;\n",
              "    }\n",
              "\n",
              "    .colab-df-convert {\n",
              "      background-color: #E8F0FE;\n",
              "      border: none;\n",
              "      border-radius: 50%;\n",
              "      cursor: pointer;\n",
              "      display: none;\n",
              "      fill: #1967D2;\n",
              "      height: 32px;\n",
              "      padding: 0 0 0 0;\n",
              "      width: 32px;\n",
              "    }\n",
              "\n",
              "    .colab-df-convert:hover {\n",
              "      background-color: #E2EBFA;\n",
              "      box-shadow: 0px 1px 2px rgba(60, 64, 67, 0.3), 0px 1px 3px 1px rgba(60, 64, 67, 0.15);\n",
              "      fill: #174EA6;\n",
              "    }\n",
              "\n",
              "    [theme=dark] .colab-df-convert {\n",
              "      background-color: #3B4455;\n",
              "      fill: #D2E3FC;\n",
              "    }\n",
              "\n",
              "    [theme=dark] .colab-df-convert:hover {\n",
              "      background-color: #434B5C;\n",
              "      box-shadow: 0px 1px 3px 1px rgba(0, 0, 0, 0.15);\n",
              "      filter: drop-shadow(0px 1px 2px rgba(0, 0, 0, 0.3));\n",
              "      fill: #FFFFFF;\n",
              "    }\n",
              "  </style>\n",
              "\n",
              "      <script>\n",
              "        const buttonEl =\n",
              "          document.querySelector('#df-681dce2f-4375-4064-9c22-a1166f650597 button.colab-df-convert');\n",
              "        buttonEl.style.display =\n",
              "          google.colab.kernel.accessAllowed ? 'block' : 'none';\n",
              "\n",
              "        async function convertToInteractive(key) {\n",
              "          const element = document.querySelector('#df-681dce2f-4375-4064-9c22-a1166f650597');\n",
              "          const dataTable =\n",
              "            await google.colab.kernel.invokeFunction('convertToInteractive',\n",
              "                                                     [key], {});\n",
              "          if (!dataTable) return;\n",
              "\n",
              "          const docLinkHtml = 'Like what you see? Visit the ' +\n",
              "            '<a target=\"_blank\" href=https://colab.research.google.com/notebooks/data_table.ipynb>data table notebook</a>'\n",
              "            + ' to learn more about interactive tables.';\n",
              "          element.innerHTML = '';\n",
              "          dataTable['output_type'] = 'display_data';\n",
              "          await google.colab.output.renderOutput(dataTable, element);\n",
              "          const docLink = document.createElement('div');\n",
              "          docLink.innerHTML = docLinkHtml;\n",
              "          element.appendChild(docLink);\n",
              "        }\n",
              "      </script>\n",
              "    </div>\n",
              "  </div>\n",
              "  "
            ]
          },
          "metadata": {},
          "execution_count": 57
        }
      ]
    },
    {
      "cell_type": "markdown",
      "source": [
        "We save the texts:"
      ],
      "metadata": {
        "id": "8pnPsRs03Qq_"
      }
    },
    {
      "cell_type": "code",
      "source": [
        "X_train = train_data[\"clean_title\"].values.tolist()\n",
        "X_val = val_data[\"clean_title\"].values.tolist()\n",
        "X_test = test_data[\"clean_title\"].values.tolist()\n",
        "print(type(X_train))"
      ],
      "metadata": {
        "id": "o2fZwhZ72BRO",
        "colab": {
          "base_uri": "https://localhost:8080/"
        },
        "outputId": "dcd4a045-ccbc-4269-98a4-812de3840641"
      },
      "execution_count": 58,
      "outputs": [
        {
          "output_type": "stream",
          "name": "stdout",
          "text": [
            "<class 'list'>\n"
          ]
        }
      ]
    },
    {
      "cell_type": "markdown",
      "source": [
        "We show some examples:"
      ],
      "metadata": {
        "id": "5sJtFRW4E0_k"
      }
    },
    {
      "cell_type": "code",
      "source": [
        "print(X_train[0])\n",
        "print(X_val[0])\n",
        "print(X_test[0])\n"
      ],
      "metadata": {
        "id": "uSZxw3tJ3_eT",
        "colab": {
          "base_uri": "https://localhost:8080/"
        },
        "outputId": "9ce2eb2b-03f1-41a3-8b3e-6644c0d12610"
      },
      "execution_count": 59,
      "outputs": [
        {
          "output_type": "stream",
          "name": "stdout",
          "text": [
            "this basket made out of old candy wrappers feat some hot garlic bread\n",
            "catana contender for mortal kombat\n",
            "cutout\n"
          ]
        }
      ]
    },
    {
      "cell_type": "markdown",
      "source": [
        "We decide what type of classication we will address: \n",
        "- binary (2_way_label)\n",
        "- tres classes (3_way_label)\n",
        "- 6 classes (6_way_label)"
      ],
      "metadata": {
        "id": "4fuE_ZJ_1vNg"
      }
    },
    {
      "cell_type": "code",
      "source": [
        "TYPE_CLASSIFICATION = 6 # 2, 3 OR 6"
      ],
      "metadata": {
        "id": "2OjD_1VI2KSG"
      },
      "execution_count": 60,
      "outputs": []
    },
    {
      "cell_type": "code",
      "source": [
        "y_train = train_data[str(TYPE_CLASSIFICATION) + '_way_label'].values.tolist()\n",
        "y_val = val_data[str(TYPE_CLASSIFICATION) + '_way_label'].values.tolist()\n",
        "y_test = test_data[str(TYPE_CLASSIFICATION) + '_way_label'].values.tolist()\n"
      ],
      "metadata": {
        "id": "NIj97YP53Tha"
      },
      "execution_count": 61,
      "outputs": []
    },
    {
      "cell_type": "markdown",
      "source": [
        "We do not need to encoder the labels because they are already provided as numbers. \n",
        "\n",
        "That is, in the 6_way_label, the labels are 0, 1, 2, 3, 4, 5. \n",
        "- 0: true\n",
        "- 1: Satire/Parody:\n",
        "- 2: Misleading Content\n",
        "- 3: Imposter Content\n",
        "- 4: False Connection\n",
        "- 5: Manipulated Content\n",
        "\n",
        "In the 3_way_label, the labels are 0, 1, 2:\n",
        "- 0: true\n",
        "- 1: the sample is fake and contains text that is true (i.e. direct quotes from propaganda posters)\n",
        "- 2: False\n",
        "\n",
        "In the 2_way_label, the labels are 0, 1:\n",
        "- 0: true\n",
        "- 1: False\n"
      ],
      "metadata": {
        "id": "i45R7nwO4NaW"
      }
    },
    {
      "cell_type": "code",
      "source": [
        "labels_dict = {}\n",
        "if TYPE_CLASSIFICATION == 2:\n",
        "    labels_dict[0] = \"True\"\n",
        "    labels_dict[1] = \"False\"\n",
        "elif TYPE_CLASSIFICATION == 3:\n",
        "    labels_dict[0] = \"True\"\n",
        "    labels_dict[1] = \"Fake contains True\"\n",
        "    labels_dict[2] = \"False\"\n",
        "elif TYPE_CLASSIFICATION == 6:\n",
        "    labels_dict[0] = \"True\"\n",
        "    labels_dict[1] = \"Satire/Parody\"\n",
        "    labels_dict[2] = \"Misleading Content\"\n",
        "    labels_dict[3] = \"Imposter Content\"\n",
        "    labels_dict[4] = \"False Connection\"\n",
        "    labels_dict[5] = \"Manipulated Content\"\n",
        "\n",
        "print(labels_dict)"
      ],
      "metadata": {
        "id": "BPDLTrIn6LaE",
        "colab": {
          "base_uri": "https://localhost:8080/"
        },
        "outputId": "0f2c26d9-10f6-4018-ba61-6881569abc89"
      },
      "execution_count": 62,
      "outputs": [
        {
          "output_type": "stream",
          "name": "stdout",
          "text": [
            "{0: 'True', 1: 'Satire/Parody', 2: 'Misleading Content', 3: 'Imposter Content', 4: 'False Connection', 5: 'Manipulated Content'}\n"
          ]
        }
      ]
    },
    {
      "cell_type": "markdown",
      "source": [
        "We show some examples and their labels:"
      ],
      "metadata": {
        "id": "_n9La3B2E832"
      }
    },
    {
      "cell_type": "code",
      "source": [
        "print(X_train[0], y_train[0], labels_dict[y_train[0]])\n",
        "print(X_val[0], y_val[0], labels_dict[y_val[0]])\n",
        "print(X_test[0], y_test[0], labels_dict[y_test[0]])\n",
        "\n",
        "\n"
      ],
      "metadata": {
        "id": "PEWyU4ho2oIw",
        "colab": {
          "base_uri": "https://localhost:8080/"
        },
        "outputId": "92ad8878-2c3d-4a0e-a0fa-5de3b4535a9b"
      },
      "execution_count": 63,
      "outputs": [
        {
          "output_type": "stream",
          "name": "stdout",
          "text": [
            "this basket made out of old candy wrappers feat some hot garlic bread 0 True\n",
            "catana contender for mortal kombat 4 False Connection\n",
            "cutout 4 False Connection\n"
          ]
        }
      ]
    },
    {
      "cell_type": "markdown",
      "source": [
        "## Data Visualization\n",
        "\n",
        "Here we should provide more detail about the dataset (class distribution, average lenght of the texts, etc)"
      ],
      "metadata": {
        "id": "sH9cEVWL7eef"
      }
    },
    {
      "cell_type": "code",
      "source": [
        "# we will do it after"
      ],
      "metadata": {
        "id": "mQkDDujH7oES"
      },
      "execution_count": 64,
      "outputs": []
    },
    {
      "cell_type": "markdown",
      "source": [
        "## Transformers"
      ],
      "metadata": {
        "id": "LHmAr8AC7mIZ"
      }
    },
    {
      "cell_type": "markdown",
      "source": [
        "First, we install the libraries:"
      ],
      "metadata": {
        "id": "yTr53tRT71SH"
      }
    },
    {
      "cell_type": "code",
      "source": [
        "!pip3 install transformers numpy torch sklearn\n"
      ],
      "metadata": {
        "id": "RbId8-_273Cy",
        "colab": {
          "base_uri": "https://localhost:8080/"
        },
        "outputId": "ced655ab-79ee-4662-b85d-80382535bf21"
      },
      "execution_count": 65,
      "outputs": [
        {
          "output_type": "stream",
          "name": "stdout",
          "text": [
            "Requirement already satisfied: transformers in /usr/local/lib/python3.7/dist-packages (4.17.0)\n",
            "Requirement already satisfied: numpy in /usr/local/lib/python3.7/dist-packages (1.21.5)\n",
            "Requirement already satisfied: torch in /usr/local/lib/python3.7/dist-packages (1.10.0+cu111)\n",
            "Requirement already satisfied: sklearn in /usr/local/lib/python3.7/dist-packages (0.0)\n",
            "Requirement already satisfied: filelock in /usr/local/lib/python3.7/dist-packages (from transformers) (3.6.0)\n",
            "Requirement already satisfied: packaging>=20.0 in /usr/local/lib/python3.7/dist-packages (from transformers) (21.3)\n",
            "Requirement already satisfied: huggingface-hub<1.0,>=0.1.0 in /usr/local/lib/python3.7/dist-packages (from transformers) (0.4.0)\n",
            "Requirement already satisfied: tokenizers!=0.11.3,>=0.11.1 in /usr/local/lib/python3.7/dist-packages (from transformers) (0.11.6)\n",
            "Requirement already satisfied: tqdm>=4.27 in /usr/local/lib/python3.7/dist-packages (from transformers) (4.63.0)\n",
            "Requirement already satisfied: requests in /usr/local/lib/python3.7/dist-packages (from transformers) (2.23.0)\n",
            "Requirement already satisfied: sacremoses in /usr/local/lib/python3.7/dist-packages (from transformers) (0.0.49)\n",
            "Requirement already satisfied: pyyaml>=5.1 in /usr/local/lib/python3.7/dist-packages (from transformers) (6.0)\n",
            "Requirement already satisfied: importlib-metadata in /usr/local/lib/python3.7/dist-packages (from transformers) (4.11.3)\n",
            "Requirement already satisfied: regex!=2019.12.17 in /usr/local/lib/python3.7/dist-packages (from transformers) (2019.12.20)\n",
            "Requirement already satisfied: typing-extensions>=3.7.4.3 in /usr/local/lib/python3.7/dist-packages (from huggingface-hub<1.0,>=0.1.0->transformers) (3.10.0.2)\n",
            "Requirement already satisfied: pyparsing!=3.0.5,>=2.0.2 in /usr/local/lib/python3.7/dist-packages (from packaging>=20.0->transformers) (3.0.7)\n",
            "Requirement already satisfied: scikit-learn in /usr/local/lib/python3.7/dist-packages (from sklearn) (1.0.2)\n",
            "Requirement already satisfied: zipp>=0.5 in /usr/local/lib/python3.7/dist-packages (from importlib-metadata->transformers) (3.7.0)\n",
            "Requirement already satisfied: idna<3,>=2.5 in /usr/local/lib/python3.7/dist-packages (from requests->transformers) (2.10)\n",
            "Requirement already satisfied: urllib3!=1.25.0,!=1.25.1,<1.26,>=1.21.1 in /usr/local/lib/python3.7/dist-packages (from requests->transformers) (1.24.3)\n",
            "Requirement already satisfied: certifi>=2017.4.17 in /usr/local/lib/python3.7/dist-packages (from requests->transformers) (2021.10.8)\n",
            "Requirement already satisfied: chardet<4,>=3.0.2 in /usr/local/lib/python3.7/dist-packages (from requests->transformers) (3.0.4)\n",
            "Requirement already satisfied: six in /usr/local/lib/python3.7/dist-packages (from sacremoses->transformers) (1.15.0)\n",
            "Requirement already satisfied: click in /usr/local/lib/python3.7/dist-packages (from sacremoses->transformers) (7.1.2)\n",
            "Requirement already satisfied: joblib in /usr/local/lib/python3.7/dist-packages (from sacremoses->transformers) (1.1.0)\n",
            "Requirement already satisfied: threadpoolctl>=2.0.0 in /usr/local/lib/python3.7/dist-packages (from scikit-learn->sklearn) (3.1.0)\n",
            "Requirement already satisfied: scipy>=1.1.0 in /usr/local/lib/python3.7/dist-packages (from scikit-learn->sklearn) (1.4.1)\n"
          ]
        }
      ]
    },
    {
      "cell_type": "markdown",
      "source": [
        "To make our experiments reproducible, we set a random seed:\n"
      ],
      "metadata": {
        "id": "T-SI-hLj8NXS"
      }
    },
    {
      "cell_type": "code",
      "source": [
        "import torch\n",
        "import numpy as np\n",
        "torch.manual_seed(0)\n",
        "np.random.seed(0)"
      ],
      "metadata": {
        "id": "FvnP5Zn88Nh2"
      },
      "execution_count": 66,
      "outputs": []
    },
    {
      "cell_type": "markdown",
      "source": [
        "Import the necessary modules:"
      ],
      "metadata": {
        "id": "T2UqgU7O8cCn"
      }
    },
    {
      "cell_type": "code",
      "source": [
        "import torch\n",
        "from transformers.file_utils import is_tf_available, is_torch_available, is_torch_tpu_available\n",
        "from transformers import BertTokenizerFast, BertForSequenceClassification\n",
        "from transformers import Trainer, TrainingArguments\n",
        "\n"
      ],
      "metadata": {
        "id": "KE4SHkAu8d9J"
      },
      "execution_count": 67,
      "outputs": []
    },
    {
      "cell_type": "markdown",
      "source": [
        "we'll be using the BERT model. More specifically, we'll be using bert-base-uncased pre-trained weights from the library."
      ],
      "metadata": {
        "id": "x4KPOOS_8nfE"
      }
    },
    {
      "cell_type": "code",
      "source": [
        "# the model we gonna train, base uncased BERT\n",
        "# check text classification models here: https://huggingface.co/models?filter=text-classification\n",
        "model_name = \"bert-base-uncased\"\n",
        "# max sequence length for each document/sentence sample\n",
        "max_length = 512"
      ],
      "metadata": {
        "id": "loQ3yQJC8iNO"
      },
      "execution_count": 68,
      "outputs": []
    },
    {
      "cell_type": "markdown",
      "source": [
        "Download the tokenizer provided by this model:"
      ],
      "metadata": {
        "id": "M3anFpYK8uIF"
      }
    },
    {
      "cell_type": "code",
      "source": [
        "# load the tokenizer\n",
        "tokenizer = BertTokenizerFast.from_pretrained(model_name, do_lower_case=True)"
      ],
      "metadata": {
        "id": "7jJH8gBb8tW3",
        "colab": {
          "base_uri": "https://localhost:8080/"
        },
        "outputId": "fdbca89b-2642-4659-c6ba-60c31cfd721a"
      },
      "execution_count": 69,
      "outputs": [
        {
          "output_type": "stream",
          "name": "stderr",
          "text": [
            "loading file https://huggingface.co/bert-base-uncased/resolve/main/vocab.txt from cache at /root/.cache/huggingface/transformers/45c3f7a79a80e1cf0a489e5c62b43f173c15db47864303a55d623bb3c96f72a5.d789d64ebfe299b0e416afc4a169632f903f693095b4629a7ea271d5a0cf2c99\n",
            "loading file https://huggingface.co/bert-base-uncased/resolve/main/tokenizer.json from cache at /root/.cache/huggingface/transformers/534479488c54aeaf9c3406f647aa2ec13648c06771ffe269edabebd4c412da1d.7f2721073f19841be16f41b0a70b600ca6b880c8f3df6f3535cbc704371bdfa4\n",
            "loading file https://huggingface.co/bert-base-uncased/resolve/main/added_tokens.json from cache at None\n",
            "loading file https://huggingface.co/bert-base-uncased/resolve/main/special_tokens_map.json from cache at None\n",
            "loading file https://huggingface.co/bert-base-uncased/resolve/main/tokenizer_config.json from cache at /root/.cache/huggingface/transformers/c1d7f0a763fb63861cc08553866f1fc3e5a6f4f07621be277452d26d71303b7e.20430bd8e10ef77a7d2977accefe796051e01bc2fc4aa146bc862997a1a15e79\n",
            "loading configuration file https://huggingface.co/bert-base-uncased/resolve/main/config.json from cache at /root/.cache/huggingface/transformers/3c61d016573b14f7f008c02c4e51a366c67ab274726fe2910691e2a761acf43e.37395cee442ab11005bcd270f3c34464dc1704b715b5d7d52b1a461abe3b9e4e\n",
            "Model config BertConfig {\n",
            "  \"_name_or_path\": \"bert-base-uncased\",\n",
            "  \"architectures\": [\n",
            "    \"BertForMaskedLM\"\n",
            "  ],\n",
            "  \"attention_probs_dropout_prob\": 0.1,\n",
            "  \"classifier_dropout\": null,\n",
            "  \"gradient_checkpointing\": false,\n",
            "  \"hidden_act\": \"gelu\",\n",
            "  \"hidden_dropout_prob\": 0.1,\n",
            "  \"hidden_size\": 768,\n",
            "  \"initializer_range\": 0.02,\n",
            "  \"intermediate_size\": 3072,\n",
            "  \"layer_norm_eps\": 1e-12,\n",
            "  \"max_position_embeddings\": 512,\n",
            "  \"model_type\": \"bert\",\n",
            "  \"num_attention_heads\": 12,\n",
            "  \"num_hidden_layers\": 12,\n",
            "  \"pad_token_id\": 0,\n",
            "  \"position_embedding_type\": \"absolute\",\n",
            "  \"transformers_version\": \"4.17.0\",\n",
            "  \"type_vocab_size\": 2,\n",
            "  \"use_cache\": true,\n",
            "  \"vocab_size\": 30522\n",
            "}\n",
            "\n"
          ]
        }
      ]
    },
    {
      "cell_type": "markdown",
      "source": [
        "Now let's use our tokenizer to encode our corpus. This tokenizer translate the tokens to ids. We set truncation to True so that we eliminate tokens that go above max_length, we also set padding to True to pad documents that are less than max_length with empty tokens."
      ],
      "metadata": {
        "id": "zYJsweoW83Qt"
      }
    },
    {
      "cell_type": "code",
      "source": [
        "# tokenize the dataset, truncate when passed `max_length`, \n",
        "# and pad with 0's when less than `max_length`\n",
        "train_encodings = tokenizer(X_train, truncation=True, padding=True, max_length=max_length)\n",
        "val_encodings = tokenizer(X_val, truncation=True, padding=True, max_length=max_length)\n",
        "test_encodings = tokenizer(X_test, truncation=True, padding=True, max_length=max_length)\n"
      ],
      "metadata": {
        "id": "JgwTmbtC86B5"
      },
      "execution_count": 70,
      "outputs": []
    },
    {
      "cell_type": "markdown",
      "source": [
        "The below code wraps our tokenized text data into a torch Dataset. Since we gonna use Trainer from Transformers library, it expects our dataset as a torch.utils.data.Dataset, so we made a simple class that implements the len() method that returns the number of samples, and getitem() method to return a data sample at a specific index."
      ],
      "metadata": {
        "id": "0Z6IcjCe9Bk7"
      }
    },
    {
      "cell_type": "code",
      "source": [
        "class TorchDataset(torch.utils.data.Dataset):\n",
        "    def __init__(self, encodings, labels):\n",
        "        self.encodings = encodings\n",
        "        self.labels = labels\n",
        "\n",
        "    def __getitem__(self, idx):\n",
        "        item = {k: torch.tensor(v[idx]) for k, v in self.encodings.items()}\n",
        "        item[\"labels\"] = torch.tensor([self.labels[idx]])\n",
        "        return item\n",
        "\n",
        "    def __len__(self):\n",
        "        return len(self.labels)\n",
        "\n",
        "# convert our tokenized data into a torch Dataset\n",
        "train_torch_dataset = TorchDataset(train_encodings, y_train)\n",
        "val_torch_dataset = TorchDataset(val_encodings, y_val)\n",
        "test_torch_dataset = TorchDataset(test_encodings, y_test)"
      ],
      "metadata": {
        "id": "oovO3dPk9A_0"
      },
      "execution_count": 71,
      "outputs": []
    },
    {
      "cell_type": "code",
      "source": [
        "print(len(train_encodings.encodings), len(y_train))"
      ],
      "metadata": {
        "colab": {
          "base_uri": "https://localhost:8080/"
        },
        "id": "MbQNzihAS0sp",
        "outputId": "dfbbc70e-9055-4ecf-a5ab-82b959f0f2f5"
      },
      "execution_count": 72,
      "outputs": [
        {
          "output_type": "stream",
          "name": "stdout",
          "text": [
            "56400 56400\n"
          ]
        }
      ]
    },
    {
      "cell_type": "markdown",
      "source": [
        "## Training the model\n",
        "\n",
        "Now that we have our data prepared, let's download and load our BERT model and its pre-trained weights. We're using BertForSequenceClassification class from Transformers library, we set num_labels to the length of our available labels, in this case, 2.\n",
        "\n",
        "We also cast our model to our CUDA GPU. If you're on CPU (not suggested), then just delete to() method."
      ],
      "metadata": {
        "id": "Caabgunu9OlB"
      }
    },
    {
      "cell_type": "code",
      "source": [
        "# load the model and pass to CUDA\n",
        "model = BertForSequenceClassification.from_pretrained(model_name, num_labels = TYPE_CLASSIFICATION).to(\"cuda\")"
      ],
      "metadata": {
        "id": "K5yeXOJX9QkB",
        "colab": {
          "base_uri": "https://localhost:8080/"
        },
        "outputId": "cf4b4df1-15b4-4551-d7c9-7f90634b6fbb"
      },
      "execution_count": 73,
      "outputs": [
        {
          "output_type": "stream",
          "name": "stderr",
          "text": [
            "loading configuration file https://huggingface.co/bert-base-uncased/resolve/main/config.json from cache at /root/.cache/huggingface/transformers/3c61d016573b14f7f008c02c4e51a366c67ab274726fe2910691e2a761acf43e.37395cee442ab11005bcd270f3c34464dc1704b715b5d7d52b1a461abe3b9e4e\n",
            "Model config BertConfig {\n",
            "  \"architectures\": [\n",
            "    \"BertForMaskedLM\"\n",
            "  ],\n",
            "  \"attention_probs_dropout_prob\": 0.1,\n",
            "  \"classifier_dropout\": null,\n",
            "  \"gradient_checkpointing\": false,\n",
            "  \"hidden_act\": \"gelu\",\n",
            "  \"hidden_dropout_prob\": 0.1,\n",
            "  \"hidden_size\": 768,\n",
            "  \"id2label\": {\n",
            "    \"0\": \"LABEL_0\",\n",
            "    \"1\": \"LABEL_1\",\n",
            "    \"2\": \"LABEL_2\",\n",
            "    \"3\": \"LABEL_3\",\n",
            "    \"4\": \"LABEL_4\",\n",
            "    \"5\": \"LABEL_5\"\n",
            "  },\n",
            "  \"initializer_range\": 0.02,\n",
            "  \"intermediate_size\": 3072,\n",
            "  \"label2id\": {\n",
            "    \"LABEL_0\": 0,\n",
            "    \"LABEL_1\": 1,\n",
            "    \"LABEL_2\": 2,\n",
            "    \"LABEL_3\": 3,\n",
            "    \"LABEL_4\": 4,\n",
            "    \"LABEL_5\": 5\n",
            "  },\n",
            "  \"layer_norm_eps\": 1e-12,\n",
            "  \"max_position_embeddings\": 512,\n",
            "  \"model_type\": \"bert\",\n",
            "  \"num_attention_heads\": 12,\n",
            "  \"num_hidden_layers\": 12,\n",
            "  \"pad_token_id\": 0,\n",
            "  \"position_embedding_type\": \"absolute\",\n",
            "  \"transformers_version\": \"4.17.0\",\n",
            "  \"type_vocab_size\": 2,\n",
            "  \"use_cache\": true,\n",
            "  \"vocab_size\": 30522\n",
            "}\n",
            "\n",
            "loading weights file https://huggingface.co/bert-base-uncased/resolve/main/pytorch_model.bin from cache at /root/.cache/huggingface/transformers/a8041bf617d7f94ea26d15e218abd04afc2004805632abc0ed2066aa16d50d04.faf6ea826ae9c5867d12b22257f9877e6b8367890837bd60f7c54a29633f7f2f\n",
            "Some weights of the model checkpoint at bert-base-uncased were not used when initializing BertForSequenceClassification: ['cls.predictions.bias', 'cls.predictions.transform.dense.bias', 'cls.predictions.transform.LayerNorm.weight', 'cls.predictions.transform.LayerNorm.bias', 'cls.seq_relationship.bias', 'cls.predictions.transform.dense.weight', 'cls.seq_relationship.weight', 'cls.predictions.decoder.weight']\n",
            "- This IS expected if you are initializing BertForSequenceClassification from the checkpoint of a model trained on another task or with another architecture (e.g. initializing a BertForSequenceClassification model from a BertForPreTraining model).\n",
            "- This IS NOT expected if you are initializing BertForSequenceClassification from the checkpoint of a model that you expect to be exactly identical (initializing a BertForSequenceClassification model from a BertForSequenceClassification model).\n",
            "Some weights of BertForSequenceClassification were not initialized from the model checkpoint at bert-base-uncased and are newly initialized: ['classifier.weight', 'classifier.bias']\n",
            "You should probably TRAIN this model on a down-stream task to be able to use it for predictions and inference.\n"
          ]
        }
      ]
    },
    {
      "cell_type": "markdown",
      "source": [
        "Before we start fine-tuning our model, let's make a simple function to compute the metrics we want. In this case, accuracy.\n",
        "You're free to include any metric you want, I've included accuracy, but you can add precision, recall, etc."
      ],
      "metadata": {
        "id": "42Fh_FKS9sx-"
      }
    },
    {
      "cell_type": "code",
      "source": [
        "from sklearn.metrics import accuracy_score\n",
        "\n",
        "def compute_metrics(pred):\n",
        "  labels = pred.label_ids\n",
        "  preds = pred.predictions.argmax(-1)\n",
        "  # calculate accuracy using sklearn's function\n",
        "  acc = accuracy_score(labels, preds)\n",
        "  return {\n",
        "      'accuracy': acc,\n",
        "  }"
      ],
      "metadata": {
        "id": "59F6bL0O9r3Y"
      },
      "execution_count": 74,
      "outputs": []
    },
    {
      "cell_type": "code",
      "source": [
        "training_args = TrainingArguments(\n",
        "    output_dir='./results',          # output directory\n",
        "    num_train_epochs=1,   # 3           # total number of training epochs\n",
        "    per_device_train_batch_size=8,  # batch size per device during training\n",
        "    per_device_eval_batch_size=20,   # batch size for evaluation\n",
        "    warmup_steps=500,                # number of warmup steps for learning rate scheduler\n",
        "    weight_decay=0.01,               # strength of weight decay\n",
        "    logging_dir='./logs',            # directory for storing logs\n",
        "    load_best_model_at_end=True,     # load the best model when finished training (default metric is loss)\n",
        "    # but you can specify `metric_for_best_model` argument to change to accuracy or other metric\n",
        "    logging_steps=400,               # log & save weights each logging_steps\n",
        "    save_steps=400,\n",
        "    evaluation_strategy=\"steps\",     # evaluate each `logging_steps`\n",
        ")"
      ],
      "metadata": {
        "id": "956PNiLj90wn",
        "colab": {
          "base_uri": "https://localhost:8080/"
        },
        "outputId": "9f10e3dd-236b-4132-d56f-eb0c39ffa2d4"
      },
      "execution_count": 75,
      "outputs": [
        {
          "output_type": "stream",
          "name": "stderr",
          "text": [
            "using `logging_steps` to initialize `eval_steps` to 400\n",
            "PyTorch: setting up devices\n",
            "The default value for the training argument `--report_to` will change in v5 (from all installed integrations to none). In v5, you will need to use `--report_to all` to get the same behavior as now. You should start updating your code and make this info disappear :-).\n"
          ]
        }
      ]
    },
    {
      "cell_type": "code",
      "source": [
        "trainer = Trainer(\n",
        "    model = model,                         # the instantiated Transformers model to be trained\n",
        "    args = training_args,                  # training arguments, defined above\n",
        "    train_dataset = train_torch_dataset,         # training dataset\n",
        "    eval_dataset = val_torch_dataset,          # evaluation dataset\n",
        "    compute_metrics = compute_metrics,     # the callback that computes metrics of interest\n",
        ")\n",
        "\n",
        "# train the model\n",
        "trainer.train()"
      ],
      "metadata": {
        "id": "H8_bPbIQ9311",
        "colab": {
          "base_uri": "https://localhost:8080/",
          "height": 1000
        },
        "outputId": "787579a0-a9cb-42f7-ba64-76c8e6466af7"
      },
      "execution_count": 76,
      "outputs": [
        {
          "output_type": "stream",
          "name": "stderr",
          "text": [
            "/usr/local/lib/python3.7/dist-packages/transformers/optimization.py:309: FutureWarning: This implementation of AdamW is deprecated and will be removed in a future version. Use the PyTorch implementation torch.optim.AdamW instead, or set `no_deprecation_warning=True` to disable this warning\n",
            "  FutureWarning,\n",
            "***** Running training *****\n",
            "  Num examples = 56400\n",
            "  Num Epochs = 1\n",
            "  Instantaneous batch size per device = 8\n",
            "  Total train batch size (w. parallel, distributed & accumulation) = 8\n",
            "  Gradient Accumulation steps = 1\n",
            "  Total optimization steps = 7050\n"
          ]
        },
        {
          "output_type": "display_data",
          "data": {
            "text/plain": [
              "<IPython.core.display.HTML object>"
            ],
            "text/html": [
              "\n",
              "    <div>\n",
              "      \n",
              "      <progress value='7050' max='7050' style='width:300px; height:20px; vertical-align: middle;'></progress>\n",
              "      [7050/7050 1:26:24, Epoch 1/1]\n",
              "    </div>\n",
              "    <table border=\"1\" class=\"dataframe\">\n",
              "  <thead>\n",
              " <tr style=\"text-align: left;\">\n",
              "      <th>Step</th>\n",
              "      <th>Training Loss</th>\n",
              "      <th>Validation Loss</th>\n",
              "      <th>Accuracy</th>\n",
              "    </tr>\n",
              "  </thead>\n",
              "  <tbody>\n",
              "    <tr>\n",
              "      <td>400</td>\n",
              "      <td>1.287100</td>\n",
              "      <td>1.007524</td>\n",
              "      <td>0.651163</td>\n",
              "    </tr>\n",
              "    <tr>\n",
              "      <td>800</td>\n",
              "      <td>0.976500</td>\n",
              "      <td>0.971207</td>\n",
              "      <td>0.682171</td>\n",
              "    </tr>\n",
              "    <tr>\n",
              "      <td>1200</td>\n",
              "      <td>0.881300</td>\n",
              "      <td>0.845004</td>\n",
              "      <td>0.699528</td>\n",
              "    </tr>\n",
              "    <tr>\n",
              "      <td>1600</td>\n",
              "      <td>0.849300</td>\n",
              "      <td>0.786233</td>\n",
              "      <td>0.723964</td>\n",
              "    </tr>\n",
              "    <tr>\n",
              "      <td>2000</td>\n",
              "      <td>0.768300</td>\n",
              "      <td>0.788771</td>\n",
              "      <td>0.726323</td>\n",
              "    </tr>\n",
              "    <tr>\n",
              "      <td>2400</td>\n",
              "      <td>0.765000</td>\n",
              "      <td>0.736870</td>\n",
              "      <td>0.742669</td>\n",
              "    </tr>\n",
              "    <tr>\n",
              "      <td>2800</td>\n",
              "      <td>0.777400</td>\n",
              "      <td>0.751365</td>\n",
              "      <td>0.740647</td>\n",
              "    </tr>\n",
              "    <tr>\n",
              "      <td>3200</td>\n",
              "      <td>0.737400</td>\n",
              "      <td>0.786757</td>\n",
              "      <td>0.728008</td>\n",
              "    </tr>\n",
              "    <tr>\n",
              "      <td>3600</td>\n",
              "      <td>0.761700</td>\n",
              "      <td>0.707152</td>\n",
              "      <td>0.748905</td>\n",
              "    </tr>\n",
              "    <tr>\n",
              "      <td>4000</td>\n",
              "      <td>0.730800</td>\n",
              "      <td>0.686824</td>\n",
              "      <td>0.756825</td>\n",
              "    </tr>\n",
              "    <tr>\n",
              "      <td>4400</td>\n",
              "      <td>0.684100</td>\n",
              "      <td>0.684470</td>\n",
              "      <td>0.759184</td>\n",
              "    </tr>\n",
              "    <tr>\n",
              "      <td>4800</td>\n",
              "      <td>0.700000</td>\n",
              "      <td>0.677073</td>\n",
              "      <td>0.765757</td>\n",
              "    </tr>\n",
              "    <tr>\n",
              "      <td>5200</td>\n",
              "      <td>0.693200</td>\n",
              "      <td>0.649062</td>\n",
              "      <td>0.766768</td>\n",
              "    </tr>\n",
              "    <tr>\n",
              "      <td>5600</td>\n",
              "      <td>0.655500</td>\n",
              "      <td>0.639086</td>\n",
              "      <td>0.780923</td>\n",
              "    </tr>\n",
              "    <tr>\n",
              "      <td>6000</td>\n",
              "      <td>0.658200</td>\n",
              "      <td>0.647564</td>\n",
              "      <td>0.769464</td>\n",
              "    </tr>\n",
              "    <tr>\n",
              "      <td>6400</td>\n",
              "      <td>0.631300</td>\n",
              "      <td>0.643516</td>\n",
              "      <td>0.771486</td>\n",
              "    </tr>\n",
              "    <tr>\n",
              "      <td>6800</td>\n",
              "      <td>0.672700</td>\n",
              "      <td>0.634730</td>\n",
              "      <td>0.773677</td>\n",
              "    </tr>\n",
              "  </tbody>\n",
              "</table><p>"
            ]
          },
          "metadata": {}
        },
        {
          "output_type": "stream",
          "name": "stderr",
          "text": [
            "***** Running Evaluation *****\n",
            "  Num examples = 5934\n",
            "  Batch size = 20\n",
            "Saving model checkpoint to ./results/checkpoint-400\n",
            "Configuration saved in ./results/checkpoint-400/config.json\n",
            "Model weights saved in ./results/checkpoint-400/pytorch_model.bin\n",
            "***** Running Evaluation *****\n",
            "  Num examples = 5934\n",
            "  Batch size = 20\n",
            "Saving model checkpoint to ./results/checkpoint-800\n",
            "Configuration saved in ./results/checkpoint-800/config.json\n",
            "Model weights saved in ./results/checkpoint-800/pytorch_model.bin\n",
            "***** Running Evaluation *****\n",
            "  Num examples = 5934\n",
            "  Batch size = 20\n",
            "Saving model checkpoint to ./results/checkpoint-1200\n",
            "Configuration saved in ./results/checkpoint-1200/config.json\n",
            "Model weights saved in ./results/checkpoint-1200/pytorch_model.bin\n",
            "***** Running Evaluation *****\n",
            "  Num examples = 5934\n",
            "  Batch size = 20\n",
            "Saving model checkpoint to ./results/checkpoint-1600\n",
            "Configuration saved in ./results/checkpoint-1600/config.json\n",
            "Model weights saved in ./results/checkpoint-1600/pytorch_model.bin\n",
            "***** Running Evaluation *****\n",
            "  Num examples = 5934\n",
            "  Batch size = 20\n",
            "Saving model checkpoint to ./results/checkpoint-2000\n",
            "Configuration saved in ./results/checkpoint-2000/config.json\n",
            "Model weights saved in ./results/checkpoint-2000/pytorch_model.bin\n",
            "***** Running Evaluation *****\n",
            "  Num examples = 5934\n",
            "  Batch size = 20\n",
            "Saving model checkpoint to ./results/checkpoint-2400\n",
            "Configuration saved in ./results/checkpoint-2400/config.json\n",
            "Model weights saved in ./results/checkpoint-2400/pytorch_model.bin\n",
            "***** Running Evaluation *****\n",
            "  Num examples = 5934\n",
            "  Batch size = 20\n",
            "Saving model checkpoint to ./results/checkpoint-2800\n",
            "Configuration saved in ./results/checkpoint-2800/config.json\n",
            "Model weights saved in ./results/checkpoint-2800/pytorch_model.bin\n",
            "***** Running Evaluation *****\n",
            "  Num examples = 5934\n",
            "  Batch size = 20\n",
            "Saving model checkpoint to ./results/checkpoint-3200\n",
            "Configuration saved in ./results/checkpoint-3200/config.json\n",
            "Model weights saved in ./results/checkpoint-3200/pytorch_model.bin\n",
            "***** Running Evaluation *****\n",
            "  Num examples = 5934\n",
            "  Batch size = 20\n",
            "Saving model checkpoint to ./results/checkpoint-3600\n",
            "Configuration saved in ./results/checkpoint-3600/config.json\n",
            "Model weights saved in ./results/checkpoint-3600/pytorch_model.bin\n",
            "***** Running Evaluation *****\n",
            "  Num examples = 5934\n",
            "  Batch size = 20\n",
            "Saving model checkpoint to ./results/checkpoint-4000\n",
            "Configuration saved in ./results/checkpoint-4000/config.json\n",
            "Model weights saved in ./results/checkpoint-4000/pytorch_model.bin\n",
            "***** Running Evaluation *****\n",
            "  Num examples = 5934\n",
            "  Batch size = 20\n",
            "Saving model checkpoint to ./results/checkpoint-4400\n",
            "Configuration saved in ./results/checkpoint-4400/config.json\n",
            "Model weights saved in ./results/checkpoint-4400/pytorch_model.bin\n",
            "***** Running Evaluation *****\n",
            "  Num examples = 5934\n",
            "  Batch size = 20\n",
            "Saving model checkpoint to ./results/checkpoint-4800\n",
            "Configuration saved in ./results/checkpoint-4800/config.json\n",
            "Model weights saved in ./results/checkpoint-4800/pytorch_model.bin\n",
            "***** Running Evaluation *****\n",
            "  Num examples = 5934\n",
            "  Batch size = 20\n",
            "Saving model checkpoint to ./results/checkpoint-5200\n",
            "Configuration saved in ./results/checkpoint-5200/config.json\n",
            "Model weights saved in ./results/checkpoint-5200/pytorch_model.bin\n",
            "***** Running Evaluation *****\n",
            "  Num examples = 5934\n",
            "  Batch size = 20\n",
            "Saving model checkpoint to ./results/checkpoint-5600\n",
            "Configuration saved in ./results/checkpoint-5600/config.json\n",
            "Model weights saved in ./results/checkpoint-5600/pytorch_model.bin\n",
            "***** Running Evaluation *****\n",
            "  Num examples = 5934\n",
            "  Batch size = 20\n",
            "Saving model checkpoint to ./results/checkpoint-6000\n",
            "Configuration saved in ./results/checkpoint-6000/config.json\n",
            "Model weights saved in ./results/checkpoint-6000/pytorch_model.bin\n",
            "***** Running Evaluation *****\n",
            "  Num examples = 5934\n",
            "  Batch size = 20\n",
            "Saving model checkpoint to ./results/checkpoint-6400\n",
            "Configuration saved in ./results/checkpoint-6400/config.json\n",
            "Model weights saved in ./results/checkpoint-6400/pytorch_model.bin\n",
            "***** Running Evaluation *****\n",
            "  Num examples = 5934\n",
            "  Batch size = 20\n",
            "Saving model checkpoint to ./results/checkpoint-6800\n",
            "Configuration saved in ./results/checkpoint-6800/config.json\n",
            "Model weights saved in ./results/checkpoint-6800/pytorch_model.bin\n",
            "\n",
            "\n",
            "Training completed. Do not forget to share your model on huggingface.co/models =)\n",
            "\n",
            "\n",
            "Loading best model from ./results/checkpoint-6800 (score: 0.63472980260849).\n"
          ]
        },
        {
          "output_type": "execute_result",
          "data": {
            "text/plain": [
              "TrainOutput(global_step=7050, training_loss=0.7742142892391124, metrics={'train_runtime': 5185.1111, 'train_samples_per_second': 10.877, 'train_steps_per_second': 1.36, 'total_flos': 5738904885859200.0, 'train_loss': 0.7742142892391124, 'epoch': 1.0})"
            ]
          },
          "metadata": {},
          "execution_count": 76
        }
      ]
    },
    {
      "cell_type": "code",
      "source": [
        "# evaluate the current model after training\n",
        "trainer.evaluate()"
      ],
      "metadata": {
        "id": "sDGWIwbjAwmq",
        "colab": {
          "base_uri": "https://localhost:8080/",
          "height": 197
        },
        "outputId": "acbb67d7-1af5-45f1-86f2-435d8859d1c3"
      },
      "execution_count": 77,
      "outputs": [
        {
          "output_type": "stream",
          "name": "stderr",
          "text": [
            "***** Running Evaluation *****\n",
            "  Num examples = 5934\n",
            "  Batch size = 20\n"
          ]
        },
        {
          "output_type": "display_data",
          "data": {
            "text/plain": [
              "<IPython.core.display.HTML object>"
            ],
            "text/html": [
              "\n",
              "    <div>\n",
              "      \n",
              "      <progress value='297' max='297' style='width:300px; height:20px; vertical-align: middle;'></progress>\n",
              "      [297/297 00:46]\n",
              "    </div>\n",
              "    "
            ]
          },
          "metadata": {}
        },
        {
          "output_type": "execute_result",
          "data": {
            "text/plain": [
              "{'epoch': 1.0,\n",
              " 'eval_accuracy': 0.7736771149309066,\n",
              " 'eval_loss': 0.63472980260849,\n",
              " 'eval_runtime': 46.9004,\n",
              " 'eval_samples_per_second': 126.523,\n",
              " 'eval_steps_per_second': 6.333}"
            ]
          },
          "metadata": {},
          "execution_count": 77
        }
      ]
    },
    {
      "cell_type": "markdown",
      "source": [
        "Save the model"
      ],
      "metadata": {
        "id": "TVp6JDauFwcK"
      }
    },
    {
      "cell_type": "code",
      "source": [
        "# saving the fine tuned model & tokenizer\n",
        "model_path = \"fake-bert-base-uncased\"\n",
        "model.save_pretrained(model_path)\n",
        "tokenizer.save_pretrained(model_path)"
      ],
      "metadata": {
        "id": "VDGlU_IqAy0Q",
        "colab": {
          "base_uri": "https://localhost:8080/"
        },
        "outputId": "5a9f9712-3779-4dd5-ccfc-8e1372e1b444"
      },
      "execution_count": 78,
      "outputs": [
        {
          "output_type": "stream",
          "name": "stderr",
          "text": [
            "Configuration saved in fake-bert-base-uncased/config.json\n",
            "Model weights saved in fake-bert-base-uncased/pytorch_model.bin\n",
            "tokenizer config file saved in fake-bert-base-uncased/tokenizer_config.json\n",
            "Special tokens file saved in fake-bert-base-uncased/special_tokens_map.json\n"
          ]
        },
        {
          "output_type": "execute_result",
          "data": {
            "text/plain": [
              "('fake-bert-base-uncased/tokenizer_config.json',\n",
              " 'fake-bert-base-uncased/special_tokens_map.json',\n",
              " 'fake-bert-base-uncased/vocab.txt',\n",
              " 'fake-bert-base-uncased/added_tokens.json',\n",
              " 'fake-bert-base-uncased/tokenizer.json')"
            ]
          },
          "metadata": {},
          "execution_count": 78
        }
      ]
    },
    {
      "cell_type": "code",
      "source": [
        "def get_prediction(text):\n",
        "    # prepare our text into tokenized sequence\n",
        "    inputs = tokenizer(text, padding=True, truncation=True, max_length=max_length, return_tensors=\"pt\").to(\"cuda\")\n",
        "    # perform inference to our model\n",
        "    outputs = model(**inputs)\n",
        "    # get output probabilities by doing softmax\n",
        "    probs = outputs[0].softmax(1)\n",
        "    # executing argmax function to get the candidate label\n",
        "    # return probs.argmax() is a tensor. We have to return its item\n",
        "    return probs.argmax().item()\n"
      ],
      "metadata": {
        "id": "6EGH4BlXA2eA"
      },
      "execution_count": 79,
      "outputs": []
    },
    {
      "cell_type": "code",
      "source": [
        "y_pred=[]\n",
        "for text in X_test:\n",
        "    y_pred.append(get_prediction(text))\n"
      ],
      "metadata": {
        "id": "h6n8mUe1A4Wx"
      },
      "execution_count": 80,
      "outputs": []
    },
    {
      "cell_type": "code",
      "source": [
        "from sklearn.metrics import confusion_matrix, classification_report\n",
        "print(labels_dict)\n",
        "print(classification_report(y_test, y_pred))\n"
      ],
      "metadata": {
        "id": "ZD2SSykUA6b1",
        "colab": {
          "base_uri": "https://localhost:8080/"
        },
        "outputId": "4364e5a8-ab12-49eb-a288-da32eee21f69"
      },
      "execution_count": 81,
      "outputs": [
        {
          "output_type": "stream",
          "name": "stdout",
          "text": [
            "{0: 'True', 1: 'Satire/Parody', 2: 'Misleading Content', 3: 'Imposter Content', 4: 'False Connection', 5: 'Manipulated Content'}\n",
            "              precision    recall  f1-score   support\n",
            "\n",
            "           0       0.80      0.87      0.83      2351\n",
            "           1       0.79      0.46      0.58       376\n",
            "           2       0.71      0.60      0.65      1154\n",
            "           3       0.57      0.23      0.33       139\n",
            "           4       0.77      0.87      0.82      1675\n",
            "           5       0.78      0.72      0.75       236\n",
            "\n",
            "    accuracy                           0.77      5931\n",
            "   macro avg       0.73      0.62      0.66      5931\n",
            "weighted avg       0.77      0.77      0.76      5931\n",
            "\n"
          ]
        }
      ]
    },
    {
      "cell_type": "markdown",
      "source": [
        "We show some predictions for new texts. The second prediction is wrong (the news is fake). "
      ],
      "metadata": {
        "id": "Enk5FewuHnjC"
      }
    },
    {
      "cell_type": "code",
      "source": [
        "text = \"Donald Trump sent his own plane to transport 200 stranded marines.\"\n",
        "\n",
        "pred=get_prediction(text)\n",
        "print('class:', labels_dict[pred])\n",
        "\n",
        "text = \"FBI director received millions from Clinton Foundation, his brother’s law firm does Clinton’s taxes\"\n",
        "\n",
        "pred=get_prediction(text)\n",
        "print('class:', labels_dict[pred])"
      ],
      "metadata": {
        "id": "RTgbZVxRBB6I",
        "colab": {
          "base_uri": "https://localhost:8080/"
        },
        "outputId": "feee1a49-f42c-4417-f824-046e075a0a0c"
      },
      "execution_count": 82,
      "outputs": [
        {
          "output_type": "stream",
          "name": "stdout",
          "text": [
            "class: True\n",
            "class: True\n"
          ]
        }
      ]
    }
  ]
}