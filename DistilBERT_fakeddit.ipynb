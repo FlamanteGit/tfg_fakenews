{
  "nbformat": 4,
  "nbformat_minor": 0,
  "metadata": {
    "colab": {
      "name": "BERT-fakeddit.ipynb",
      "provenance": [],
      "collapsed_sections": []
    },
    "kernelspec": {
      "name": "python3",
      "display_name": "Python 3"
    },
    "language_info": {
      "name": "python"
    },
    "accelerator": "GPU",
    "widgets": {
      "application/vnd.jupyter.widget-state+json": {
        "aaecf476b34c4eb09243e054e80a7286": {
          "model_module": "@jupyter-widgets/controls",
          "model_name": "HBoxModel",
          "model_module_version": "1.5.0",
          "state": {
            "_dom_classes": [],
            "_model_module": "@jupyter-widgets/controls",
            "_model_module_version": "1.5.0",
            "_model_name": "HBoxModel",
            "_view_count": null,
            "_view_module": "@jupyter-widgets/controls",
            "_view_module_version": "1.5.0",
            "_view_name": "HBoxView",
            "box_style": "",
            "children": [
              "IPY_MODEL_8065b3b31e3c40c5a20e037b2a3cf034",
              "IPY_MODEL_0946a58d65f540f1a495b25454a77878",
              "IPY_MODEL_2497ba60add84b4c81371146a8eef966"
            ],
            "layout": "IPY_MODEL_cd005345aa3749598b86165c36453f41"
          }
        },
        "8065b3b31e3c40c5a20e037b2a3cf034": {
          "model_module": "@jupyter-widgets/controls",
          "model_name": "HTMLModel",
          "model_module_version": "1.5.0",
          "state": {
            "_dom_classes": [],
            "_model_module": "@jupyter-widgets/controls",
            "_model_module_version": "1.5.0",
            "_model_name": "HTMLModel",
            "_view_count": null,
            "_view_module": "@jupyter-widgets/controls",
            "_view_module_version": "1.5.0",
            "_view_name": "HTMLView",
            "description": "",
            "description_tooltip": null,
            "layout": "IPY_MODEL_1271ee3cc0a6420c9e87b92fbce21ce1",
            "placeholder": "​",
            "style": "IPY_MODEL_def1489a001e4baaa2511d46bb872e97",
            "value": "Downloading: 100%"
          }
        },
        "0946a58d65f540f1a495b25454a77878": {
          "model_module": "@jupyter-widgets/controls",
          "model_name": "FloatProgressModel",
          "model_module_version": "1.5.0",
          "state": {
            "_dom_classes": [],
            "_model_module": "@jupyter-widgets/controls",
            "_model_module_version": "1.5.0",
            "_model_name": "FloatProgressModel",
            "_view_count": null,
            "_view_module": "@jupyter-widgets/controls",
            "_view_module_version": "1.5.0",
            "_view_name": "ProgressView",
            "bar_style": "success",
            "description": "",
            "description_tooltip": null,
            "layout": "IPY_MODEL_e97c1f29e2a34771a028df5d4dbc3ac0",
            "max": 48,
            "min": 0,
            "orientation": "horizontal",
            "style": "IPY_MODEL_60de94891c33496a8726f00b99cb6579",
            "value": 48
          }
        },
        "2497ba60add84b4c81371146a8eef966": {
          "model_module": "@jupyter-widgets/controls",
          "model_name": "HTMLModel",
          "model_module_version": "1.5.0",
          "state": {
            "_dom_classes": [],
            "_model_module": "@jupyter-widgets/controls",
            "_model_module_version": "1.5.0",
            "_model_name": "HTMLModel",
            "_view_count": null,
            "_view_module": "@jupyter-widgets/controls",
            "_view_module_version": "1.5.0",
            "_view_name": "HTMLView",
            "description": "",
            "description_tooltip": null,
            "layout": "IPY_MODEL_3c1a9520eba346b9988deeda794db866",
            "placeholder": "​",
            "style": "IPY_MODEL_3148ba1adb644be596ec63e95cae5212",
            "value": " 48.0/48.0 [00:00&lt;00:00, 434B/s]"
          }
        },
        "cd005345aa3749598b86165c36453f41": {
          "model_module": "@jupyter-widgets/base",
          "model_name": "LayoutModel",
          "model_module_version": "1.2.0",
          "state": {
            "_model_module": "@jupyter-widgets/base",
            "_model_module_version": "1.2.0",
            "_model_name": "LayoutModel",
            "_view_count": null,
            "_view_module": "@jupyter-widgets/base",
            "_view_module_version": "1.2.0",
            "_view_name": "LayoutView",
            "align_content": null,
            "align_items": null,
            "align_self": null,
            "border": null,
            "bottom": null,
            "display": null,
            "flex": null,
            "flex_flow": null,
            "grid_area": null,
            "grid_auto_columns": null,
            "grid_auto_flow": null,
            "grid_auto_rows": null,
            "grid_column": null,
            "grid_gap": null,
            "grid_row": null,
            "grid_template_areas": null,
            "grid_template_columns": null,
            "grid_template_rows": null,
            "height": null,
            "justify_content": null,
            "justify_items": null,
            "left": null,
            "margin": null,
            "max_height": null,
            "max_width": null,
            "min_height": null,
            "min_width": null,
            "object_fit": null,
            "object_position": null,
            "order": null,
            "overflow": null,
            "overflow_x": null,
            "overflow_y": null,
            "padding": null,
            "right": null,
            "top": null,
            "visibility": null,
            "width": null
          }
        },
        "1271ee3cc0a6420c9e87b92fbce21ce1": {
          "model_module": "@jupyter-widgets/base",
          "model_name": "LayoutModel",
          "model_module_version": "1.2.0",
          "state": {
            "_model_module": "@jupyter-widgets/base",
            "_model_module_version": "1.2.0",
            "_model_name": "LayoutModel",
            "_view_count": null,
            "_view_module": "@jupyter-widgets/base",
            "_view_module_version": "1.2.0",
            "_view_name": "LayoutView",
            "align_content": null,
            "align_items": null,
            "align_self": null,
            "border": null,
            "bottom": null,
            "display": null,
            "flex": null,
            "flex_flow": null,
            "grid_area": null,
            "grid_auto_columns": null,
            "grid_auto_flow": null,
            "grid_auto_rows": null,
            "grid_column": null,
            "grid_gap": null,
            "grid_row": null,
            "grid_template_areas": null,
            "grid_template_columns": null,
            "grid_template_rows": null,
            "height": null,
            "justify_content": null,
            "justify_items": null,
            "left": null,
            "margin": null,
            "max_height": null,
            "max_width": null,
            "min_height": null,
            "min_width": null,
            "object_fit": null,
            "object_position": null,
            "order": null,
            "overflow": null,
            "overflow_x": null,
            "overflow_y": null,
            "padding": null,
            "right": null,
            "top": null,
            "visibility": null,
            "width": null
          }
        },
        "def1489a001e4baaa2511d46bb872e97": {
          "model_module": "@jupyter-widgets/controls",
          "model_name": "DescriptionStyleModel",
          "model_module_version": "1.5.0",
          "state": {
            "_model_module": "@jupyter-widgets/controls",
            "_model_module_version": "1.5.0",
            "_model_name": "DescriptionStyleModel",
            "_view_count": null,
            "_view_module": "@jupyter-widgets/base",
            "_view_module_version": "1.2.0",
            "_view_name": "StyleView",
            "description_width": ""
          }
        },
        "e97c1f29e2a34771a028df5d4dbc3ac0": {
          "model_module": "@jupyter-widgets/base",
          "model_name": "LayoutModel",
          "model_module_version": "1.2.0",
          "state": {
            "_model_module": "@jupyter-widgets/base",
            "_model_module_version": "1.2.0",
            "_model_name": "LayoutModel",
            "_view_count": null,
            "_view_module": "@jupyter-widgets/base",
            "_view_module_version": "1.2.0",
            "_view_name": "LayoutView",
            "align_content": null,
            "align_items": null,
            "align_self": null,
            "border": null,
            "bottom": null,
            "display": null,
            "flex": null,
            "flex_flow": null,
            "grid_area": null,
            "grid_auto_columns": null,
            "grid_auto_flow": null,
            "grid_auto_rows": null,
            "grid_column": null,
            "grid_gap": null,
            "grid_row": null,
            "grid_template_areas": null,
            "grid_template_columns": null,
            "grid_template_rows": null,
            "height": null,
            "justify_content": null,
            "justify_items": null,
            "left": null,
            "margin": null,
            "max_height": null,
            "max_width": null,
            "min_height": null,
            "min_width": null,
            "object_fit": null,
            "object_position": null,
            "order": null,
            "overflow": null,
            "overflow_x": null,
            "overflow_y": null,
            "padding": null,
            "right": null,
            "top": null,
            "visibility": null,
            "width": null
          }
        },
        "60de94891c33496a8726f00b99cb6579": {
          "model_module": "@jupyter-widgets/controls",
          "model_name": "ProgressStyleModel",
          "model_module_version": "1.5.0",
          "state": {
            "_model_module": "@jupyter-widgets/controls",
            "_model_module_version": "1.5.0",
            "_model_name": "ProgressStyleModel",
            "_view_count": null,
            "_view_module": "@jupyter-widgets/base",
            "_view_module_version": "1.2.0",
            "_view_name": "StyleView",
            "bar_color": null,
            "description_width": ""
          }
        },
        "3c1a9520eba346b9988deeda794db866": {
          "model_module": "@jupyter-widgets/base",
          "model_name": "LayoutModel",
          "model_module_version": "1.2.0",
          "state": {
            "_model_module": "@jupyter-widgets/base",
            "_model_module_version": "1.2.0",
            "_model_name": "LayoutModel",
            "_view_count": null,
            "_view_module": "@jupyter-widgets/base",
            "_view_module_version": "1.2.0",
            "_view_name": "LayoutView",
            "align_content": null,
            "align_items": null,
            "align_self": null,
            "border": null,
            "bottom": null,
            "display": null,
            "flex": null,
            "flex_flow": null,
            "grid_area": null,
            "grid_auto_columns": null,
            "grid_auto_flow": null,
            "grid_auto_rows": null,
            "grid_column": null,
            "grid_gap": null,
            "grid_row": null,
            "grid_template_areas": null,
            "grid_template_columns": null,
            "grid_template_rows": null,
            "height": null,
            "justify_content": null,
            "justify_items": null,
            "left": null,
            "margin": null,
            "max_height": null,
            "max_width": null,
            "min_height": null,
            "min_width": null,
            "object_fit": null,
            "object_position": null,
            "order": null,
            "overflow": null,
            "overflow_x": null,
            "overflow_y": null,
            "padding": null,
            "right": null,
            "top": null,
            "visibility": null,
            "width": null
          }
        },
        "3148ba1adb644be596ec63e95cae5212": {
          "model_module": "@jupyter-widgets/controls",
          "model_name": "DescriptionStyleModel",
          "model_module_version": "1.5.0",
          "state": {
            "_model_module": "@jupyter-widgets/controls",
            "_model_module_version": "1.5.0",
            "_model_name": "DescriptionStyleModel",
            "_view_count": null,
            "_view_module": "@jupyter-widgets/base",
            "_view_module_version": "1.2.0",
            "_view_name": "StyleView",
            "description_width": ""
          }
        },
        "e58904e7d7af4be29e82dd2c63738a46": {
          "model_module": "@jupyter-widgets/controls",
          "model_name": "HBoxModel",
          "model_module_version": "1.5.0",
          "state": {
            "_dom_classes": [],
            "_model_module": "@jupyter-widgets/controls",
            "_model_module_version": "1.5.0",
            "_model_name": "HBoxModel",
            "_view_count": null,
            "_view_module": "@jupyter-widgets/controls",
            "_view_module_version": "1.5.0",
            "_view_name": "HBoxView",
            "box_style": "",
            "children": [
              "IPY_MODEL_042f8b7e704c4a95bc975786bab08ea9",
              "IPY_MODEL_b161aa8983004596bd6385dca2efa92c",
              "IPY_MODEL_3b4b8f19d790412881dd539e91a43052"
            ],
            "layout": "IPY_MODEL_f0c5135624f5498596425f2b083db88a"
          }
        },
        "042f8b7e704c4a95bc975786bab08ea9": {
          "model_module": "@jupyter-widgets/controls",
          "model_name": "HTMLModel",
          "model_module_version": "1.5.0",
          "state": {
            "_dom_classes": [],
            "_model_module": "@jupyter-widgets/controls",
            "_model_module_version": "1.5.0",
            "_model_name": "HTMLModel",
            "_view_count": null,
            "_view_module": "@jupyter-widgets/controls",
            "_view_module_version": "1.5.0",
            "_view_name": "HTMLView",
            "description": "",
            "description_tooltip": null,
            "layout": "IPY_MODEL_cd10d1d269a54e1885ad1f4db64c772b",
            "placeholder": "​",
            "style": "IPY_MODEL_427f788874a3403f8d63ff284bdc1b70",
            "value": "Downloading: 100%"
          }
        },
        "b161aa8983004596bd6385dca2efa92c": {
          "model_module": "@jupyter-widgets/controls",
          "model_name": "FloatProgressModel",
          "model_module_version": "1.5.0",
          "state": {
            "_dom_classes": [],
            "_model_module": "@jupyter-widgets/controls",
            "_model_module_version": "1.5.0",
            "_model_name": "FloatProgressModel",
            "_view_count": null,
            "_view_module": "@jupyter-widgets/controls",
            "_view_module_version": "1.5.0",
            "_view_name": "ProgressView",
            "bar_style": "success",
            "description": "",
            "description_tooltip": null,
            "layout": "IPY_MODEL_8d4604536f1549128f84b30a5a78800e",
            "max": 629,
            "min": 0,
            "orientation": "horizontal",
            "style": "IPY_MODEL_a04a2e2c9bc94322ac4d0993fa3e8cb8",
            "value": 629
          }
        },
        "3b4b8f19d790412881dd539e91a43052": {
          "model_module": "@jupyter-widgets/controls",
          "model_name": "HTMLModel",
          "model_module_version": "1.5.0",
          "state": {
            "_dom_classes": [],
            "_model_module": "@jupyter-widgets/controls",
            "_model_module_version": "1.5.0",
            "_model_name": "HTMLModel",
            "_view_count": null,
            "_view_module": "@jupyter-widgets/controls",
            "_view_module_version": "1.5.0",
            "_view_name": "HTMLView",
            "description": "",
            "description_tooltip": null,
            "layout": "IPY_MODEL_3fcf34e1b08c49ddb34c87e2e30f8930",
            "placeholder": "​",
            "style": "IPY_MODEL_dac5c2871a9849d78b50a1501e67ad6e",
            "value": " 629/629 [00:00&lt;00:00, 6.49kB/s]"
          }
        },
        "f0c5135624f5498596425f2b083db88a": {
          "model_module": "@jupyter-widgets/base",
          "model_name": "LayoutModel",
          "model_module_version": "1.2.0",
          "state": {
            "_model_module": "@jupyter-widgets/base",
            "_model_module_version": "1.2.0",
            "_model_name": "LayoutModel",
            "_view_count": null,
            "_view_module": "@jupyter-widgets/base",
            "_view_module_version": "1.2.0",
            "_view_name": "LayoutView",
            "align_content": null,
            "align_items": null,
            "align_self": null,
            "border": null,
            "bottom": null,
            "display": null,
            "flex": null,
            "flex_flow": null,
            "grid_area": null,
            "grid_auto_columns": null,
            "grid_auto_flow": null,
            "grid_auto_rows": null,
            "grid_column": null,
            "grid_gap": null,
            "grid_row": null,
            "grid_template_areas": null,
            "grid_template_columns": null,
            "grid_template_rows": null,
            "height": null,
            "justify_content": null,
            "justify_items": null,
            "left": null,
            "margin": null,
            "max_height": null,
            "max_width": null,
            "min_height": null,
            "min_width": null,
            "object_fit": null,
            "object_position": null,
            "order": null,
            "overflow": null,
            "overflow_x": null,
            "overflow_y": null,
            "padding": null,
            "right": null,
            "top": null,
            "visibility": null,
            "width": null
          }
        },
        "cd10d1d269a54e1885ad1f4db64c772b": {
          "model_module": "@jupyter-widgets/base",
          "model_name": "LayoutModel",
          "model_module_version": "1.2.0",
          "state": {
            "_model_module": "@jupyter-widgets/base",
            "_model_module_version": "1.2.0",
            "_model_name": "LayoutModel",
            "_view_count": null,
            "_view_module": "@jupyter-widgets/base",
            "_view_module_version": "1.2.0",
            "_view_name": "LayoutView",
            "align_content": null,
            "align_items": null,
            "align_self": null,
            "border": null,
            "bottom": null,
            "display": null,
            "flex": null,
            "flex_flow": null,
            "grid_area": null,
            "grid_auto_columns": null,
            "grid_auto_flow": null,
            "grid_auto_rows": null,
            "grid_column": null,
            "grid_gap": null,
            "grid_row": null,
            "grid_template_areas": null,
            "grid_template_columns": null,
            "grid_template_rows": null,
            "height": null,
            "justify_content": null,
            "justify_items": null,
            "left": null,
            "margin": null,
            "max_height": null,
            "max_width": null,
            "min_height": null,
            "min_width": null,
            "object_fit": null,
            "object_position": null,
            "order": null,
            "overflow": null,
            "overflow_x": null,
            "overflow_y": null,
            "padding": null,
            "right": null,
            "top": null,
            "visibility": null,
            "width": null
          }
        },
        "427f788874a3403f8d63ff284bdc1b70": {
          "model_module": "@jupyter-widgets/controls",
          "model_name": "DescriptionStyleModel",
          "model_module_version": "1.5.0",
          "state": {
            "_model_module": "@jupyter-widgets/controls",
            "_model_module_version": "1.5.0",
            "_model_name": "DescriptionStyleModel",
            "_view_count": null,
            "_view_module": "@jupyter-widgets/base",
            "_view_module_version": "1.2.0",
            "_view_name": "StyleView",
            "description_width": ""
          }
        },
        "8d4604536f1549128f84b30a5a78800e": {
          "model_module": "@jupyter-widgets/base",
          "model_name": "LayoutModel",
          "model_module_version": "1.2.0",
          "state": {
            "_model_module": "@jupyter-widgets/base",
            "_model_module_version": "1.2.0",
            "_model_name": "LayoutModel",
            "_view_count": null,
            "_view_module": "@jupyter-widgets/base",
            "_view_module_version": "1.2.0",
            "_view_name": "LayoutView",
            "align_content": null,
            "align_items": null,
            "align_self": null,
            "border": null,
            "bottom": null,
            "display": null,
            "flex": null,
            "flex_flow": null,
            "grid_area": null,
            "grid_auto_columns": null,
            "grid_auto_flow": null,
            "grid_auto_rows": null,
            "grid_column": null,
            "grid_gap": null,
            "grid_row": null,
            "grid_template_areas": null,
            "grid_template_columns": null,
            "grid_template_rows": null,
            "height": null,
            "justify_content": null,
            "justify_items": null,
            "left": null,
            "margin": null,
            "max_height": null,
            "max_width": null,
            "min_height": null,
            "min_width": null,
            "object_fit": null,
            "object_position": null,
            "order": null,
            "overflow": null,
            "overflow_x": null,
            "overflow_y": null,
            "padding": null,
            "right": null,
            "top": null,
            "visibility": null,
            "width": null
          }
        },
        "a04a2e2c9bc94322ac4d0993fa3e8cb8": {
          "model_module": "@jupyter-widgets/controls",
          "model_name": "ProgressStyleModel",
          "model_module_version": "1.5.0",
          "state": {
            "_model_module": "@jupyter-widgets/controls",
            "_model_module_version": "1.5.0",
            "_model_name": "ProgressStyleModel",
            "_view_count": null,
            "_view_module": "@jupyter-widgets/base",
            "_view_module_version": "1.2.0",
            "_view_name": "StyleView",
            "bar_color": null,
            "description_width": ""
          }
        },
        "3fcf34e1b08c49ddb34c87e2e30f8930": {
          "model_module": "@jupyter-widgets/base",
          "model_name": "LayoutModel",
          "model_module_version": "1.2.0",
          "state": {
            "_model_module": "@jupyter-widgets/base",
            "_model_module_version": "1.2.0",
            "_model_name": "LayoutModel",
            "_view_count": null,
            "_view_module": "@jupyter-widgets/base",
            "_view_module_version": "1.2.0",
            "_view_name": "LayoutView",
            "align_content": null,
            "align_items": null,
            "align_self": null,
            "border": null,
            "bottom": null,
            "display": null,
            "flex": null,
            "flex_flow": null,
            "grid_area": null,
            "grid_auto_columns": null,
            "grid_auto_flow": null,
            "grid_auto_rows": null,
            "grid_column": null,
            "grid_gap": null,
            "grid_row": null,
            "grid_template_areas": null,
            "grid_template_columns": null,
            "grid_template_rows": null,
            "height": null,
            "justify_content": null,
            "justify_items": null,
            "left": null,
            "margin": null,
            "max_height": null,
            "max_width": null,
            "min_height": null,
            "min_width": null,
            "object_fit": null,
            "object_position": null,
            "order": null,
            "overflow": null,
            "overflow_x": null,
            "overflow_y": null,
            "padding": null,
            "right": null,
            "top": null,
            "visibility": null,
            "width": null
          }
        },
        "dac5c2871a9849d78b50a1501e67ad6e": {
          "model_module": "@jupyter-widgets/controls",
          "model_name": "DescriptionStyleModel",
          "model_module_version": "1.5.0",
          "state": {
            "_model_module": "@jupyter-widgets/controls",
            "_model_module_version": "1.5.0",
            "_model_name": "DescriptionStyleModel",
            "_view_count": null,
            "_view_module": "@jupyter-widgets/base",
            "_view_module_version": "1.2.0",
            "_view_name": "StyleView",
            "description_width": ""
          }
        },
        "88a9c2ef772a45e48d412ba3cc462543": {
          "model_module": "@jupyter-widgets/controls",
          "model_name": "HBoxModel",
          "model_module_version": "1.5.0",
          "state": {
            "_dom_classes": [],
            "_model_module": "@jupyter-widgets/controls",
            "_model_module_version": "1.5.0",
            "_model_name": "HBoxModel",
            "_view_count": null,
            "_view_module": "@jupyter-widgets/controls",
            "_view_module_version": "1.5.0",
            "_view_name": "HBoxView",
            "box_style": "",
            "children": [
              "IPY_MODEL_ab3f5bb581c24c9bb3b644346bbb646d",
              "IPY_MODEL_d857a934529645948e9e09f508107375",
              "IPY_MODEL_b874853d20034b46a0ea51e3f930bc00"
            ],
            "layout": "IPY_MODEL_381bd40ebdaf43d8b7f1f1fa5adfabfb"
          }
        },
        "ab3f5bb581c24c9bb3b644346bbb646d": {
          "model_module": "@jupyter-widgets/controls",
          "model_name": "HTMLModel",
          "model_module_version": "1.5.0",
          "state": {
            "_dom_classes": [],
            "_model_module": "@jupyter-widgets/controls",
            "_model_module_version": "1.5.0",
            "_model_name": "HTMLModel",
            "_view_count": null,
            "_view_module": "@jupyter-widgets/controls",
            "_view_module_version": "1.5.0",
            "_view_name": "HTMLView",
            "description": "",
            "description_tooltip": null,
            "layout": "IPY_MODEL_801a9ffff16d46e7a468569f74f65cfc",
            "placeholder": "​",
            "style": "IPY_MODEL_15acd5068c584431a28d22f1148e9415",
            "value": "Downloading: 100%"
          }
        },
        "d857a934529645948e9e09f508107375": {
          "model_module": "@jupyter-widgets/controls",
          "model_name": "FloatProgressModel",
          "model_module_version": "1.5.0",
          "state": {
            "_dom_classes": [],
            "_model_module": "@jupyter-widgets/controls",
            "_model_module_version": "1.5.0",
            "_model_name": "FloatProgressModel",
            "_view_count": null,
            "_view_module": "@jupyter-widgets/controls",
            "_view_module_version": "1.5.0",
            "_view_name": "ProgressView",
            "bar_style": "success",
            "description": "",
            "description_tooltip": null,
            "layout": "IPY_MODEL_fedf4995efaa47338d95d2ffb2566af5",
            "max": 231508,
            "min": 0,
            "orientation": "horizontal",
            "style": "IPY_MODEL_afb4d62947134ae49e80d0ab7afeb05e",
            "value": 231508
          }
        },
        "b874853d20034b46a0ea51e3f930bc00": {
          "model_module": "@jupyter-widgets/controls",
          "model_name": "HTMLModel",
          "model_module_version": "1.5.0",
          "state": {
            "_dom_classes": [],
            "_model_module": "@jupyter-widgets/controls",
            "_model_module_version": "1.5.0",
            "_model_name": "HTMLModel",
            "_view_count": null,
            "_view_module": "@jupyter-widgets/controls",
            "_view_module_version": "1.5.0",
            "_view_name": "HTMLView",
            "description": "",
            "description_tooltip": null,
            "layout": "IPY_MODEL_793e39f0af8b47d9a09e8bcd6d965145",
            "placeholder": "​",
            "style": "IPY_MODEL_881c474525454ef197fb211571c25e3f",
            "value": " 226k/226k [00:00&lt;00:00, 3.16MB/s]"
          }
        },
        "381bd40ebdaf43d8b7f1f1fa5adfabfb": {
          "model_module": "@jupyter-widgets/base",
          "model_name": "LayoutModel",
          "model_module_version": "1.2.0",
          "state": {
            "_model_module": "@jupyter-widgets/base",
            "_model_module_version": "1.2.0",
            "_model_name": "LayoutModel",
            "_view_count": null,
            "_view_module": "@jupyter-widgets/base",
            "_view_module_version": "1.2.0",
            "_view_name": "LayoutView",
            "align_content": null,
            "align_items": null,
            "align_self": null,
            "border": null,
            "bottom": null,
            "display": null,
            "flex": null,
            "flex_flow": null,
            "grid_area": null,
            "grid_auto_columns": null,
            "grid_auto_flow": null,
            "grid_auto_rows": null,
            "grid_column": null,
            "grid_gap": null,
            "grid_row": null,
            "grid_template_areas": null,
            "grid_template_columns": null,
            "grid_template_rows": null,
            "height": null,
            "justify_content": null,
            "justify_items": null,
            "left": null,
            "margin": null,
            "max_height": null,
            "max_width": null,
            "min_height": null,
            "min_width": null,
            "object_fit": null,
            "object_position": null,
            "order": null,
            "overflow": null,
            "overflow_x": null,
            "overflow_y": null,
            "padding": null,
            "right": null,
            "top": null,
            "visibility": null,
            "width": null
          }
        },
        "801a9ffff16d46e7a468569f74f65cfc": {
          "model_module": "@jupyter-widgets/base",
          "model_name": "LayoutModel",
          "model_module_version": "1.2.0",
          "state": {
            "_model_module": "@jupyter-widgets/base",
            "_model_module_version": "1.2.0",
            "_model_name": "LayoutModel",
            "_view_count": null,
            "_view_module": "@jupyter-widgets/base",
            "_view_module_version": "1.2.0",
            "_view_name": "LayoutView",
            "align_content": null,
            "align_items": null,
            "align_self": null,
            "border": null,
            "bottom": null,
            "display": null,
            "flex": null,
            "flex_flow": null,
            "grid_area": null,
            "grid_auto_columns": null,
            "grid_auto_flow": null,
            "grid_auto_rows": null,
            "grid_column": null,
            "grid_gap": null,
            "grid_row": null,
            "grid_template_areas": null,
            "grid_template_columns": null,
            "grid_template_rows": null,
            "height": null,
            "justify_content": null,
            "justify_items": null,
            "left": null,
            "margin": null,
            "max_height": null,
            "max_width": null,
            "min_height": null,
            "min_width": null,
            "object_fit": null,
            "object_position": null,
            "order": null,
            "overflow": null,
            "overflow_x": null,
            "overflow_y": null,
            "padding": null,
            "right": null,
            "top": null,
            "visibility": null,
            "width": null
          }
        },
        "15acd5068c584431a28d22f1148e9415": {
          "model_module": "@jupyter-widgets/controls",
          "model_name": "DescriptionStyleModel",
          "model_module_version": "1.5.0",
          "state": {
            "_model_module": "@jupyter-widgets/controls",
            "_model_module_version": "1.5.0",
            "_model_name": "DescriptionStyleModel",
            "_view_count": null,
            "_view_module": "@jupyter-widgets/base",
            "_view_module_version": "1.2.0",
            "_view_name": "StyleView",
            "description_width": ""
          }
        },
        "fedf4995efaa47338d95d2ffb2566af5": {
          "model_module": "@jupyter-widgets/base",
          "model_name": "LayoutModel",
          "model_module_version": "1.2.0",
          "state": {
            "_model_module": "@jupyter-widgets/base",
            "_model_module_version": "1.2.0",
            "_model_name": "LayoutModel",
            "_view_count": null,
            "_view_module": "@jupyter-widgets/base",
            "_view_module_version": "1.2.0",
            "_view_name": "LayoutView",
            "align_content": null,
            "align_items": null,
            "align_self": null,
            "border": null,
            "bottom": null,
            "display": null,
            "flex": null,
            "flex_flow": null,
            "grid_area": null,
            "grid_auto_columns": null,
            "grid_auto_flow": null,
            "grid_auto_rows": null,
            "grid_column": null,
            "grid_gap": null,
            "grid_row": null,
            "grid_template_areas": null,
            "grid_template_columns": null,
            "grid_template_rows": null,
            "height": null,
            "justify_content": null,
            "justify_items": null,
            "left": null,
            "margin": null,
            "max_height": null,
            "max_width": null,
            "min_height": null,
            "min_width": null,
            "object_fit": null,
            "object_position": null,
            "order": null,
            "overflow": null,
            "overflow_x": null,
            "overflow_y": null,
            "padding": null,
            "right": null,
            "top": null,
            "visibility": null,
            "width": null
          }
        },
        "afb4d62947134ae49e80d0ab7afeb05e": {
          "model_module": "@jupyter-widgets/controls",
          "model_name": "ProgressStyleModel",
          "model_module_version": "1.5.0",
          "state": {
            "_model_module": "@jupyter-widgets/controls",
            "_model_module_version": "1.5.0",
            "_model_name": "ProgressStyleModel",
            "_view_count": null,
            "_view_module": "@jupyter-widgets/base",
            "_view_module_version": "1.2.0",
            "_view_name": "StyleView",
            "bar_color": null,
            "description_width": ""
          }
        },
        "793e39f0af8b47d9a09e8bcd6d965145": {
          "model_module": "@jupyter-widgets/base",
          "model_name": "LayoutModel",
          "model_module_version": "1.2.0",
          "state": {
            "_model_module": "@jupyter-widgets/base",
            "_model_module_version": "1.2.0",
            "_model_name": "LayoutModel",
            "_view_count": null,
            "_view_module": "@jupyter-widgets/base",
            "_view_module_version": "1.2.0",
            "_view_name": "LayoutView",
            "align_content": null,
            "align_items": null,
            "align_self": null,
            "border": null,
            "bottom": null,
            "display": null,
            "flex": null,
            "flex_flow": null,
            "grid_area": null,
            "grid_auto_columns": null,
            "grid_auto_flow": null,
            "grid_auto_rows": null,
            "grid_column": null,
            "grid_gap": null,
            "grid_row": null,
            "grid_template_areas": null,
            "grid_template_columns": null,
            "grid_template_rows": null,
            "height": null,
            "justify_content": null,
            "justify_items": null,
            "left": null,
            "margin": null,
            "max_height": null,
            "max_width": null,
            "min_height": null,
            "min_width": null,
            "object_fit": null,
            "object_position": null,
            "order": null,
            "overflow": null,
            "overflow_x": null,
            "overflow_y": null,
            "padding": null,
            "right": null,
            "top": null,
            "visibility": null,
            "width": null
          }
        },
        "881c474525454ef197fb211571c25e3f": {
          "model_module": "@jupyter-widgets/controls",
          "model_name": "DescriptionStyleModel",
          "model_module_version": "1.5.0",
          "state": {
            "_model_module": "@jupyter-widgets/controls",
            "_model_module_version": "1.5.0",
            "_model_name": "DescriptionStyleModel",
            "_view_count": null,
            "_view_module": "@jupyter-widgets/base",
            "_view_module_version": "1.2.0",
            "_view_name": "StyleView",
            "description_width": ""
          }
        }
      }
    }
  },
  "cells": [
    {
      "cell_type": "markdown",
      "source": [
        "# BERT for fake news detection\n"
      ],
      "metadata": {
        "id": "yCuBZU6iydnV"
      }
    },
    {
      "cell_type": "markdown",
      "source": [
        "Make sure that you are using GPU"
      ],
      "metadata": {
        "id": "B79lXyf-ypHd"
      }
    },
    {
      "cell_type": "code",
      "execution_count": null,
      "metadata": {
        "colab": {
          "base_uri": "https://localhost:8080/"
        },
        "id": "kWpxmVSayazf",
        "outputId": "f292a67e-d97a-488c-b248-6947701f5fa8"
      },
      "outputs": [
        {
          "output_type": "execute_result",
          "data": {
            "text/plain": [
              "device(type='cuda')"
            ]
          },
          "metadata": {},
          "execution_count": 1
        }
      ],
      "source": [
        "import torch \n",
        "\n",
        "device = torch.device(\"cuda\" if torch.cuda.is_available() else \"cpu\")\n",
        "device"
      ]
    },
    {
      "cell_type": "markdown",
      "source": [
        "You can see the type of gpu available for you:"
      ],
      "metadata": {
        "id": "Np_FymoPy25r"
      }
    },
    {
      "cell_type": "code",
      "source": [
        "!nvidia-smi"
      ],
      "metadata": {
        "colab": {
          "base_uri": "https://localhost:8080/"
        },
        "id": "Pg0bhGKSyzmD",
        "outputId": "5bc9a8f7-3fff-42a6-9edf-ea9cd25afdc6"
      },
      "execution_count": null,
      "outputs": [
        {
          "output_type": "stream",
          "name": "stdout",
          "text": [
            "Thu Mar 24 23:14:14 2022       \n",
            "+-----------------------------------------------------------------------------+\n",
            "| NVIDIA-SMI 460.32.03    Driver Version: 460.32.03    CUDA Version: 11.2     |\n",
            "|-------------------------------+----------------------+----------------------+\n",
            "| GPU  Name        Persistence-M| Bus-Id        Disp.A | Volatile Uncorr. ECC |\n",
            "| Fan  Temp  Perf  Pwr:Usage/Cap|         Memory-Usage | GPU-Util  Compute M. |\n",
            "|                               |                      |               MIG M. |\n",
            "|===============================+======================+======================|\n",
            "|   0  Tesla T4            Off  | 00000000:00:04.0 Off |                    0 |\n",
            "| N/A   45C    P8     9W /  70W |      3MiB / 15109MiB |      0%      Default |\n",
            "|                               |                      |                  N/A |\n",
            "+-------------------------------+----------------------+----------------------+\n",
            "                                                                               \n",
            "+-----------------------------------------------------------------------------+\n",
            "| Processes:                                                                  |\n",
            "|  GPU   GI   CI        PID   Type   Process name                  GPU Memory |\n",
            "|        ID   ID                                                   Usage      |\n",
            "|=============================================================================|\n",
            "|  No running processes found                                                 |\n",
            "+-----------------------------------------------------------------------------+\n"
          ]
        }
      ]
    },
    {
      "cell_type": "markdown",
      "source": [
        "## 1. Load the data"
      ],
      "metadata": {
        "id": "yPL1qcW0zAb9"
      }
    },
    {
      "cell_type": "code",
      "source": [
        "# Load the Drive helper and mount\n",
        "from google.colab import drive\n",
        "drive.mount('/content/drive')\n",
        "root = 'drive/My Drive/Colab Notebooks/'\n",
        "reda_root = 'drive/My Drive/TFG/'\n",
        "paht = 'drive/My Drive/Colab Notebooks/fakkedit/'"
      ],
      "metadata": {
        "id": "UTBHpvISzDcy",
        "colab": {
          "base_uri": "https://localhost:8080/"
        },
        "outputId": "35a13416-d2db-4ced-9ae0-4f6e92e7d1bc"
      },
      "execution_count": null,
      "outputs": [
        {
          "output_type": "stream",
          "name": "stdout",
          "text": [
            "Mounted at /content/drive\n"
          ]
        }
      ]
    },
    {
      "cell_type": "code",
      "source": [
        "MULTIMODAL_ONLY = True # if False, we will load all the\n",
        "nameFile = 'multimodal_'\n",
        "if not MULTIMODAL_ONLY:\n",
        "    nameFile ='all_'\n"
      ],
      "metadata": {
        "id": "TSUw5SS4DuQ4"
      },
      "execution_count": null,
      "outputs": []
    },
    {
      "cell_type": "code",
      "source": [
        "import pandas as pd\n",
        "train = pd.read_csv(reda_root+\"data/fakeddit/\" + nameFile+ \"train.tsv\", sep='\\t')\n",
        "val  = pd.read_csv(reda_root+\"data/fakeddit/\" + nameFile+ \"validate.tsv\", sep='\\t')\n",
        "test  = pd.read_csv(reda_root+\"data/fakeddit/\" + nameFile+ \"test_public.tsv\", sep='\\t')\n",
        "\n",
        "print(\"Dataset: \", nameFile)\n",
        "print('size training: ', len(train))\n",
        "print('size validation: ', len(val))\n",
        "print('size test: ', len(test))\n"
      ],
      "metadata": {
        "id": "-XgH1K-mzPaz",
        "colab": {
          "base_uri": "https://localhost:8080/"
        },
        "outputId": "90e51fee-eb51-44bf-c28e-3826f73eaf1f"
      },
      "execution_count": null,
      "outputs": [
        {
          "output_type": "stream",
          "name": "stdout",
          "text": [
            "Dataset:  multimodal_\n",
            "size training:  564000\n",
            "size validation:  59342\n",
            "size test:  59319\n"
          ]
        }
      ]
    },
    {
      "cell_type": "markdown",
      "source": [
        "To make faster experimentation, we reduce the size of the datasets (of course, the results will be worse)"
      ],
      "metadata": {
        "id": "5cOCj-A_0WxG"
      }
    },
    {
      "cell_type": "code",
      "source": [
        "import numpy as np\n",
        "reduction = 10 #100, 10 or 1\n",
        "\n",
        "print(\"reduction applied: \", reduction)\n",
        "\n",
        "\n",
        "print(f\"Training patterns before reduction: {len(train)}\")\n",
        "train = train.sample(int(len(train)/reduction), random_state=12345)\n",
        "print(f\"Training patterns after reduction:  {len(train)}\")\n",
        "\n",
        "print(f\"Validation patterns before reduction: {len(val)}\")\n",
        "val = val.sample(int(len(val)/reduction), random_state=12345)\n",
        "print(f\"Validation patterns after reduction:  {len(val)}\")\n",
        "\n",
        "print(f\"Test patterns before reduction: {len(test)}\")\n",
        "test = test.sample(int(len(test)/reduction), random_state=12345)\n",
        "print(f\"Test patterns after reduction:  {len(test)}\")"
      ],
      "metadata": {
        "id": "ZPxJzWJy0MvF",
        "colab": {
          "base_uri": "https://localhost:8080/"
        },
        "outputId": "2884ef3c-00c1-4999-e5c9-eef49474ca92"
      },
      "execution_count": null,
      "outputs": [
        {
          "output_type": "stream",
          "name": "stdout",
          "text": [
            "reduction applied:  10\n",
            "Training patterns before reduction: 564000\n",
            "Training patterns after reduction:  56400\n",
            "Validation patterns before reduction: 59342\n",
            "Validation patterns after reduction:  5934\n",
            "Test patterns before reduction: 59319\n",
            "Test patterns after reduction:  5931\n"
          ]
        }
      ]
    },
    {
      "cell_type": "code",
      "source": [
        "train.head()"
      ],
      "metadata": {
        "id": "pl3Uw2HQ0tyz",
        "colab": {
          "base_uri": "https://localhost:8080/",
          "height": 530
        },
        "outputId": "7b18bdea-8ad5-4696-ad7c-e91c4119fb93"
      },
      "execution_count": null,
      "outputs": [
        {
          "output_type": "execute_result",
          "data": {
            "text/plain": [
              "                author                                        clean_title  \\\n",
              "224716          T3nd0o  this basket made out of old candy wrappers fea...   \n",
              "525216  TindalosKeeper                              ugh shitty connection   \n",
              "104777         ZAPP3Rx                                        evil racoon   \n",
              "467061  Count_Mirchaud  german tank ace michael wittmans last stand ag...   \n",
              "350361      GuysnDolls                         the dread of lancaster bay   \n",
              "\n",
              "         created_utc     domain  hasImage       id  \\\n",
              "224716  1.566649e+09  i.redd.it      True   cusqgc   \n",
              "525216  1.560360e+09        NaN      True  eqwq1xm   \n",
              "104777  1.508945e+09  i.redd.it      True   78od95   \n",
              "467061  1.481311e+09  imgur.com      True   5hfnof   \n",
              "350361  1.552235e+09        NaN      True  ei7pl4z   \n",
              "\n",
              "                                                image_url  \\\n",
              "224716  https://preview.redd.it/vz64u4m03ei31.jpg?widt...   \n",
              "525216                    https://i.imgur.com/jhHIGoj.jpg   \n",
              "104777  https://preview.redd.it/as247oqduztz.jpg?width...   \n",
              "467061  https://external-preview.redd.it/F4ThHaQXXlqf3...   \n",
              "350361                    https://i.imgur.com/RgHJ9D3.jpg   \n",
              "\n",
              "       linked_submission_id  num_comments  score          subreddit  \\\n",
              "224716                  NaN           2.0     20  mildlyinteresting   \n",
              "525216               bzptls           NaN      8   psbattle_artwork   \n",
              "104777                  NaN           0.0      4         pareidolia   \n",
              "467061                  NaN           0.0      9    fakehistoryporn   \n",
              "350361               azb1dq           NaN     11   psbattle_artwork   \n",
              "\n",
              "                                                    title  upvote_ratio  \\\n",
              "224716  This basket made out of old candy wrappers (fe...          0.80   \n",
              "525216                            Ugh, shitty connection!           NaN   \n",
              "104777                                        Evil racoon          0.70   \n",
              "467061  German Tank Ace Michael Wittman's last stand a...          0.92   \n",
              "350361                         The Dread of Lancaster Bay           NaN   \n",
              "\n",
              "        2_way_label  3_way_label  6_way_label  \n",
              "224716            1            0            0  \n",
              "525216            0            2            4  \n",
              "104777            0            2            2  \n",
              "467061            0            2            2  \n",
              "350361            0            2            4  "
            ],
            "text/html": [
              "\n",
              "  <div id=\"df-4a52353d-17a4-40c5-a6f2-5936542aad88\">\n",
              "    <div class=\"colab-df-container\">\n",
              "      <div>\n",
              "<style scoped>\n",
              "    .dataframe tbody tr th:only-of-type {\n",
              "        vertical-align: middle;\n",
              "    }\n",
              "\n",
              "    .dataframe tbody tr th {\n",
              "        vertical-align: top;\n",
              "    }\n",
              "\n",
              "    .dataframe thead th {\n",
              "        text-align: right;\n",
              "    }\n",
              "</style>\n",
              "<table border=\"1\" class=\"dataframe\">\n",
              "  <thead>\n",
              "    <tr style=\"text-align: right;\">\n",
              "      <th></th>\n",
              "      <th>author</th>\n",
              "      <th>clean_title</th>\n",
              "      <th>created_utc</th>\n",
              "      <th>domain</th>\n",
              "      <th>hasImage</th>\n",
              "      <th>id</th>\n",
              "      <th>image_url</th>\n",
              "      <th>linked_submission_id</th>\n",
              "      <th>num_comments</th>\n",
              "      <th>score</th>\n",
              "      <th>subreddit</th>\n",
              "      <th>title</th>\n",
              "      <th>upvote_ratio</th>\n",
              "      <th>2_way_label</th>\n",
              "      <th>3_way_label</th>\n",
              "      <th>6_way_label</th>\n",
              "    </tr>\n",
              "  </thead>\n",
              "  <tbody>\n",
              "    <tr>\n",
              "      <th>224716</th>\n",
              "      <td>T3nd0o</td>\n",
              "      <td>this basket made out of old candy wrappers fea...</td>\n",
              "      <td>1.566649e+09</td>\n",
              "      <td>i.redd.it</td>\n",
              "      <td>True</td>\n",
              "      <td>cusqgc</td>\n",
              "      <td>https://preview.redd.it/vz64u4m03ei31.jpg?widt...</td>\n",
              "      <td>NaN</td>\n",
              "      <td>2.0</td>\n",
              "      <td>20</td>\n",
              "      <td>mildlyinteresting</td>\n",
              "      <td>This basket made out of old candy wrappers (fe...</td>\n",
              "      <td>0.80</td>\n",
              "      <td>1</td>\n",
              "      <td>0</td>\n",
              "      <td>0</td>\n",
              "    </tr>\n",
              "    <tr>\n",
              "      <th>525216</th>\n",
              "      <td>TindalosKeeper</td>\n",
              "      <td>ugh shitty connection</td>\n",
              "      <td>1.560360e+09</td>\n",
              "      <td>NaN</td>\n",
              "      <td>True</td>\n",
              "      <td>eqwq1xm</td>\n",
              "      <td>https://i.imgur.com/jhHIGoj.jpg</td>\n",
              "      <td>bzptls</td>\n",
              "      <td>NaN</td>\n",
              "      <td>8</td>\n",
              "      <td>psbattle_artwork</td>\n",
              "      <td>Ugh, shitty connection!</td>\n",
              "      <td>NaN</td>\n",
              "      <td>0</td>\n",
              "      <td>2</td>\n",
              "      <td>4</td>\n",
              "    </tr>\n",
              "    <tr>\n",
              "      <th>104777</th>\n",
              "      <td>ZAPP3Rx</td>\n",
              "      <td>evil racoon</td>\n",
              "      <td>1.508945e+09</td>\n",
              "      <td>i.redd.it</td>\n",
              "      <td>True</td>\n",
              "      <td>78od95</td>\n",
              "      <td>https://preview.redd.it/as247oqduztz.jpg?width...</td>\n",
              "      <td>NaN</td>\n",
              "      <td>0.0</td>\n",
              "      <td>4</td>\n",
              "      <td>pareidolia</td>\n",
              "      <td>Evil racoon</td>\n",
              "      <td>0.70</td>\n",
              "      <td>0</td>\n",
              "      <td>2</td>\n",
              "      <td>2</td>\n",
              "    </tr>\n",
              "    <tr>\n",
              "      <th>467061</th>\n",
              "      <td>Count_Mirchaud</td>\n",
              "      <td>german tank ace michael wittmans last stand ag...</td>\n",
              "      <td>1.481311e+09</td>\n",
              "      <td>imgur.com</td>\n",
              "      <td>True</td>\n",
              "      <td>5hfnof</td>\n",
              "      <td>https://external-preview.redd.it/F4ThHaQXXlqf3...</td>\n",
              "      <td>NaN</td>\n",
              "      <td>0.0</td>\n",
              "      <td>9</td>\n",
              "      <td>fakehistoryporn</td>\n",
              "      <td>German Tank Ace Michael Wittman's last stand a...</td>\n",
              "      <td>0.92</td>\n",
              "      <td>0</td>\n",
              "      <td>2</td>\n",
              "      <td>2</td>\n",
              "    </tr>\n",
              "    <tr>\n",
              "      <th>350361</th>\n",
              "      <td>GuysnDolls</td>\n",
              "      <td>the dread of lancaster bay</td>\n",
              "      <td>1.552235e+09</td>\n",
              "      <td>NaN</td>\n",
              "      <td>True</td>\n",
              "      <td>ei7pl4z</td>\n",
              "      <td>https://i.imgur.com/RgHJ9D3.jpg</td>\n",
              "      <td>azb1dq</td>\n",
              "      <td>NaN</td>\n",
              "      <td>11</td>\n",
              "      <td>psbattle_artwork</td>\n",
              "      <td>The Dread of Lancaster Bay</td>\n",
              "      <td>NaN</td>\n",
              "      <td>0</td>\n",
              "      <td>2</td>\n",
              "      <td>4</td>\n",
              "    </tr>\n",
              "  </tbody>\n",
              "</table>\n",
              "</div>\n",
              "      <button class=\"colab-df-convert\" onclick=\"convertToInteractive('df-4a52353d-17a4-40c5-a6f2-5936542aad88')\"\n",
              "              title=\"Convert this dataframe to an interactive table.\"\n",
              "              style=\"display:none;\">\n",
              "        \n",
              "  <svg xmlns=\"http://www.w3.org/2000/svg\" height=\"24px\"viewBox=\"0 0 24 24\"\n",
              "       width=\"24px\">\n",
              "    <path d=\"M0 0h24v24H0V0z\" fill=\"none\"/>\n",
              "    <path d=\"M18.56 5.44l.94 2.06.94-2.06 2.06-.94-2.06-.94-.94-2.06-.94 2.06-2.06.94zm-11 1L8.5 8.5l.94-2.06 2.06-.94-2.06-.94L8.5 2.5l-.94 2.06-2.06.94zm10 10l.94 2.06.94-2.06 2.06-.94-2.06-.94-.94-2.06-.94 2.06-2.06.94z\"/><path d=\"M17.41 7.96l-1.37-1.37c-.4-.4-.92-.59-1.43-.59-.52 0-1.04.2-1.43.59L10.3 9.45l-7.72 7.72c-.78.78-.78 2.05 0 2.83L4 21.41c.39.39.9.59 1.41.59.51 0 1.02-.2 1.41-.59l7.78-7.78 2.81-2.81c.8-.78.8-2.07 0-2.86zM5.41 20L4 18.59l7.72-7.72 1.47 1.35L5.41 20z\"/>\n",
              "  </svg>\n",
              "      </button>\n",
              "      \n",
              "  <style>\n",
              "    .colab-df-container {\n",
              "      display:flex;\n",
              "      flex-wrap:wrap;\n",
              "      gap: 12px;\n",
              "    }\n",
              "\n",
              "    .colab-df-convert {\n",
              "      background-color: #E8F0FE;\n",
              "      border: none;\n",
              "      border-radius: 50%;\n",
              "      cursor: pointer;\n",
              "      display: none;\n",
              "      fill: #1967D2;\n",
              "      height: 32px;\n",
              "      padding: 0 0 0 0;\n",
              "      width: 32px;\n",
              "    }\n",
              "\n",
              "    .colab-df-convert:hover {\n",
              "      background-color: #E2EBFA;\n",
              "      box-shadow: 0px 1px 2px rgba(60, 64, 67, 0.3), 0px 1px 3px 1px rgba(60, 64, 67, 0.15);\n",
              "      fill: #174EA6;\n",
              "    }\n",
              "\n",
              "    [theme=dark] .colab-df-convert {\n",
              "      background-color: #3B4455;\n",
              "      fill: #D2E3FC;\n",
              "    }\n",
              "\n",
              "    [theme=dark] .colab-df-convert:hover {\n",
              "      background-color: #434B5C;\n",
              "      box-shadow: 0px 1px 3px 1px rgba(0, 0, 0, 0.15);\n",
              "      filter: drop-shadow(0px 1px 2px rgba(0, 0, 0, 0.3));\n",
              "      fill: #FFFFFF;\n",
              "    }\n",
              "  </style>\n",
              "\n",
              "      <script>\n",
              "        const buttonEl =\n",
              "          document.querySelector('#df-4a52353d-17a4-40c5-a6f2-5936542aad88 button.colab-df-convert');\n",
              "        buttonEl.style.display =\n",
              "          google.colab.kernel.accessAllowed ? 'block' : 'none';\n",
              "\n",
              "        async function convertToInteractive(key) {\n",
              "          const element = document.querySelector('#df-4a52353d-17a4-40c5-a6f2-5936542aad88');\n",
              "          const dataTable =\n",
              "            await google.colab.kernel.invokeFunction('convertToInteractive',\n",
              "                                                     [key], {});\n",
              "          if (!dataTable) return;\n",
              "\n",
              "          const docLinkHtml = 'Like what you see? Visit the ' +\n",
              "            '<a target=\"_blank\" href=https://colab.research.google.com/notebooks/data_table.ipynb>data table notebook</a>'\n",
              "            + ' to learn more about interactive tables.';\n",
              "          element.innerHTML = '';\n",
              "          dataTable['output_type'] = 'display_data';\n",
              "          await google.colab.output.renderOutput(dataTable, element);\n",
              "          const docLink = document.createElement('div');\n",
              "          docLink.innerHTML = docLinkHtml;\n",
              "          element.appendChild(docLink);\n",
              "        }\n",
              "      </script>\n",
              "    </div>\n",
              "  </div>\n",
              "  "
            ]
          },
          "metadata": {},
          "execution_count": 7
        }
      ]
    },
    {
      "cell_type": "markdown",
      "source": [
        "We only keep the clean title and the columns for classification:"
      ],
      "metadata": {
        "id": "jMWzHdA81k1y"
      }
    },
    {
      "cell_type": "code",
      "source": [
        "train_data = train[[\"clean_title\", \"2_way_label\", \"3_way_label\", \"6_way_label\"]]\n",
        "val_data=val[[\"clean_title\", \"2_way_label\", \"3_way_label\", \"6_way_label\"]]\n",
        "test_data=test[[\"clean_title\", \"2_way_label\", \"3_way_label\", \"6_way_label\"]]\n",
        "# remove records with Nan values\n",
        "train_data = train_data.dropna()\n",
        "val_data = val_data.dropna()\n",
        "test_data = test_data.dropna()\n"
      ],
      "metadata": {
        "id": "S4fJM65f04Tn"
      },
      "execution_count": null,
      "outputs": []
    },
    {
      "cell_type": "code",
      "source": [
        "train_data.head()"
      ],
      "metadata": {
        "id": "waBd194B1Ykd",
        "colab": {
          "base_uri": "https://localhost:8080/",
          "height": 206
        },
        "outputId": "b9783d95-343f-47f5-cbc0-a957a13cae23"
      },
      "execution_count": null,
      "outputs": [
        {
          "output_type": "execute_result",
          "data": {
            "text/plain": [
              "                                              clean_title  2_way_label  \\\n",
              "224716  this basket made out of old candy wrappers fea...            1   \n",
              "525216                              ugh shitty connection            0   \n",
              "104777                                        evil racoon            0   \n",
              "467061  german tank ace michael wittmans last stand ag...            0   \n",
              "350361                         the dread of lancaster bay            0   \n",
              "\n",
              "        3_way_label  6_way_label  \n",
              "224716            0            0  \n",
              "525216            2            4  \n",
              "104777            2            2  \n",
              "467061            2            2  \n",
              "350361            2            4  "
            ],
            "text/html": [
              "\n",
              "  <div id=\"df-9fb9e152-27a3-46d3-9be0-b4839d2d5115\">\n",
              "    <div class=\"colab-df-container\">\n",
              "      <div>\n",
              "<style scoped>\n",
              "    .dataframe tbody tr th:only-of-type {\n",
              "        vertical-align: middle;\n",
              "    }\n",
              "\n",
              "    .dataframe tbody tr th {\n",
              "        vertical-align: top;\n",
              "    }\n",
              "\n",
              "    .dataframe thead th {\n",
              "        text-align: right;\n",
              "    }\n",
              "</style>\n",
              "<table border=\"1\" class=\"dataframe\">\n",
              "  <thead>\n",
              "    <tr style=\"text-align: right;\">\n",
              "      <th></th>\n",
              "      <th>clean_title</th>\n",
              "      <th>2_way_label</th>\n",
              "      <th>3_way_label</th>\n",
              "      <th>6_way_label</th>\n",
              "    </tr>\n",
              "  </thead>\n",
              "  <tbody>\n",
              "    <tr>\n",
              "      <th>224716</th>\n",
              "      <td>this basket made out of old candy wrappers fea...</td>\n",
              "      <td>1</td>\n",
              "      <td>0</td>\n",
              "      <td>0</td>\n",
              "    </tr>\n",
              "    <tr>\n",
              "      <th>525216</th>\n",
              "      <td>ugh shitty connection</td>\n",
              "      <td>0</td>\n",
              "      <td>2</td>\n",
              "      <td>4</td>\n",
              "    </tr>\n",
              "    <tr>\n",
              "      <th>104777</th>\n",
              "      <td>evil racoon</td>\n",
              "      <td>0</td>\n",
              "      <td>2</td>\n",
              "      <td>2</td>\n",
              "    </tr>\n",
              "    <tr>\n",
              "      <th>467061</th>\n",
              "      <td>german tank ace michael wittmans last stand ag...</td>\n",
              "      <td>0</td>\n",
              "      <td>2</td>\n",
              "      <td>2</td>\n",
              "    </tr>\n",
              "    <tr>\n",
              "      <th>350361</th>\n",
              "      <td>the dread of lancaster bay</td>\n",
              "      <td>0</td>\n",
              "      <td>2</td>\n",
              "      <td>4</td>\n",
              "    </tr>\n",
              "  </tbody>\n",
              "</table>\n",
              "</div>\n",
              "      <button class=\"colab-df-convert\" onclick=\"convertToInteractive('df-9fb9e152-27a3-46d3-9be0-b4839d2d5115')\"\n",
              "              title=\"Convert this dataframe to an interactive table.\"\n",
              "              style=\"display:none;\">\n",
              "        \n",
              "  <svg xmlns=\"http://www.w3.org/2000/svg\" height=\"24px\"viewBox=\"0 0 24 24\"\n",
              "       width=\"24px\">\n",
              "    <path d=\"M0 0h24v24H0V0z\" fill=\"none\"/>\n",
              "    <path d=\"M18.56 5.44l.94 2.06.94-2.06 2.06-.94-2.06-.94-.94-2.06-.94 2.06-2.06.94zm-11 1L8.5 8.5l.94-2.06 2.06-.94-2.06-.94L8.5 2.5l-.94 2.06-2.06.94zm10 10l.94 2.06.94-2.06 2.06-.94-2.06-.94-.94-2.06-.94 2.06-2.06.94z\"/><path d=\"M17.41 7.96l-1.37-1.37c-.4-.4-.92-.59-1.43-.59-.52 0-1.04.2-1.43.59L10.3 9.45l-7.72 7.72c-.78.78-.78 2.05 0 2.83L4 21.41c.39.39.9.59 1.41.59.51 0 1.02-.2 1.41-.59l7.78-7.78 2.81-2.81c.8-.78.8-2.07 0-2.86zM5.41 20L4 18.59l7.72-7.72 1.47 1.35L5.41 20z\"/>\n",
              "  </svg>\n",
              "      </button>\n",
              "      \n",
              "  <style>\n",
              "    .colab-df-container {\n",
              "      display:flex;\n",
              "      flex-wrap:wrap;\n",
              "      gap: 12px;\n",
              "    }\n",
              "\n",
              "    .colab-df-convert {\n",
              "      background-color: #E8F0FE;\n",
              "      border: none;\n",
              "      border-radius: 50%;\n",
              "      cursor: pointer;\n",
              "      display: none;\n",
              "      fill: #1967D2;\n",
              "      height: 32px;\n",
              "      padding: 0 0 0 0;\n",
              "      width: 32px;\n",
              "    }\n",
              "\n",
              "    .colab-df-convert:hover {\n",
              "      background-color: #E2EBFA;\n",
              "      box-shadow: 0px 1px 2px rgba(60, 64, 67, 0.3), 0px 1px 3px 1px rgba(60, 64, 67, 0.15);\n",
              "      fill: #174EA6;\n",
              "    }\n",
              "\n",
              "    [theme=dark] .colab-df-convert {\n",
              "      background-color: #3B4455;\n",
              "      fill: #D2E3FC;\n",
              "    }\n",
              "\n",
              "    [theme=dark] .colab-df-convert:hover {\n",
              "      background-color: #434B5C;\n",
              "      box-shadow: 0px 1px 3px 1px rgba(0, 0, 0, 0.15);\n",
              "      filter: drop-shadow(0px 1px 2px rgba(0, 0, 0, 0.3));\n",
              "      fill: #FFFFFF;\n",
              "    }\n",
              "  </style>\n",
              "\n",
              "      <script>\n",
              "        const buttonEl =\n",
              "          document.querySelector('#df-9fb9e152-27a3-46d3-9be0-b4839d2d5115 button.colab-df-convert');\n",
              "        buttonEl.style.display =\n",
              "          google.colab.kernel.accessAllowed ? 'block' : 'none';\n",
              "\n",
              "        async function convertToInteractive(key) {\n",
              "          const element = document.querySelector('#df-9fb9e152-27a3-46d3-9be0-b4839d2d5115');\n",
              "          const dataTable =\n",
              "            await google.colab.kernel.invokeFunction('convertToInteractive',\n",
              "                                                     [key], {});\n",
              "          if (!dataTable) return;\n",
              "\n",
              "          const docLinkHtml = 'Like what you see? Visit the ' +\n",
              "            '<a target=\"_blank\" href=https://colab.research.google.com/notebooks/data_table.ipynb>data table notebook</a>'\n",
              "            + ' to learn more about interactive tables.';\n",
              "          element.innerHTML = '';\n",
              "          dataTable['output_type'] = 'display_data';\n",
              "          await google.colab.output.renderOutput(dataTable, element);\n",
              "          const docLink = document.createElement('div');\n",
              "          docLink.innerHTML = docLinkHtml;\n",
              "          element.appendChild(docLink);\n",
              "        }\n",
              "      </script>\n",
              "    </div>\n",
              "  </div>\n",
              "  "
            ]
          },
          "metadata": {},
          "execution_count": 9
        }
      ]
    },
    {
      "cell_type": "markdown",
      "source": [
        "We save the texts:"
      ],
      "metadata": {
        "id": "8pnPsRs03Qq_"
      }
    },
    {
      "cell_type": "code",
      "source": [
        "X_train = train_data[\"clean_title\"].values.tolist()\n",
        "X_val = val_data[\"clean_title\"].values.tolist()\n",
        "X_test = test_data[\"clean_title\"].values.tolist()\n",
        "print(type(X_train))"
      ],
      "metadata": {
        "id": "o2fZwhZ72BRO",
        "colab": {
          "base_uri": "https://localhost:8080/"
        },
        "outputId": "bdc046ad-da4c-41c9-f616-1d776ec982ac"
      },
      "execution_count": null,
      "outputs": [
        {
          "output_type": "stream",
          "name": "stdout",
          "text": [
            "<class 'list'>\n"
          ]
        }
      ]
    },
    {
      "cell_type": "markdown",
      "source": [
        "We show some examples:"
      ],
      "metadata": {
        "id": "5sJtFRW4E0_k"
      }
    },
    {
      "cell_type": "code",
      "source": [
        "print(X_train[0])\n",
        "print(X_val[0])\n",
        "print(X_test[0])\n"
      ],
      "metadata": {
        "id": "uSZxw3tJ3_eT",
        "colab": {
          "base_uri": "https://localhost:8080/"
        },
        "outputId": "e877de0b-971c-4eb8-dc7b-1a8e3cafbdd6"
      },
      "execution_count": null,
      "outputs": [
        {
          "output_type": "stream",
          "name": "stdout",
          "text": [
            "this basket made out of old candy wrappers feat some hot garlic bread\n",
            "catana contender for mortal kombat\n",
            "cutout\n"
          ]
        }
      ]
    },
    {
      "cell_type": "markdown",
      "source": [
        "We decide what type of classication we will address: \n",
        "- binary (2_way_label)\n",
        "- tres classes (3_way_label)\n",
        "- 6 classes (6_way_label)"
      ],
      "metadata": {
        "id": "4fuE_ZJ_1vNg"
      }
    },
    {
      "cell_type": "code",
      "source": [
        "TYPE_CLASSIFICATION = 6 # 2, 3 OR 6"
      ],
      "metadata": {
        "id": "2OjD_1VI2KSG"
      },
      "execution_count": null,
      "outputs": []
    },
    {
      "cell_type": "code",
      "source": [
        "y_train = train_data[str(TYPE_CLASSIFICATION) + '_way_label'].values.tolist()\n",
        "y_val = val_data[str(TYPE_CLASSIFICATION) + '_way_label'].values.tolist()\n",
        "y_test = test_data[str(TYPE_CLASSIFICATION) + '_way_label'].values.tolist()\n"
      ],
      "metadata": {
        "id": "NIj97YP53Tha"
      },
      "execution_count": null,
      "outputs": []
    },
    {
      "cell_type": "markdown",
      "source": [
        "We do not need to encoder the labels because they are already provided as numbers. \n",
        "\n",
        "That is, in the 6_way_label, the labels are 0, 1, 2, 3, 4, 5. \n",
        "- 0: true\n",
        "- 1: Satire/Parody:\n",
        "- 2: Misleading Content\n",
        "- 3: Imposter Content\n",
        "- 4: False Connection\n",
        "- 5: Manipulated Content\n",
        "\n",
        "In the 3_way_label, the labels are 0, 1, 2:\n",
        "- 0: true\n",
        "- 1: the sample is fake and contains text that is true (i.e. direct quotes from propaganda posters)\n",
        "- 2: False\n",
        "\n",
        "In the 2_way_label, the labels are 0, 1:\n",
        "- 0: true\n",
        "- 1: False\n"
      ],
      "metadata": {
        "id": "i45R7nwO4NaW"
      }
    },
    {
      "cell_type": "code",
      "source": [
        "labels_dict = {}\n",
        "if TYPE_CLASSIFICATION == 2:\n",
        "    labels_dict[0] = \"True\"\n",
        "    labels_dict[1] = \"False\"\n",
        "elif TYPE_CLASSIFICATION == 3:\n",
        "    labels_dict[0] = \"True\"\n",
        "    labels_dict[1] = \"Fake contains True\"\n",
        "    labels_dict[2] = \"False\"\n",
        "elif TYPE_CLASSIFICATION == 6:\n",
        "    labels_dict[0] = \"True\"\n",
        "    labels_dict[1] = \"Satire/Parody\"\n",
        "    labels_dict[2] = \"Misleading Content\"\n",
        "    labels_dict[3] = \"Imposter Content\"\n",
        "    labels_dict[4] = \"False Connection\"\n",
        "    labels_dict[5] = \"Manipulated Content\"\n",
        "\n",
        "print(labels_dict)"
      ],
      "metadata": {
        "id": "BPDLTrIn6LaE",
        "colab": {
          "base_uri": "https://localhost:8080/"
        },
        "outputId": "da40d74c-cdb1-4c74-91f5-801e668066f4"
      },
      "execution_count": null,
      "outputs": [
        {
          "output_type": "stream",
          "name": "stdout",
          "text": [
            "{0: 'True', 1: 'Satire/Parody', 2: 'Misleading Content', 3: 'Imposter Content', 4: 'False Connection', 5: 'Manipulated Content'}\n"
          ]
        }
      ]
    },
    {
      "cell_type": "markdown",
      "source": [
        "We show some examples and their labels:"
      ],
      "metadata": {
        "id": "_n9La3B2E832"
      }
    },
    {
      "cell_type": "code",
      "source": [
        "print(X_train[0], y_train[0], labels_dict[y_train[0]])\n",
        "print(X_val[0], y_val[0], labels_dict[y_val[0]])\n",
        "print(X_test[0], y_test[0], labels_dict[y_test[0]])\n",
        "\n",
        "\n"
      ],
      "metadata": {
        "id": "PEWyU4ho2oIw",
        "colab": {
          "base_uri": "https://localhost:8080/"
        },
        "outputId": "be4b277a-8f5e-4a96-b641-d61a0c2fab6f"
      },
      "execution_count": null,
      "outputs": [
        {
          "output_type": "stream",
          "name": "stdout",
          "text": [
            "this basket made out of old candy wrappers feat some hot garlic bread 0 True\n",
            "catana contender for mortal kombat 4 False Connection\n",
            "cutout 4 False Connection\n"
          ]
        }
      ]
    },
    {
      "cell_type": "markdown",
      "source": [
        "## Data Visualization\n",
        "\n",
        "Here we should provide more detail about the dataset (class distribution, average lenght of the texts, etc)"
      ],
      "metadata": {
        "id": "sH9cEVWL7eef"
      }
    },
    {
      "cell_type": "code",
      "source": [
        "# we will do it after"
      ],
      "metadata": {
        "id": "mQkDDujH7oES"
      },
      "execution_count": null,
      "outputs": []
    },
    {
      "cell_type": "markdown",
      "source": [
        "## Transformers"
      ],
      "metadata": {
        "id": "LHmAr8AC7mIZ"
      }
    },
    {
      "cell_type": "markdown",
      "source": [
        "First, we install the libraries:"
      ],
      "metadata": {
        "id": "yTr53tRT71SH"
      }
    },
    {
      "cell_type": "code",
      "source": [
        "!pip3 install transformers numpy torch sklearn\n"
      ],
      "metadata": {
        "id": "RbId8-_273Cy",
        "colab": {
          "base_uri": "https://localhost:8080/"
        },
        "outputId": "b538a794-46ad-4e46-d454-79b4a4cb4df1"
      },
      "execution_count": null,
      "outputs": [
        {
          "output_type": "stream",
          "name": "stdout",
          "text": [
            "Collecting transformers\n",
            "  Downloading transformers-4.17.0-py3-none-any.whl (3.8 MB)\n",
            "\u001b[?25l\r\u001b[K     |                                | 10 kB 34.3 MB/s eta 0:00:01\r\u001b[K     |▏                               | 20 kB 41.3 MB/s eta 0:00:01\r\u001b[K     |▎                               | 30 kB 32.9 MB/s eta 0:00:01\r\u001b[K     |▍                               | 40 kB 24.5 MB/s eta 0:00:01\r\u001b[K     |▍                               | 51 kB 27.8 MB/s eta 0:00:01\r\u001b[K     |▌                               | 61 kB 31.4 MB/s eta 0:00:01\r\u001b[K     |▋                               | 71 kB 25.2 MB/s eta 0:00:01\r\u001b[K     |▊                               | 81 kB 27.1 MB/s eta 0:00:01\r\u001b[K     |▊                               | 92 kB 29.2 MB/s eta 0:00:01\r\u001b[K     |▉                               | 102 kB 30.2 MB/s eta 0:00:01\r\u001b[K     |█                               | 112 kB 30.2 MB/s eta 0:00:01\r\u001b[K     |█                               | 122 kB 30.2 MB/s eta 0:00:01\r\u001b[K     |█▏                              | 133 kB 30.2 MB/s eta 0:00:01\r\u001b[K     |█▏                              | 143 kB 30.2 MB/s eta 0:00:01\r\u001b[K     |█▎                              | 153 kB 30.2 MB/s eta 0:00:01\r\u001b[K     |█▍                              | 163 kB 30.2 MB/s eta 0:00:01\r\u001b[K     |█▌                              | 174 kB 30.2 MB/s eta 0:00:01\r\u001b[K     |█▌                              | 184 kB 30.2 MB/s eta 0:00:01\r\u001b[K     |█▋                              | 194 kB 30.2 MB/s eta 0:00:01\r\u001b[K     |█▊                              | 204 kB 30.2 MB/s eta 0:00:01\r\u001b[K     |█▉                              | 215 kB 30.2 MB/s eta 0:00:01\r\u001b[K     |█▉                              | 225 kB 30.2 MB/s eta 0:00:01\r\u001b[K     |██                              | 235 kB 30.2 MB/s eta 0:00:01\r\u001b[K     |██                              | 245 kB 30.2 MB/s eta 0:00:01\r\u001b[K     |██▏                             | 256 kB 30.2 MB/s eta 0:00:01\r\u001b[K     |██▎                             | 266 kB 30.2 MB/s eta 0:00:01\r\u001b[K     |██▎                             | 276 kB 30.2 MB/s eta 0:00:01\r\u001b[K     |██▍                             | 286 kB 30.2 MB/s eta 0:00:01\r\u001b[K     |██▌                             | 296 kB 30.2 MB/s eta 0:00:01\r\u001b[K     |██▋                             | 307 kB 30.2 MB/s eta 0:00:01\r\u001b[K     |██▋                             | 317 kB 30.2 MB/s eta 0:00:01\r\u001b[K     |██▊                             | 327 kB 30.2 MB/s eta 0:00:01\r\u001b[K     |██▉                             | 337 kB 30.2 MB/s eta 0:00:01\r\u001b[K     |███                             | 348 kB 30.2 MB/s eta 0:00:01\r\u001b[K     |███                             | 358 kB 30.2 MB/s eta 0:00:01\r\u001b[K     |███                             | 368 kB 30.2 MB/s eta 0:00:01\r\u001b[K     |███▏                            | 378 kB 30.2 MB/s eta 0:00:01\r\u001b[K     |███▎                            | 389 kB 30.2 MB/s eta 0:00:01\r\u001b[K     |███▍                            | 399 kB 30.2 MB/s eta 0:00:01\r\u001b[K     |███▍                            | 409 kB 30.2 MB/s eta 0:00:01\r\u001b[K     |███▌                            | 419 kB 30.2 MB/s eta 0:00:01\r\u001b[K     |███▋                            | 430 kB 30.2 MB/s eta 0:00:01\r\u001b[K     |███▊                            | 440 kB 30.2 MB/s eta 0:00:01\r\u001b[K     |███▊                            | 450 kB 30.2 MB/s eta 0:00:01\r\u001b[K     |███▉                            | 460 kB 30.2 MB/s eta 0:00:01\r\u001b[K     |████                            | 471 kB 30.2 MB/s eta 0:00:01\r\u001b[K     |████                            | 481 kB 30.2 MB/s eta 0:00:01\r\u001b[K     |████                            | 491 kB 30.2 MB/s eta 0:00:01\r\u001b[K     |████▏                           | 501 kB 30.2 MB/s eta 0:00:01\r\u001b[K     |████▎                           | 512 kB 30.2 MB/s eta 0:00:01\r\u001b[K     |████▍                           | 522 kB 30.2 MB/s eta 0:00:01\r\u001b[K     |████▌                           | 532 kB 30.2 MB/s eta 0:00:01\r\u001b[K     |████▌                           | 542 kB 30.2 MB/s eta 0:00:01\r\u001b[K     |████▋                           | 552 kB 30.2 MB/s eta 0:00:01\r\u001b[K     |████▊                           | 563 kB 30.2 MB/s eta 0:00:01\r\u001b[K     |████▉                           | 573 kB 30.2 MB/s eta 0:00:01\r\u001b[K     |████▉                           | 583 kB 30.2 MB/s eta 0:00:01\r\u001b[K     |█████                           | 593 kB 30.2 MB/s eta 0:00:01\r\u001b[K     |█████                           | 604 kB 30.2 MB/s eta 0:00:01\r\u001b[K     |█████▏                          | 614 kB 30.2 MB/s eta 0:00:01\r\u001b[K     |█████▎                          | 624 kB 30.2 MB/s eta 0:00:01\r\u001b[K     |█████▎                          | 634 kB 30.2 MB/s eta 0:00:01\r\u001b[K     |█████▍                          | 645 kB 30.2 MB/s eta 0:00:01\r\u001b[K     |█████▌                          | 655 kB 30.2 MB/s eta 0:00:01\r\u001b[K     |█████▋                          | 665 kB 30.2 MB/s eta 0:00:01\r\u001b[K     |█████▋                          | 675 kB 30.2 MB/s eta 0:00:01\r\u001b[K     |█████▊                          | 686 kB 30.2 MB/s eta 0:00:01\r\u001b[K     |█████▉                          | 696 kB 30.2 MB/s eta 0:00:01\r\u001b[K     |██████                          | 706 kB 30.2 MB/s eta 0:00:01\r\u001b[K     |██████                          | 716 kB 30.2 MB/s eta 0:00:01\r\u001b[K     |██████                          | 727 kB 30.2 MB/s eta 0:00:01\r\u001b[K     |██████▏                         | 737 kB 30.2 MB/s eta 0:00:01\r\u001b[K     |██████▎                         | 747 kB 30.2 MB/s eta 0:00:01\r\u001b[K     |██████▍                         | 757 kB 30.2 MB/s eta 0:00:01\r\u001b[K     |██████▍                         | 768 kB 30.2 MB/s eta 0:00:01\r\u001b[K     |██████▌                         | 778 kB 30.2 MB/s eta 0:00:01\r\u001b[K     |██████▋                         | 788 kB 30.2 MB/s eta 0:00:01\r\u001b[K     |██████▊                         | 798 kB 30.2 MB/s eta 0:00:01\r\u001b[K     |██████▊                         | 808 kB 30.2 MB/s eta 0:00:01\r\u001b[K     |██████▉                         | 819 kB 30.2 MB/s eta 0:00:01\r\u001b[K     |███████                         | 829 kB 30.2 MB/s eta 0:00:01\r\u001b[K     |███████                         | 839 kB 30.2 MB/s eta 0:00:01\r\u001b[K     |███████                         | 849 kB 30.2 MB/s eta 0:00:01\r\u001b[K     |███████▏                        | 860 kB 30.2 MB/s eta 0:00:01\r\u001b[K     |███████▎                        | 870 kB 30.2 MB/s eta 0:00:01\r\u001b[K     |███████▍                        | 880 kB 30.2 MB/s eta 0:00:01\r\u001b[K     |███████▌                        | 890 kB 30.2 MB/s eta 0:00:01\r\u001b[K     |███████▌                        | 901 kB 30.2 MB/s eta 0:00:01\r\u001b[K     |███████▋                        | 911 kB 30.2 MB/s eta 0:00:01\r\u001b[K     |███████▊                        | 921 kB 30.2 MB/s eta 0:00:01\r\u001b[K     |███████▉                        | 931 kB 30.2 MB/s eta 0:00:01\r\u001b[K     |███████▉                        | 942 kB 30.2 MB/s eta 0:00:01\r\u001b[K     |████████                        | 952 kB 30.2 MB/s eta 0:00:01\r\u001b[K     |████████                        | 962 kB 30.2 MB/s eta 0:00:01\r\u001b[K     |████████▏                       | 972 kB 30.2 MB/s eta 0:00:01\r\u001b[K     |████████▏                       | 983 kB 30.2 MB/s eta 0:00:01\r\u001b[K     |████████▎                       | 993 kB 30.2 MB/s eta 0:00:01\r\u001b[K     |████████▍                       | 1.0 MB 30.2 MB/s eta 0:00:01\r\u001b[K     |████████▌                       | 1.0 MB 30.2 MB/s eta 0:00:01\r\u001b[K     |████████▋                       | 1.0 MB 30.2 MB/s eta 0:00:01\r\u001b[K     |████████▋                       | 1.0 MB 30.2 MB/s eta 0:00:01\r\u001b[K     |████████▊                       | 1.0 MB 30.2 MB/s eta 0:00:01\r\u001b[K     |████████▉                       | 1.1 MB 30.2 MB/s eta 0:00:01\r\u001b[K     |█████████                       | 1.1 MB 30.2 MB/s eta 0:00:01\r\u001b[K     |█████████                       | 1.1 MB 30.2 MB/s eta 0:00:01\r\u001b[K     |█████████                       | 1.1 MB 30.2 MB/s eta 0:00:01\r\u001b[K     |█████████▏                      | 1.1 MB 30.2 MB/s eta 0:00:01\r\u001b[K     |█████████▎                      | 1.1 MB 30.2 MB/s eta 0:00:01\r\u001b[K     |█████████▍                      | 1.1 MB 30.2 MB/s eta 0:00:01\r\u001b[K     |█████████▍                      | 1.1 MB 30.2 MB/s eta 0:00:01\r\u001b[K     |█████████▌                      | 1.1 MB 30.2 MB/s eta 0:00:01\r\u001b[K     |█████████▋                      | 1.1 MB 30.2 MB/s eta 0:00:01\r\u001b[K     |█████████▊                      | 1.2 MB 30.2 MB/s eta 0:00:01\r\u001b[K     |█████████▊                      | 1.2 MB 30.2 MB/s eta 0:00:01\r\u001b[K     |█████████▉                      | 1.2 MB 30.2 MB/s eta 0:00:01\r\u001b[K     |██████████                      | 1.2 MB 30.2 MB/s eta 0:00:01\r\u001b[K     |██████████                      | 1.2 MB 30.2 MB/s eta 0:00:01\r\u001b[K     |██████████                      | 1.2 MB 30.2 MB/s eta 0:00:01\r\u001b[K     |██████████▏                     | 1.2 MB 30.2 MB/s eta 0:00:01\r\u001b[K     |██████████▎                     | 1.2 MB 30.2 MB/s eta 0:00:01\r\u001b[K     |██████████▍                     | 1.2 MB 30.2 MB/s eta 0:00:01\r\u001b[K     |██████████▌                     | 1.2 MB 30.2 MB/s eta 0:00:01\r\u001b[K     |██████████▌                     | 1.3 MB 30.2 MB/s eta 0:00:01\r\u001b[K     |██████████▋                     | 1.3 MB 30.2 MB/s eta 0:00:01\r\u001b[K     |██████████▊                     | 1.3 MB 30.2 MB/s eta 0:00:01\r\u001b[K     |██████████▉                     | 1.3 MB 30.2 MB/s eta 0:00:01\r\u001b[K     |██████████▉                     | 1.3 MB 30.2 MB/s eta 0:00:01\r\u001b[K     |███████████                     | 1.3 MB 30.2 MB/s eta 0:00:01\r\u001b[K     |███████████                     | 1.3 MB 30.2 MB/s eta 0:00:01\r\u001b[K     |███████████▏                    | 1.3 MB 30.2 MB/s eta 0:00:01\r\u001b[K     |███████████▏                    | 1.3 MB 30.2 MB/s eta 0:00:01\r\u001b[K     |███████████▎                    | 1.4 MB 30.2 MB/s eta 0:00:01\r\u001b[K     |███████████▍                    | 1.4 MB 30.2 MB/s eta 0:00:01\r\u001b[K     |███████████▌                    | 1.4 MB 30.2 MB/s eta 0:00:01\r\u001b[K     |███████████▋                    | 1.4 MB 30.2 MB/s eta 0:00:01\r\u001b[K     |███████████▋                    | 1.4 MB 30.2 MB/s eta 0:00:01\r\u001b[K     |███████████▊                    | 1.4 MB 30.2 MB/s eta 0:00:01\r\u001b[K     |███████████▉                    | 1.4 MB 30.2 MB/s eta 0:00:01\r\u001b[K     |████████████                    | 1.4 MB 30.2 MB/s eta 0:00:01\r\u001b[K     |████████████                    | 1.4 MB 30.2 MB/s eta 0:00:01\r\u001b[K     |████████████                    | 1.4 MB 30.2 MB/s eta 0:00:01\r\u001b[K     |████████████▏                   | 1.5 MB 30.2 MB/s eta 0:00:01\r\u001b[K     |████████████▎                   | 1.5 MB 30.2 MB/s eta 0:00:01\r\u001b[K     |████████████▎                   | 1.5 MB 30.2 MB/s eta 0:00:01\r\u001b[K     |████████████▍                   | 1.5 MB 30.2 MB/s eta 0:00:01\r\u001b[K     |████████████▌                   | 1.5 MB 30.2 MB/s eta 0:00:01\r\u001b[K     |████████████▋                   | 1.5 MB 30.2 MB/s eta 0:00:01\r\u001b[K     |████████████▊                   | 1.5 MB 30.2 MB/s eta 0:00:01\r\u001b[K     |████████████▊                   | 1.5 MB 30.2 MB/s eta 0:00:01\r\u001b[K     |████████████▉                   | 1.5 MB 30.2 MB/s eta 0:00:01\r\u001b[K     |█████████████                   | 1.5 MB 30.2 MB/s eta 0:00:01\r\u001b[K     |█████████████                   | 1.6 MB 30.2 MB/s eta 0:00:01\r\u001b[K     |█████████████                   | 1.6 MB 30.2 MB/s eta 0:00:01\r\u001b[K     |█████████████▏                  | 1.6 MB 30.2 MB/s eta 0:00:01\r\u001b[K     |█████████████▎                  | 1.6 MB 30.2 MB/s eta 0:00:01\r\u001b[K     |█████████████▍                  | 1.6 MB 30.2 MB/s eta 0:00:01\r\u001b[K     |█████████████▌                  | 1.6 MB 30.2 MB/s eta 0:00:01\r\u001b[K     |█████████████▌                  | 1.6 MB 30.2 MB/s eta 0:00:01\r\u001b[K     |█████████████▋                  | 1.6 MB 30.2 MB/s eta 0:00:01\r\u001b[K     |█████████████▊                  | 1.6 MB 30.2 MB/s eta 0:00:01\r\u001b[K     |█████████████▉                  | 1.6 MB 30.2 MB/s eta 0:00:01\r\u001b[K     |█████████████▉                  | 1.7 MB 30.2 MB/s eta 0:00:01\r\u001b[K     |██████████████                  | 1.7 MB 30.2 MB/s eta 0:00:01\r\u001b[K     |██████████████                  | 1.7 MB 30.2 MB/s eta 0:00:01\r\u001b[K     |██████████████▏                 | 1.7 MB 30.2 MB/s eta 0:00:01\r\u001b[K     |██████████████▏                 | 1.7 MB 30.2 MB/s eta 0:00:01\r\u001b[K     |██████████████▎                 | 1.7 MB 30.2 MB/s eta 0:00:01\r\u001b[K     |██████████████▍                 | 1.7 MB 30.2 MB/s eta 0:00:01\r\u001b[K     |██████████████▌                 | 1.7 MB 30.2 MB/s eta 0:00:01\r\u001b[K     |██████████████▋                 | 1.7 MB 30.2 MB/s eta 0:00:01\r\u001b[K     |██████████████▋                 | 1.8 MB 30.2 MB/s eta 0:00:01\r\u001b[K     |██████████████▊                 | 1.8 MB 30.2 MB/s eta 0:00:01\r\u001b[K     |██████████████▉                 | 1.8 MB 30.2 MB/s eta 0:00:01\r\u001b[K     |███████████████                 | 1.8 MB 30.2 MB/s eta 0:00:01\r\u001b[K     |███████████████                 | 1.8 MB 30.2 MB/s eta 0:00:01\r\u001b[K     |███████████████                 | 1.8 MB 30.2 MB/s eta 0:00:01\r\u001b[K     |███████████████▏                | 1.8 MB 30.2 MB/s eta 0:00:01\r\u001b[K     |███████████████▎                | 1.8 MB 30.2 MB/s eta 0:00:01\r\u001b[K     |███████████████▎                | 1.8 MB 30.2 MB/s eta 0:00:01\r\u001b[K     |███████████████▍                | 1.8 MB 30.2 MB/s eta 0:00:01\r\u001b[K     |███████████████▌                | 1.9 MB 30.2 MB/s eta 0:00:01\r\u001b[K     |███████████████▋                | 1.9 MB 30.2 MB/s eta 0:00:01\r\u001b[K     |███████████████▊                | 1.9 MB 30.2 MB/s eta 0:00:01\r\u001b[K     |███████████████▊                | 1.9 MB 30.2 MB/s eta 0:00:01\r\u001b[K     |███████████████▉                | 1.9 MB 30.2 MB/s eta 0:00:01\r\u001b[K     |████████████████                | 1.9 MB 30.2 MB/s eta 0:00:01\r\u001b[K     |████████████████                | 1.9 MB 30.2 MB/s eta 0:00:01\r\u001b[K     |████████████████                | 1.9 MB 30.2 MB/s eta 0:00:01\r\u001b[K     |████████████████▏               | 1.9 MB 30.2 MB/s eta 0:00:01\r\u001b[K     |████████████████▎               | 1.9 MB 30.2 MB/s eta 0:00:01\r\u001b[K     |████████████████▍               | 2.0 MB 30.2 MB/s eta 0:00:01\r\u001b[K     |████████████████▍               | 2.0 MB 30.2 MB/s eta 0:00:01\r\u001b[K     |████████████████▌               | 2.0 MB 30.2 MB/s eta 0:00:01\r\u001b[K     |████████████████▋               | 2.0 MB 30.2 MB/s eta 0:00:01\r\u001b[K     |████████████████▊               | 2.0 MB 30.2 MB/s eta 0:00:01\r\u001b[K     |████████████████▉               | 2.0 MB 30.2 MB/s eta 0:00:01\r\u001b[K     |████████████████▉               | 2.0 MB 30.2 MB/s eta 0:00:01\r\u001b[K     |█████████████████               | 2.0 MB 30.2 MB/s eta 0:00:01\r\u001b[K     |█████████████████               | 2.0 MB 30.2 MB/s eta 0:00:01\r\u001b[K     |█████████████████▏              | 2.0 MB 30.2 MB/s eta 0:00:01\r\u001b[K     |█████████████████▏              | 2.1 MB 30.2 MB/s eta 0:00:01\r\u001b[K     |█████████████████▎              | 2.1 MB 30.2 MB/s eta 0:00:01\r\u001b[K     |█████████████████▍              | 2.1 MB 30.2 MB/s eta 0:00:01\r\u001b[K     |█████████████████▌              | 2.1 MB 30.2 MB/s eta 0:00:01\r\u001b[K     |█████████████████▋              | 2.1 MB 30.2 MB/s eta 0:00:01\r\u001b[K     |█████████████████▋              | 2.1 MB 30.2 MB/s eta 0:00:01\r\u001b[K     |█████████████████▊              | 2.1 MB 30.2 MB/s eta 0:00:01\r\u001b[K     |█████████████████▉              | 2.1 MB 30.2 MB/s eta 0:00:01\r\u001b[K     |██████████████████              | 2.1 MB 30.2 MB/s eta 0:00:01\r\u001b[K     |██████████████████              | 2.2 MB 30.2 MB/s eta 0:00:01\r\u001b[K     |██████████████████              | 2.2 MB 30.2 MB/s eta 0:00:01\r\u001b[K     |██████████████████▏             | 2.2 MB 30.2 MB/s eta 0:00:01\r\u001b[K     |██████████████████▎             | 2.2 MB 30.2 MB/s eta 0:00:01\r\u001b[K     |██████████████████▎             | 2.2 MB 30.2 MB/s eta 0:00:01\r\u001b[K     |██████████████████▍             | 2.2 MB 30.2 MB/s eta 0:00:01\r\u001b[K     |██████████████████▌             | 2.2 MB 30.2 MB/s eta 0:00:01\r\u001b[K     |██████████████████▋             | 2.2 MB 30.2 MB/s eta 0:00:01\r\u001b[K     |██████████████████▊             | 2.2 MB 30.2 MB/s eta 0:00:01\r\u001b[K     |██████████████████▊             | 2.2 MB 30.2 MB/s eta 0:00:01\r\u001b[K     |██████████████████▉             | 2.3 MB 30.2 MB/s eta 0:00:01\r\u001b[K     |███████████████████             | 2.3 MB 30.2 MB/s eta 0:00:01\r\u001b[K     |███████████████████             | 2.3 MB 30.2 MB/s eta 0:00:01\r\u001b[K     |███████████████████             | 2.3 MB 30.2 MB/s eta 0:00:01\r\u001b[K     |███████████████████▏            | 2.3 MB 30.2 MB/s eta 0:00:01\r\u001b[K     |███████████████████▎            | 2.3 MB 30.2 MB/s eta 0:00:01\r\u001b[K     |███████████████████▍            | 2.3 MB 30.2 MB/s eta 0:00:01\r\u001b[K     |███████████████████▍            | 2.3 MB 30.2 MB/s eta 0:00:01\r\u001b[K     |███████████████████▌            | 2.3 MB 30.2 MB/s eta 0:00:01\r\u001b[K     |███████████████████▋            | 2.3 MB 30.2 MB/s eta 0:00:01\r\u001b[K     |███████████████████▊            | 2.4 MB 30.2 MB/s eta 0:00:01\r\u001b[K     |███████████████████▉            | 2.4 MB 30.2 MB/s eta 0:00:01\r\u001b[K     |███████████████████▉            | 2.4 MB 30.2 MB/s eta 0:00:01\r\u001b[K     |████████████████████            | 2.4 MB 30.2 MB/s eta 0:00:01\r\u001b[K     |████████████████████            | 2.4 MB 30.2 MB/s eta 0:00:01\r\u001b[K     |████████████████████▏           | 2.4 MB 30.2 MB/s eta 0:00:01\r\u001b[K     |████████████████████▏           | 2.4 MB 30.2 MB/s eta 0:00:01\r\u001b[K     |████████████████████▎           | 2.4 MB 30.2 MB/s eta 0:00:01\r\u001b[K     |████████████████████▍           | 2.4 MB 30.2 MB/s eta 0:00:01\r\u001b[K     |████████████████████▌           | 2.4 MB 30.2 MB/s eta 0:00:01\r\u001b[K     |████████████████████▌           | 2.5 MB 30.2 MB/s eta 0:00:01\r\u001b[K     |████████████████████▋           | 2.5 MB 30.2 MB/s eta 0:00:01\r\u001b[K     |████████████████████▊           | 2.5 MB 30.2 MB/s eta 0:00:01\r\u001b[K     |████████████████████▉           | 2.5 MB 30.2 MB/s eta 0:00:01\r\u001b[K     |█████████████████████           | 2.5 MB 30.2 MB/s eta 0:00:01\r\u001b[K     |█████████████████████           | 2.5 MB 30.2 MB/s eta 0:00:01\r\u001b[K     |█████████████████████           | 2.5 MB 30.2 MB/s eta 0:00:01\r\u001b[K     |█████████████████████▏          | 2.5 MB 30.2 MB/s eta 0:00:01\r\u001b[K     |█████████████████████▎          | 2.5 MB 30.2 MB/s eta 0:00:01\r\u001b[K     |█████████████████████▎          | 2.5 MB 30.2 MB/s eta 0:00:01\r\u001b[K     |█████████████████████▍          | 2.6 MB 30.2 MB/s eta 0:00:01\r\u001b[K     |█████████████████████▌          | 2.6 MB 30.2 MB/s eta 0:00:01\r\u001b[K     |█████████████████████▋          | 2.6 MB 30.2 MB/s eta 0:00:01\r\u001b[K     |█████████████████████▋          | 2.6 MB 30.2 MB/s eta 0:00:01\r\u001b[K     |█████████████████████▊          | 2.6 MB 30.2 MB/s eta 0:00:01\r\u001b[K     |█████████████████████▉          | 2.6 MB 30.2 MB/s eta 0:00:01\r\u001b[K     |██████████████████████          | 2.6 MB 30.2 MB/s eta 0:00:01\r\u001b[K     |██████████████████████          | 2.6 MB 30.2 MB/s eta 0:00:01\r\u001b[K     |██████████████████████          | 2.6 MB 30.2 MB/s eta 0:00:01\r\u001b[K     |██████████████████████▏         | 2.7 MB 30.2 MB/s eta 0:00:01\r\u001b[K     |██████████████████████▎         | 2.7 MB 30.2 MB/s eta 0:00:01\r\u001b[K     |██████████████████████▍         | 2.7 MB 30.2 MB/s eta 0:00:01\r\u001b[K     |██████████████████████▍         | 2.7 MB 30.2 MB/s eta 0:00:01\r\u001b[K     |██████████████████████▌         | 2.7 MB 30.2 MB/s eta 0:00:01\r\u001b[K     |██████████████████████▋         | 2.7 MB 30.2 MB/s eta 0:00:01\r\u001b[K     |██████████████████████▊         | 2.7 MB 30.2 MB/s eta 0:00:01\r\u001b[K     |██████████████████████▉         | 2.7 MB 30.2 MB/s eta 0:00:01\r\u001b[K     |██████████████████████▉         | 2.7 MB 30.2 MB/s eta 0:00:01\r\u001b[K     |███████████████████████         | 2.7 MB 30.2 MB/s eta 0:00:01\r\u001b[K     |███████████████████████         | 2.8 MB 30.2 MB/s eta 0:00:01\r\u001b[K     |███████████████████████▏        | 2.8 MB 30.2 MB/s eta 0:00:01\r\u001b[K     |███████████████████████▏        | 2.8 MB 30.2 MB/s eta 0:00:01\r\u001b[K     |███████████████████████▎        | 2.8 MB 30.2 MB/s eta 0:00:01\r\u001b[K     |███████████████████████▍        | 2.8 MB 30.2 MB/s eta 0:00:01\r\u001b[K     |███████████████████████▌        | 2.8 MB 30.2 MB/s eta 0:00:01\r\u001b[K     |███████████████████████▌        | 2.8 MB 30.2 MB/s eta 0:00:01\r\u001b[K     |███████████████████████▋        | 2.8 MB 30.2 MB/s eta 0:00:01\r\u001b[K     |███████████████████████▊        | 2.8 MB 30.2 MB/s eta 0:00:01\r\u001b[K     |███████████████████████▉        | 2.8 MB 30.2 MB/s eta 0:00:01\r\u001b[K     |████████████████████████        | 2.9 MB 30.2 MB/s eta 0:00:01\r\u001b[K     |████████████████████████        | 2.9 MB 30.2 MB/s eta 0:00:01\r\u001b[K     |████████████████████████        | 2.9 MB 30.2 MB/s eta 0:00:01\r\u001b[K     |████████████████████████▏       | 2.9 MB 30.2 MB/s eta 0:00:01\r\u001b[K     |████████████████████████▎       | 2.9 MB 30.2 MB/s eta 0:00:01\r\u001b[K     |████████████████████████▎       | 2.9 MB 30.2 MB/s eta 0:00:01\r\u001b[K     |████████████████████████▍       | 2.9 MB 30.2 MB/s eta 0:00:01\r\u001b[K     |████████████████████████▌       | 2.9 MB 30.2 MB/s eta 0:00:01\r\u001b[K     |████████████████████████▋       | 2.9 MB 30.2 MB/s eta 0:00:01\r\u001b[K     |████████████████████████▋       | 2.9 MB 30.2 MB/s eta 0:00:01\r\u001b[K     |████████████████████████▊       | 3.0 MB 30.2 MB/s eta 0:00:01\r\u001b[K     |████████████████████████▉       | 3.0 MB 30.2 MB/s eta 0:00:01\r\u001b[K     |█████████████████████████       | 3.0 MB 30.2 MB/s eta 0:00:01\r\u001b[K     |█████████████████████████       | 3.0 MB 30.2 MB/s eta 0:00:01\r\u001b[K     |█████████████████████████       | 3.0 MB 30.2 MB/s eta 0:00:01\r\u001b[K     |█████████████████████████▏      | 3.0 MB 30.2 MB/s eta 0:00:01\r\u001b[K     |█████████████████████████▎      | 3.0 MB 30.2 MB/s eta 0:00:01\r\u001b[K     |█████████████████████████▍      | 3.0 MB 30.2 MB/s eta 0:00:01\r\u001b[K     |█████████████████████████▍      | 3.0 MB 30.2 MB/s eta 0:00:01\r\u001b[K     |█████████████████████████▌      | 3.1 MB 30.2 MB/s eta 0:00:01\r\u001b[K     |█████████████████████████▋      | 3.1 MB 30.2 MB/s eta 0:00:01\r\u001b[K     |█████████████████████████▊      | 3.1 MB 30.2 MB/s eta 0:00:01\r\u001b[K     |█████████████████████████▊      | 3.1 MB 30.2 MB/s eta 0:00:01\r\u001b[K     |█████████████████████████▉      | 3.1 MB 30.2 MB/s eta 0:00:01\r\u001b[K     |██████████████████████████      | 3.1 MB 30.2 MB/s eta 0:00:01\r\u001b[K     |██████████████████████████      | 3.1 MB 30.2 MB/s eta 0:00:01\r\u001b[K     |██████████████████████████▏     | 3.1 MB 30.2 MB/s eta 0:00:01\r\u001b[K     |██████████████████████████▏     | 3.1 MB 30.2 MB/s eta 0:00:01\r\u001b[K     |██████████████████████████▎     | 3.1 MB 30.2 MB/s eta 0:00:01\r\u001b[K     |██████████████████████████▍     | 3.2 MB 30.2 MB/s eta 0:00:01\r\u001b[K     |██████████████████████████▌     | 3.2 MB 30.2 MB/s eta 0:00:01\r\u001b[K     |██████████████████████████▌     | 3.2 MB 30.2 MB/s eta 0:00:01\r\u001b[K     |██████████████████████████▋     | 3.2 MB 30.2 MB/s eta 0:00:01\r\u001b[K     |██████████████████████████▊     | 3.2 MB 30.2 MB/s eta 0:00:01\r\u001b[K     |██████████████████████████▉     | 3.2 MB 30.2 MB/s eta 0:00:01\r\u001b[K     |███████████████████████████     | 3.2 MB 30.2 MB/s eta 0:00:01\r\u001b[K     |███████████████████████████     | 3.2 MB 30.2 MB/s eta 0:00:01\r\u001b[K     |███████████████████████████     | 3.2 MB 30.2 MB/s eta 0:00:01\r\u001b[K     |███████████████████████████▏    | 3.2 MB 30.2 MB/s eta 0:00:01\r\u001b[K     |███████████████████████████▎    | 3.3 MB 30.2 MB/s eta 0:00:01\r\u001b[K     |███████████████████████████▎    | 3.3 MB 30.2 MB/s eta 0:00:01\r\u001b[K     |███████████████████████████▍    | 3.3 MB 30.2 MB/s eta 0:00:01\r\u001b[K     |███████████████████████████▌    | 3.3 MB 30.2 MB/s eta 0:00:01\r\u001b[K     |███████████████████████████▋    | 3.3 MB 30.2 MB/s eta 0:00:01\r\u001b[K     |███████████████████████████▋    | 3.3 MB 30.2 MB/s eta 0:00:01\r\u001b[K     |███████████████████████████▊    | 3.3 MB 30.2 MB/s eta 0:00:01\r\u001b[K     |███████████████████████████▉    | 3.3 MB 30.2 MB/s eta 0:00:01\r\u001b[K     |████████████████████████████    | 3.3 MB 30.2 MB/s eta 0:00:01\r\u001b[K     |████████████████████████████    | 3.3 MB 30.2 MB/s eta 0:00:01\r\u001b[K     |████████████████████████████    | 3.4 MB 30.2 MB/s eta 0:00:01\r\u001b[K     |████████████████████████████▏   | 3.4 MB 30.2 MB/s eta 0:00:01\r\u001b[K     |████████████████████████████▎   | 3.4 MB 30.2 MB/s eta 0:00:01\r\u001b[K     |████████████████████████████▍   | 3.4 MB 30.2 MB/s eta 0:00:01\r\u001b[K     |████████████████████████████▍   | 3.4 MB 30.2 MB/s eta 0:00:01\r\u001b[K     |████████████████████████████▌   | 3.4 MB 30.2 MB/s eta 0:00:01\r\u001b[K     |████████████████████████████▋   | 3.4 MB 30.2 MB/s eta 0:00:01\r\u001b[K     |████████████████████████████▊   | 3.4 MB 30.2 MB/s eta 0:00:01\r\u001b[K     |████████████████████████████▊   | 3.4 MB 30.2 MB/s eta 0:00:01\r\u001b[K     |████████████████████████████▉   | 3.5 MB 30.2 MB/s eta 0:00:01\r\u001b[K     |█████████████████████████████   | 3.5 MB 30.2 MB/s eta 0:00:01\r\u001b[K     |█████████████████████████████   | 3.5 MB 30.2 MB/s eta 0:00:01\r\u001b[K     |█████████████████████████████▏  | 3.5 MB 30.2 MB/s eta 0:00:01\r\u001b[K     |█████████████████████████████▏  | 3.5 MB 30.2 MB/s eta 0:00:01\r\u001b[K     |█████████████████████████████▎  | 3.5 MB 30.2 MB/s eta 0:00:01\r\u001b[K     |█████████████████████████████▍  | 3.5 MB 30.2 MB/s eta 0:00:01\r\u001b[K     |█████████████████████████████▌  | 3.5 MB 30.2 MB/s eta 0:00:01\r\u001b[K     |█████████████████████████████▌  | 3.5 MB 30.2 MB/s eta 0:00:01\r\u001b[K     |█████████████████████████████▋  | 3.5 MB 30.2 MB/s eta 0:00:01\r\u001b[K     |█████████████████████████████▊  | 3.6 MB 30.2 MB/s eta 0:00:01\r\u001b[K     |█████████████████████████████▉  | 3.6 MB 30.2 MB/s eta 0:00:01\r\u001b[K     |█████████████████████████████▉  | 3.6 MB 30.2 MB/s eta 0:00:01\r\u001b[K     |██████████████████████████████  | 3.6 MB 30.2 MB/s eta 0:00:01\r\u001b[K     |██████████████████████████████  | 3.6 MB 30.2 MB/s eta 0:00:01\r\u001b[K     |██████████████████████████████▏ | 3.6 MB 30.2 MB/s eta 0:00:01\r\u001b[K     |██████████████████████████████▎ | 3.6 MB 30.2 MB/s eta 0:00:01\r\u001b[K     |██████████████████████████████▎ | 3.6 MB 30.2 MB/s eta 0:00:01\r\u001b[K     |██████████████████████████████▍ | 3.6 MB 30.2 MB/s eta 0:00:01\r\u001b[K     |██████████████████████████████▌ | 3.6 MB 30.2 MB/s eta 0:00:01\r\u001b[K     |██████████████████████████████▋ | 3.7 MB 30.2 MB/s eta 0:00:01\r\u001b[K     |██████████████████████████████▋ | 3.7 MB 30.2 MB/s eta 0:00:01\r\u001b[K     |██████████████████████████████▊ | 3.7 MB 30.2 MB/s eta 0:00:01\r\u001b[K     |██████████████████████████████▉ | 3.7 MB 30.2 MB/s eta 0:00:01\r\u001b[K     |███████████████████████████████ | 3.7 MB 30.2 MB/s eta 0:00:01\r\u001b[K     |███████████████████████████████ | 3.7 MB 30.2 MB/s eta 0:00:01\r\u001b[K     |███████████████████████████████ | 3.7 MB 30.2 MB/s eta 0:00:01\r\u001b[K     |███████████████████████████████▏| 3.7 MB 30.2 MB/s eta 0:00:01\r\u001b[K     |███████████████████████████████▎| 3.7 MB 30.2 MB/s eta 0:00:01\r\u001b[K     |███████████████████████████████▍| 3.7 MB 30.2 MB/s eta 0:00:01\r\u001b[K     |███████████████████████████████▍| 3.8 MB 30.2 MB/s eta 0:00:01\r\u001b[K     |███████████████████████████████▌| 3.8 MB 30.2 MB/s eta 0:00:01\r\u001b[K     |███████████████████████████████▋| 3.8 MB 30.2 MB/s eta 0:00:01\r\u001b[K     |███████████████████████████████▊| 3.8 MB 30.2 MB/s eta 0:00:01\r\u001b[K     |███████████████████████████████▊| 3.8 MB 30.2 MB/s eta 0:00:01\r\u001b[K     |███████████████████████████████▉| 3.8 MB 30.2 MB/s eta 0:00:01\r\u001b[K     |████████████████████████████████| 3.8 MB 30.2 MB/s eta 0:00:01\r\u001b[K     |████████████████████████████████| 3.8 MB 30.2 MB/s \n",
            "\u001b[?25hRequirement already satisfied: numpy in /usr/local/lib/python3.7/dist-packages (1.21.5)\n",
            "Requirement already satisfied: torch in /usr/local/lib/python3.7/dist-packages (1.10.0+cu111)\n",
            "Requirement already satisfied: sklearn in /usr/local/lib/python3.7/dist-packages (0.0)\n",
            "Requirement already satisfied: importlib-metadata in /usr/local/lib/python3.7/dist-packages (from transformers) (4.11.3)\n",
            "Collecting huggingface-hub<1.0,>=0.1.0\n",
            "  Downloading huggingface_hub-0.4.0-py3-none-any.whl (67 kB)\n",
            "\u001b[K     |████████████████████████████████| 67 kB 7.6 MB/s \n",
            "\u001b[?25hCollecting tokenizers!=0.11.3,>=0.11.1\n",
            "  Downloading tokenizers-0.11.6-cp37-cp37m-manylinux_2_12_x86_64.manylinux2010_x86_64.whl (6.5 MB)\n",
            "\u001b[K     |████████████████████████████████| 6.5 MB 61.2 MB/s \n",
            "\u001b[?25hCollecting sacremoses\n",
            "  Downloading sacremoses-0.0.49-py3-none-any.whl (895 kB)\n",
            "\u001b[K     |████████████████████████████████| 895 kB 54.9 MB/s \n",
            "\u001b[?25hRequirement already satisfied: requests in /usr/local/lib/python3.7/dist-packages (from transformers) (2.23.0)\n",
            "Collecting pyyaml>=5.1\n",
            "  Downloading PyYAML-6.0-cp37-cp37m-manylinux_2_5_x86_64.manylinux1_x86_64.manylinux_2_12_x86_64.manylinux2010_x86_64.whl (596 kB)\n",
            "\u001b[K     |████████████████████████████████| 596 kB 67.4 MB/s \n",
            "\u001b[?25hRequirement already satisfied: regex!=2019.12.17 in /usr/local/lib/python3.7/dist-packages (from transformers) (2019.12.20)\n",
            "Requirement already satisfied: filelock in /usr/local/lib/python3.7/dist-packages (from transformers) (3.6.0)\n",
            "Requirement already satisfied: packaging>=20.0 in /usr/local/lib/python3.7/dist-packages (from transformers) (21.3)\n",
            "Requirement already satisfied: tqdm>=4.27 in /usr/local/lib/python3.7/dist-packages (from transformers) (4.63.0)\n",
            "Requirement already satisfied: typing-extensions>=3.7.4.3 in /usr/local/lib/python3.7/dist-packages (from huggingface-hub<1.0,>=0.1.0->transformers) (3.10.0.2)\n",
            "Requirement already satisfied: pyparsing!=3.0.5,>=2.0.2 in /usr/local/lib/python3.7/dist-packages (from packaging>=20.0->transformers) (3.0.7)\n",
            "Requirement already satisfied: scikit-learn in /usr/local/lib/python3.7/dist-packages (from sklearn) (1.0.2)\n",
            "Requirement already satisfied: zipp>=0.5 in /usr/local/lib/python3.7/dist-packages (from importlib-metadata->transformers) (3.7.0)\n",
            "Requirement already satisfied: chardet<4,>=3.0.2 in /usr/local/lib/python3.7/dist-packages (from requests->transformers) (3.0.4)\n",
            "Requirement already satisfied: certifi>=2017.4.17 in /usr/local/lib/python3.7/dist-packages (from requests->transformers) (2021.10.8)\n",
            "Requirement already satisfied: idna<3,>=2.5 in /usr/local/lib/python3.7/dist-packages (from requests->transformers) (2.10)\n",
            "Requirement already satisfied: urllib3!=1.25.0,!=1.25.1,<1.26,>=1.21.1 in /usr/local/lib/python3.7/dist-packages (from requests->transformers) (1.24.3)\n",
            "Requirement already satisfied: joblib in /usr/local/lib/python3.7/dist-packages (from sacremoses->transformers) (1.1.0)\n",
            "Requirement already satisfied: six in /usr/local/lib/python3.7/dist-packages (from sacremoses->transformers) (1.15.0)\n",
            "Requirement already satisfied: click in /usr/local/lib/python3.7/dist-packages (from sacremoses->transformers) (7.1.2)\n",
            "Requirement already satisfied: threadpoolctl>=2.0.0 in /usr/local/lib/python3.7/dist-packages (from scikit-learn->sklearn) (3.1.0)\n",
            "Requirement already satisfied: scipy>=1.1.0 in /usr/local/lib/python3.7/dist-packages (from scikit-learn->sklearn) (1.4.1)\n",
            "Installing collected packages: pyyaml, tokenizers, sacremoses, huggingface-hub, transformers\n",
            "  Attempting uninstall: pyyaml\n",
            "    Found existing installation: PyYAML 3.13\n",
            "    Uninstalling PyYAML-3.13:\n",
            "      Successfully uninstalled PyYAML-3.13\n",
            "Successfully installed huggingface-hub-0.4.0 pyyaml-6.0 sacremoses-0.0.49 tokenizers-0.11.6 transformers-4.17.0\n"
          ]
        }
      ]
    },
    {
      "cell_type": "markdown",
      "source": [
        "To make our experiments reproducible, we set a random seed:\n"
      ],
      "metadata": {
        "id": "T-SI-hLj8NXS"
      }
    },
    {
      "cell_type": "code",
      "source": [
        "import torch\n",
        "import numpy as np\n",
        "torch.manual_seed(0)\n",
        "np.random.seed(0)"
      ],
      "metadata": {
        "id": "FvnP5Zn88Nh2"
      },
      "execution_count": null,
      "outputs": []
    },
    {
      "cell_type": "markdown",
      "source": [
        "Import the necessary modules:"
      ],
      "metadata": {
        "id": "T2UqgU7O8cCn"
      }
    },
    {
      "cell_type": "code",
      "source": [
        "import torch\n",
        "from transformers.file_utils import is_tf_available, is_torch_available, is_torch_tpu_available\n",
        "from transformers import BertTokenizerFast, BertForSequenceClassification\n",
        "from transformers import DistilBertTokenizer, TFDistilBertForSequenceClassification\n",
        "from transformers import AutoTokenizer, AutoModelForSequenceClassification\n",
        "from transformers import Trainer, TrainingArguments\n",
        "\n"
      ],
      "metadata": {
        "id": "KE4SHkAu8d9J"
      },
      "execution_count": null,
      "outputs": []
    },
    {
      "cell_type": "markdown",
      "source": [
        "we'll be using the BERT model. More specifically, we'll be using bert-base-uncased pre-trained weights from the library."
      ],
      "metadata": {
        "id": "x4KPOOS_8nfE"
      }
    },
    {
      "cell_type": "code",
      "source": [
        "# the model we gonna train, base uncased BERT\n",
        "# check text classification models here: https://huggingface.co/models?filter=text-classification\n",
        "model_name = \"distilbert-base-uncased-finetuned-sst-2-english\"\n",
        "# max sequence length for each document/sentence sample\n",
        "max_length = 512"
      ],
      "metadata": {
        "id": "loQ3yQJC8iNO"
      },
      "execution_count": null,
      "outputs": []
    },
    {
      "cell_type": "markdown",
      "source": [
        "Download the tokenizer provided by this model:"
      ],
      "metadata": {
        "id": "M3anFpYK8uIF"
      }
    },
    {
      "cell_type": "code",
      "source": [
        "# load the tokenizer\n",
        "tokenizer = AutoTokenizer.from_pretrained(model_name)"
      ],
      "metadata": {
        "id": "7jJH8gBb8tW3",
        "colab": {
          "base_uri": "https://localhost:8080/",
          "height": 113,
          "referenced_widgets": [
            "aaecf476b34c4eb09243e054e80a7286",
            "8065b3b31e3c40c5a20e037b2a3cf034",
            "0946a58d65f540f1a495b25454a77878",
            "2497ba60add84b4c81371146a8eef966",
            "cd005345aa3749598b86165c36453f41",
            "1271ee3cc0a6420c9e87b92fbce21ce1",
            "def1489a001e4baaa2511d46bb872e97",
            "e97c1f29e2a34771a028df5d4dbc3ac0",
            "60de94891c33496a8726f00b99cb6579",
            "3c1a9520eba346b9988deeda794db866",
            "3148ba1adb644be596ec63e95cae5212",
            "e58904e7d7af4be29e82dd2c63738a46",
            "042f8b7e704c4a95bc975786bab08ea9",
            "b161aa8983004596bd6385dca2efa92c",
            "3b4b8f19d790412881dd539e91a43052",
            "f0c5135624f5498596425f2b083db88a",
            "cd10d1d269a54e1885ad1f4db64c772b",
            "427f788874a3403f8d63ff284bdc1b70",
            "8d4604536f1549128f84b30a5a78800e",
            "a04a2e2c9bc94322ac4d0993fa3e8cb8",
            "3fcf34e1b08c49ddb34c87e2e30f8930",
            "dac5c2871a9849d78b50a1501e67ad6e",
            "88a9c2ef772a45e48d412ba3cc462543",
            "ab3f5bb581c24c9bb3b644346bbb646d",
            "d857a934529645948e9e09f508107375",
            "b874853d20034b46a0ea51e3f930bc00",
            "381bd40ebdaf43d8b7f1f1fa5adfabfb",
            "801a9ffff16d46e7a468569f74f65cfc",
            "15acd5068c584431a28d22f1148e9415",
            "fedf4995efaa47338d95d2ffb2566af5",
            "afb4d62947134ae49e80d0ab7afeb05e",
            "793e39f0af8b47d9a09e8bcd6d965145",
            "881c474525454ef197fb211571c25e3f"
          ]
        },
        "outputId": "91620d5b-76fe-4a1b-bf95-358b7dd8ec3e"
      },
      "execution_count": null,
      "outputs": [
        {
          "output_type": "display_data",
          "data": {
            "text/plain": [
              "Downloading:   0%|          | 0.00/48.0 [00:00<?, ?B/s]"
            ],
            "application/vnd.jupyter.widget-view+json": {
              "version_major": 2,
              "version_minor": 0,
              "model_id": "aaecf476b34c4eb09243e054e80a7286"
            }
          },
          "metadata": {}
        },
        {
          "output_type": "display_data",
          "data": {
            "text/plain": [
              "Downloading:   0%|          | 0.00/629 [00:00<?, ?B/s]"
            ],
            "application/vnd.jupyter.widget-view+json": {
              "version_major": 2,
              "version_minor": 0,
              "model_id": "e58904e7d7af4be29e82dd2c63738a46"
            }
          },
          "metadata": {}
        },
        {
          "output_type": "display_data",
          "data": {
            "text/plain": [
              "Downloading:   0%|          | 0.00/226k [00:00<?, ?B/s]"
            ],
            "application/vnd.jupyter.widget-view+json": {
              "version_major": 2,
              "version_minor": 0,
              "model_id": "88a9c2ef772a45e48d412ba3cc462543"
            }
          },
          "metadata": {}
        }
      ]
    },
    {
      "cell_type": "markdown",
      "source": [
        "Now let's use our tokenizer to encode our corpus. This tokenizer translate the tokens to ids. We set truncation to True so that we eliminate tokens that go above max_length, we also set padding to True to pad documents that are less than max_length with empty tokens."
      ],
      "metadata": {
        "id": "zYJsweoW83Qt"
      }
    },
    {
      "cell_type": "code",
      "source": [
        "# tokenize the dataset, truncate when passed `max_length`, \n",
        "# and pad with 0's when less than `max_length`\n",
        "train_encodings = tokenizer(X_train, truncation=True, padding=True, max_length=max_length)\n",
        "val_encodings = tokenizer(X_val, truncation=True, padding=True, max_length=max_length)\n",
        "test_encodings = tokenizer(X_test, truncation=True, padding=True, max_length=max_length)\n"
      ],
      "metadata": {
        "id": "JgwTmbtC86B5"
      },
      "execution_count": null,
      "outputs": []
    },
    {
      "cell_type": "markdown",
      "source": [
        "The below code wraps our tokenized text data into a torch Dataset. Since we gonna use Trainer from Transformers library, it expects our dataset as a torch.utils.data.Dataset, so we made a simple class that implements the len() method that returns the number of samples, and getitem() method to return a data sample at a specific index."
      ],
      "metadata": {
        "id": "0Z6IcjCe9Bk7"
      }
    },
    {
      "cell_type": "code",
      "source": [
        "class TorchDataset(torch.utils.data.Dataset):\n",
        "    def __init__(self, encodings, labels):\n",
        "        self.encodings = encodings\n",
        "        self.labels = labels\n",
        "\n",
        "    def __getitem__(self, idx):\n",
        "        item = {k: torch.tensor(v[idx]) for k, v in self.encodings.items()}\n",
        "        item[\"labels\"] = torch.tensor([self.labels[idx]])\n",
        "        return item\n",
        "\n",
        "    def __len__(self):\n",
        "        return len(self.labels)\n",
        "\n",
        "# convert our tokenized data into a torch Dataset\n",
        "train_torch_dataset = TorchDataset(train_encodings, y_train)\n",
        "val_torch_dataset = TorchDataset(val_encodings, y_val)\n",
        "test_torch_dataset = TorchDataset(test_encodings, y_test)"
      ],
      "metadata": {
        "id": "oovO3dPk9A_0"
      },
      "execution_count": null,
      "outputs": []
    },
    {
      "cell_type": "markdown",
      "source": [
        "Below is an example usage of this tokenizer on the first headline. Here MAX_LEN specifies the length of each tokenized review. If a tokenized review is shorter than MAX_LEN, then it is padded with zeros. If a tokenized review is greater than MAX_LEN, then it is truncated (this is why we have truncation=True and padding=True)."
      ],
      "metadata": {
        "id": "9y2DCHEwxTil"
      }
    },
    {
      "cell_type": "code",
      "source": [
        "test = X_train[0]\n",
        "inputs = tokenizer(test, max_length=max_length, truncation=True, padding=True)\n",
        "\n",
        "print(f'review: \\'{test}\\'')\n",
        "print(f'input ids: {inputs[\"input_ids\"]}')\n",
        "print(f'attention mask: {inputs[\"attention_mask\"]}')"
      ],
      "metadata": {
        "colab": {
          "base_uri": "https://localhost:8080/"
        },
        "id": "LP1EgO3gvFQq",
        "outputId": "bea1f3ef-401a-4e3f-ba4a-84d90da86db9"
      },
      "execution_count": null,
      "outputs": [
        {
          "output_type": "stream",
          "name": "stdout",
          "text": [
            "review: 'this basket made out of old candy wrappers feat some hot garlic bread'\n",
            "input ids: [101, 2023, 10810, 2081, 2041, 1997, 2214, 9485, 10236, 7347, 8658, 2070, 2980, 20548, 7852, 102]\n",
            "attention mask: [1, 1, 1, 1, 1, 1, 1, 1, 1, 1, 1, 1, 1, 1, 1, 1]\n"
          ]
        }
      ]
    },
    {
      "cell_type": "code",
      "source": [
        "print(len(train_encodings.encodings), len(y_train))"
      ],
      "metadata": {
        "colab": {
          "base_uri": "https://localhost:8080/"
        },
        "id": "MbQNzihAS0sp",
        "outputId": "4bbfcc07-d769-483e-8fd7-2764447f80ed"
      },
      "execution_count": null,
      "outputs": [
        {
          "output_type": "stream",
          "name": "stdout",
          "text": [
            "56400 56400\n"
          ]
        }
      ]
    },
    {
      "cell_type": "markdown",
      "source": [
        "## Training the model\n",
        "\n",
        "Now that we have our data prepared, let's download and load our BERT model and its pre-trained weights. We're using BertForSequenceClassification class from Transformers library, we set num_labels to the length of our available labels, in this case, 2.\n",
        "\n",
        "We also cast our model to our CUDA GPU. If you're on CPU (not suggested), then just delete to() method."
      ],
      "metadata": {
        "id": "Caabgunu9OlB"
      }
    },
    {
      "cell_type": "code",
      "source": [
        "# load the model and pass to CUDA\n",
        "# cuda not working with TFDistilBertForSequenceClassification ??????\n",
        "model = AutoModelForSequenceClassification.from_pretrained(model_name, num_labels = TYPE_CLASSIFICATION, ignore_mismatched_sizes=True).to('cuda')\n"
      ],
      "metadata": {
        "id": "K5yeXOJX9QkB",
        "colab": {
          "base_uri": "https://localhost:8080/"
        },
        "outputId": "764026e3-c162-4f28-92af-035d5202b5d0"
      },
      "execution_count": null,
      "outputs": [
        {
          "output_type": "stream",
          "name": "stderr",
          "text": [
            "Some weights of DistilBertForSequenceClassification were not initialized from the model checkpoint at distilbert-base-uncased-finetuned-sst-2-english and are newly initialized because the shapes did not match:\n",
            "- classifier.weight: found shape torch.Size([2, 768]) in the checkpoint and torch.Size([6, 768]) in the model instantiated\n",
            "- classifier.bias: found shape torch.Size([2]) in the checkpoint and torch.Size([6]) in the model instantiated\n",
            "You should probably TRAIN this model on a down-stream task to be able to use it for predictions and inference.\n"
          ]
        }
      ]
    },
    {
      "cell_type": "markdown",
      "source": [
        "Before we start fine-tuning our model, let's make a simple function to compute the metrics we want. In this case, accuracy.\n",
        "You're free to include any metric you want, I've included accuracy, but you can add precision, recall, etc."
      ],
      "metadata": {
        "id": "42Fh_FKS9sx-"
      }
    },
    {
      "cell_type": "code",
      "source": [
        "from sklearn.metrics import accuracy_score\n",
        "\n",
        "def compute_metrics(pred):\n",
        "  labels = pred.label_ids\n",
        "  preds = pred.predictions.argmax(-1)\n",
        "  # calculate accuracy using sklearn's function\n",
        "  acc = accuracy_score(labels, preds)\n",
        "  return {\n",
        "      'accuracy': acc,\n",
        "  }"
      ],
      "metadata": {
        "id": "59F6bL0O9r3Y"
      },
      "execution_count": null,
      "outputs": []
    },
    {
      "cell_type": "code",
      "source": [
        "training_args = TrainingArguments(\n",
        "    output_dir='./results',          # output directory\n",
        "    num_train_epochs=1,   # 3           # total number of training epochs\n",
        "    per_device_train_batch_size=8,  # batch size per device during training\n",
        "    per_device_eval_batch_size=20,   # batch size for evaluation\n",
        "    warmup_steps=500,                # number of warmup steps for learning rate scheduler\n",
        "    weight_decay=0.01,               # strength of weight decay\n",
        "    logging_dir='./logs',            # directory for storing logs\n",
        "    load_best_model_at_end=True,     # load the best model when finished training (default metric is loss)\n",
        "    # but you can specify `metric_for_best_model` argument to change to accuracy or other metric\n",
        "    logging_steps=400,               # log & save weights each logging_steps\n",
        "    save_steps=400,\n",
        "    evaluation_strategy=\"steps\",     # evaluate each `logging_steps`\n",
        ")"
      ],
      "metadata": {
        "id": "956PNiLj90wn"
      },
      "execution_count": null,
      "outputs": []
    },
    {
      "cell_type": "code",
      "source": [
        "trainer = Trainer(\n",
        "    model = model,                         # the instantiated Transformers model to be trained\n",
        "    args = training_args,                  # training arguments, defined above\n",
        "    train_dataset = train_torch_dataset,         # training dataset\n",
        "    eval_dataset = val_torch_dataset,          # evaluation dataset\n",
        "    compute_metrics = compute_metrics,     # the callback that computes metrics of interest\n",
        ")\n",
        "\n",
        "# train the model\n",
        "trainer.train()"
      ],
      "metadata": {
        "id": "H8_bPbIQ9311",
        "colab": {
          "base_uri": "https://localhost:8080/",
          "height": 1000
        },
        "outputId": "cc24f09d-917b-45e7-ccbb-e7f107fc7c0f"
      },
      "execution_count": null,
      "outputs": [
        {
          "output_type": "stream",
          "name": "stderr",
          "text": [
            "/usr/local/lib/python3.7/dist-packages/transformers/optimization.py:309: FutureWarning: This implementation of AdamW is deprecated and will be removed in a future version. Use the PyTorch implementation torch.optim.AdamW instead, or set `no_deprecation_warning=True` to disable this warning\n",
            "  FutureWarning,\n",
            "***** Running training *****\n",
            "  Num examples = 56400\n",
            "  Num Epochs = 1\n",
            "  Instantaneous batch size per device = 8\n",
            "  Total train batch size (w. parallel, distributed & accumulation) = 8\n",
            "  Gradient Accumulation steps = 1\n",
            "  Total optimization steps = 7050\n"
          ]
        },
        {
          "output_type": "display_data",
          "data": {
            "text/plain": [
              "<IPython.core.display.HTML object>"
            ],
            "text/html": [
              "\n",
              "    <div>\n",
              "      \n",
              "      <progress value='7050' max='7050' style='width:300px; height:20px; vertical-align: middle;'></progress>\n",
              "      [7050/7050 21:48, Epoch 1/1]\n",
              "    </div>\n",
              "    <table border=\"1\" class=\"dataframe\">\n",
              "  <thead>\n",
              " <tr style=\"text-align: left;\">\n",
              "      <th>Step</th>\n",
              "      <th>Training Loss</th>\n",
              "      <th>Validation Loss</th>\n",
              "      <th>Accuracy</th>\n",
              "    </tr>\n",
              "  </thead>\n",
              "  <tbody>\n",
              "    <tr>\n",
              "      <td>400</td>\n",
              "      <td>1.384300</td>\n",
              "      <td>1.029990</td>\n",
              "      <td>0.633805</td>\n",
              "    </tr>\n",
              "    <tr>\n",
              "      <td>800</td>\n",
              "      <td>0.975000</td>\n",
              "      <td>0.954273</td>\n",
              "      <td>0.671722</td>\n",
              "    </tr>\n",
              "    <tr>\n",
              "      <td>1200</td>\n",
              "      <td>0.898200</td>\n",
              "      <td>0.868886</td>\n",
              "      <td>0.688911</td>\n",
              "    </tr>\n",
              "    <tr>\n",
              "      <td>1600</td>\n",
              "      <td>0.857300</td>\n",
              "      <td>0.802182</td>\n",
              "      <td>0.714358</td>\n",
              "    </tr>\n",
              "    <tr>\n",
              "      <td>2000</td>\n",
              "      <td>0.796100</td>\n",
              "      <td>0.813695</td>\n",
              "      <td>0.719077</td>\n",
              "    </tr>\n",
              "    <tr>\n",
              "      <td>2400</td>\n",
              "      <td>0.780500</td>\n",
              "      <td>0.761200</td>\n",
              "      <td>0.735423</td>\n",
              "    </tr>\n",
              "    <tr>\n",
              "      <td>2800</td>\n",
              "      <td>0.809900</td>\n",
              "      <td>0.758068</td>\n",
              "      <td>0.732221</td>\n",
              "    </tr>\n",
              "    <tr>\n",
              "      <td>3200</td>\n",
              "      <td>0.753500</td>\n",
              "      <td>0.756903</td>\n",
              "      <td>0.736266</td>\n",
              "    </tr>\n",
              "    <tr>\n",
              "      <td>3600</td>\n",
              "      <td>0.775900</td>\n",
              "      <td>0.730399</td>\n",
              "      <td>0.737782</td>\n",
              "    </tr>\n",
              "    <tr>\n",
              "      <td>4000</td>\n",
              "      <td>0.757800</td>\n",
              "      <td>0.707462</td>\n",
              "      <td>0.747556</td>\n",
              "    </tr>\n",
              "    <tr>\n",
              "      <td>4400</td>\n",
              "      <td>0.703900</td>\n",
              "      <td>0.724272</td>\n",
              "      <td>0.744692</td>\n",
              "    </tr>\n",
              "    <tr>\n",
              "      <td>4800</td>\n",
              "      <td>0.727300</td>\n",
              "      <td>0.708414</td>\n",
              "      <td>0.752612</td>\n",
              "    </tr>\n",
              "    <tr>\n",
              "      <td>5200</td>\n",
              "      <td>0.711800</td>\n",
              "      <td>0.675327</td>\n",
              "      <td>0.757668</td>\n",
              "    </tr>\n",
              "    <tr>\n",
              "      <td>5600</td>\n",
              "      <td>0.688700</td>\n",
              "      <td>0.664650</td>\n",
              "      <td>0.765588</td>\n",
              "    </tr>\n",
              "    <tr>\n",
              "      <td>6000</td>\n",
              "      <td>0.691400</td>\n",
              "      <td>0.681162</td>\n",
              "      <td>0.762386</td>\n",
              "    </tr>\n",
              "    <tr>\n",
              "      <td>6400</td>\n",
              "      <td>0.665600</td>\n",
              "      <td>0.673088</td>\n",
              "      <td>0.764408</td>\n",
              "    </tr>\n",
              "    <tr>\n",
              "      <td>6800</td>\n",
              "      <td>0.692000</td>\n",
              "      <td>0.669842</td>\n",
              "      <td>0.763060</td>\n",
              "    </tr>\n",
              "  </tbody>\n",
              "</table><p>"
            ]
          },
          "metadata": {}
        },
        {
          "output_type": "stream",
          "name": "stderr",
          "text": [
            "***** Running Evaluation *****\n",
            "  Num examples = 5934\n",
            "  Batch size = 20\n",
            "Saving model checkpoint to ./results/checkpoint-400\n",
            "Configuration saved in ./results/checkpoint-400/config.json\n",
            "Model weights saved in ./results/checkpoint-400/pytorch_model.bin\n",
            "***** Running Evaluation *****\n",
            "  Num examples = 5934\n",
            "  Batch size = 20\n",
            "Saving model checkpoint to ./results/checkpoint-800\n",
            "Configuration saved in ./results/checkpoint-800/config.json\n",
            "Model weights saved in ./results/checkpoint-800/pytorch_model.bin\n",
            "***** Running Evaluation *****\n",
            "  Num examples = 5934\n",
            "  Batch size = 20\n",
            "Saving model checkpoint to ./results/checkpoint-1200\n",
            "Configuration saved in ./results/checkpoint-1200/config.json\n",
            "Model weights saved in ./results/checkpoint-1200/pytorch_model.bin\n",
            "***** Running Evaluation *****\n",
            "  Num examples = 5934\n",
            "  Batch size = 20\n",
            "Saving model checkpoint to ./results/checkpoint-1600\n",
            "Configuration saved in ./results/checkpoint-1600/config.json\n",
            "Model weights saved in ./results/checkpoint-1600/pytorch_model.bin\n",
            "***** Running Evaluation *****\n",
            "  Num examples = 5934\n",
            "  Batch size = 20\n",
            "Saving model checkpoint to ./results/checkpoint-2000\n",
            "Configuration saved in ./results/checkpoint-2000/config.json\n",
            "Model weights saved in ./results/checkpoint-2000/pytorch_model.bin\n",
            "***** Running Evaluation *****\n",
            "  Num examples = 5934\n",
            "  Batch size = 20\n",
            "Saving model checkpoint to ./results/checkpoint-2400\n",
            "Configuration saved in ./results/checkpoint-2400/config.json\n",
            "Model weights saved in ./results/checkpoint-2400/pytorch_model.bin\n",
            "***** Running Evaluation *****\n",
            "  Num examples = 5934\n",
            "  Batch size = 20\n",
            "Saving model checkpoint to ./results/checkpoint-2800\n",
            "Configuration saved in ./results/checkpoint-2800/config.json\n",
            "Model weights saved in ./results/checkpoint-2800/pytorch_model.bin\n",
            "***** Running Evaluation *****\n",
            "  Num examples = 5934\n",
            "  Batch size = 20\n",
            "Saving model checkpoint to ./results/checkpoint-3200\n",
            "Configuration saved in ./results/checkpoint-3200/config.json\n",
            "Model weights saved in ./results/checkpoint-3200/pytorch_model.bin\n",
            "***** Running Evaluation *****\n",
            "  Num examples = 5934\n",
            "  Batch size = 20\n",
            "Saving model checkpoint to ./results/checkpoint-3600\n",
            "Configuration saved in ./results/checkpoint-3600/config.json\n",
            "Model weights saved in ./results/checkpoint-3600/pytorch_model.bin\n",
            "***** Running Evaluation *****\n",
            "  Num examples = 5934\n",
            "  Batch size = 20\n",
            "Saving model checkpoint to ./results/checkpoint-4000\n",
            "Configuration saved in ./results/checkpoint-4000/config.json\n",
            "Model weights saved in ./results/checkpoint-4000/pytorch_model.bin\n",
            "***** Running Evaluation *****\n",
            "  Num examples = 5934\n",
            "  Batch size = 20\n",
            "Saving model checkpoint to ./results/checkpoint-4400\n",
            "Configuration saved in ./results/checkpoint-4400/config.json\n",
            "Model weights saved in ./results/checkpoint-4400/pytorch_model.bin\n",
            "***** Running Evaluation *****\n",
            "  Num examples = 5934\n",
            "  Batch size = 20\n",
            "Saving model checkpoint to ./results/checkpoint-4800\n",
            "Configuration saved in ./results/checkpoint-4800/config.json\n",
            "Model weights saved in ./results/checkpoint-4800/pytorch_model.bin\n",
            "***** Running Evaluation *****\n",
            "  Num examples = 5934\n",
            "  Batch size = 20\n",
            "Saving model checkpoint to ./results/checkpoint-5200\n",
            "Configuration saved in ./results/checkpoint-5200/config.json\n",
            "Model weights saved in ./results/checkpoint-5200/pytorch_model.bin\n",
            "***** Running Evaluation *****\n",
            "  Num examples = 5934\n",
            "  Batch size = 20\n",
            "Saving model checkpoint to ./results/checkpoint-5600\n",
            "Configuration saved in ./results/checkpoint-5600/config.json\n",
            "Model weights saved in ./results/checkpoint-5600/pytorch_model.bin\n",
            "***** Running Evaluation *****\n",
            "  Num examples = 5934\n",
            "  Batch size = 20\n",
            "Saving model checkpoint to ./results/checkpoint-6000\n",
            "Configuration saved in ./results/checkpoint-6000/config.json\n",
            "Model weights saved in ./results/checkpoint-6000/pytorch_model.bin\n",
            "***** Running Evaluation *****\n",
            "  Num examples = 5934\n",
            "  Batch size = 20\n",
            "Saving model checkpoint to ./results/checkpoint-6400\n",
            "Configuration saved in ./results/checkpoint-6400/config.json\n",
            "Model weights saved in ./results/checkpoint-6400/pytorch_model.bin\n",
            "***** Running Evaluation *****\n",
            "  Num examples = 5934\n",
            "  Batch size = 20\n",
            "Saving model checkpoint to ./results/checkpoint-6800\n",
            "Configuration saved in ./results/checkpoint-6800/config.json\n",
            "Model weights saved in ./results/checkpoint-6800/pytorch_model.bin\n",
            "\n",
            "\n",
            "Training completed. Do not forget to share your model on huggingface.co/models =)\n",
            "\n",
            "\n",
            "Loading best model from ./results/checkpoint-5600 (score: 0.6646504402160645).\n"
          ]
        },
        {
          "output_type": "execute_result",
          "data": {
            "text/plain": [
              "TrainOutput(global_step=7050, training_loss=0.8010544905425809, metrics={'train_runtime': 1309.2037, 'train_samples_per_second': 43.08, 'train_steps_per_second': 5.385, 'total_flos': 2889444254716800.0, 'train_loss': 0.8010544905425809, 'epoch': 1.0})"
            ]
          },
          "metadata": {},
          "execution_count": 31
        }
      ]
    },
    {
      "cell_type": "code",
      "source": [
        "# evaluate the current model after training\n",
        "trainer.evaluate()"
      ],
      "metadata": {
        "id": "sDGWIwbjAwmq",
        "colab": {
          "base_uri": "https://localhost:8080/",
          "height": 203
        },
        "outputId": "e992d3f3-f87a-40eb-e0ac-1f6c275e1e4d"
      },
      "execution_count": null,
      "outputs": [
        {
          "output_type": "stream",
          "name": "stderr",
          "text": [
            "***** Running Evaluation *****\n",
            "  Num examples = 5934\n",
            "  Batch size = 20\n"
          ]
        },
        {
          "output_type": "display_data",
          "data": {
            "text/plain": [
              "<IPython.core.display.HTML object>"
            ],
            "text/html": [
              "\n",
              "    <div>\n",
              "      \n",
              "      <progress value='297' max='297' style='width:300px; height:20px; vertical-align: middle;'></progress>\n",
              "      [297/297 00:10]\n",
              "    </div>\n",
              "    "
            ]
          },
          "metadata": {}
        },
        {
          "output_type": "execute_result",
          "data": {
            "text/plain": [
              "{'epoch': 1.0,\n",
              " 'eval_accuracy': 0.7655881361644759,\n",
              " 'eval_loss': 0.6646504402160645,\n",
              " 'eval_runtime': 10.783,\n",
              " 'eval_samples_per_second': 550.309,\n",
              " 'eval_steps_per_second': 27.543}"
            ]
          },
          "metadata": {},
          "execution_count": 32
        }
      ]
    },
    {
      "cell_type": "markdown",
      "source": [
        "Save the model"
      ],
      "metadata": {
        "id": "TVp6JDauFwcK"
      }
    },
    {
      "cell_type": "code",
      "source": [
        "# saving the fine tuned model & tokenizer\n",
        "model_path = \"distilbert-base-uncased-finetuned-sst-2-english\"\n",
        "model.save_pretrained(model_path)\n",
        "tokenizer.save_pretrained(model_path)"
      ],
      "metadata": {
        "id": "VDGlU_IqAy0Q",
        "colab": {
          "base_uri": "https://localhost:8080/"
        },
        "outputId": "f2c68813-de60-464a-cd32-ea4d616fa327"
      },
      "execution_count": null,
      "outputs": [
        {
          "output_type": "stream",
          "name": "stderr",
          "text": [
            "Configuration saved in distilbert-base-uncased-finetuned-sst-2-english/config.json\n",
            "Model weights saved in distilbert-base-uncased-finetuned-sst-2-english/pytorch_model.bin\n",
            "tokenizer config file saved in distilbert-base-uncased-finetuned-sst-2-english/tokenizer_config.json\n",
            "Special tokens file saved in distilbert-base-uncased-finetuned-sst-2-english/special_tokens_map.json\n"
          ]
        },
        {
          "output_type": "execute_result",
          "data": {
            "text/plain": [
              "('distilbert-base-uncased-finetuned-sst-2-english/tokenizer_config.json',\n",
              " 'distilbert-base-uncased-finetuned-sst-2-english/special_tokens_map.json',\n",
              " 'distilbert-base-uncased-finetuned-sst-2-english/vocab.txt',\n",
              " 'distilbert-base-uncased-finetuned-sst-2-english/added_tokens.json',\n",
              " 'distilbert-base-uncased-finetuned-sst-2-english/tokenizer.json')"
            ]
          },
          "metadata": {},
          "execution_count": 34
        }
      ]
    },
    {
      "cell_type": "code",
      "source": [
        "def get_prediction(text):\n",
        "    # prepare our text into tokenized sequence\n",
        "    inputs = tokenizer(text, padding=True, truncation=True, max_length=max_length, return_tensors=\"pt\").to(\"cuda\")\n",
        "    # perform inference to our model\n",
        "    outputs = model(**inputs)\n",
        "    # get output probabilities by doing softmax\n",
        "    probs = outputs[0].softmax(1)\n",
        "    # executing argmax function to get the candidate label\n",
        "    # return probs.argmax() is a tensor. We have to return its item\n",
        "    return probs.argmax().item()\n"
      ],
      "metadata": {
        "id": "6EGH4BlXA2eA"
      },
      "execution_count": null,
      "outputs": []
    },
    {
      "cell_type": "code",
      "source": [
        "y_pred=[]\n",
        "for text in X_test:\n",
        "    y_pred.append(get_prediction(text))\n"
      ],
      "metadata": {
        "id": "h6n8mUe1A4Wx"
      },
      "execution_count": null,
      "outputs": []
    },
    {
      "cell_type": "code",
      "source": [
        "from sklearn.metrics import confusion_matrix, classification_report, ConfusionMatrixDisplay\n",
        "import matplotlib.pyplot as plt\n",
        "\n",
        "print(labels_dict)\n",
        "print(classification_report(y_test, y_pred))"
      ],
      "metadata": {
        "id": "ZD2SSykUA6b1",
        "colab": {
          "base_uri": "https://localhost:8080/"
        },
        "outputId": "c9b05dd5-91e0-4844-f8ea-eb3cc3687736"
      },
      "execution_count": null,
      "outputs": [
        {
          "output_type": "stream",
          "name": "stdout",
          "text": [
            "{0: 'True', 1: 'Satire/Parody', 2: 'Misleading Content', 3: 'Imposter Content', 4: 'False Connection', 5: 'Manipulated Content'}\n",
            "              precision    recall  f1-score   support\n",
            "\n",
            "           0       0.79      0.87      0.83      2351\n",
            "           1       0.59      0.54      0.56       376\n",
            "           2       0.73      0.54      0.62      1154\n",
            "           3       0.39      0.22      0.28       139\n",
            "           4       0.77      0.85      0.81      1675\n",
            "           5       0.73      0.65      0.69       236\n",
            "\n",
            "    accuracy                           0.76      5931\n",
            "   macro avg       0.67      0.61      0.63      5931\n",
            "weighted avg       0.75      0.76      0.75      5931\n",
            "\n"
          ]
        }
      ]
    },
    {
      "cell_type": "code",
      "source": [
        "cm = confusion_matrix(y_test, y_pred)\n",
        "disp = ConfusionMatrixDisplay(confusion_matrix=cm,display_labels=labels_dict)\n",
        "disp.plot()\n",
        "plt.show()"
      ],
      "metadata": {
        "id": "VPNAz7GrJM9I"
      },
      "execution_count": null,
      "outputs": []
    },
    {
      "cell_type": "markdown",
      "source": [
        "We show some predictions for new texts. The second prediction is wrong (the news is fake). "
      ],
      "metadata": {
        "id": "Enk5FewuHnjC"
      }
    },
    {
      "cell_type": "code",
      "source": [
        "text = \"Donald Trump sent his own plane to transport 200 stranded marines.\"\n",
        "\n",
        "pred=get_prediction(text)\n",
        "print('class:', labels_dict[pred])\n",
        "\n",
        "text = \"FBI director received millions from Clinton Foundation, his brother’s law firm does Clinton’s taxes\"\n",
        "\n",
        "pred=get_prediction(text)\n",
        "print('class:', labels_dict[pred])"
      ],
      "metadata": {
        "id": "RTgbZVxRBB6I",
        "colab": {
          "base_uri": "https://localhost:8080/"
        },
        "outputId": "538a08c0-80f8-465f-8ee6-cac7568b747d"
      },
      "execution_count": null,
      "outputs": [
        {
          "output_type": "stream",
          "name": "stdout",
          "text": [
            "class: Misleading Content\n",
            "class: True\n"
          ]
        }
      ]
    }
  ]
}