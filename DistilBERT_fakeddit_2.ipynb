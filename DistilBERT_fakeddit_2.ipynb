{
  "nbformat": 4,
  "nbformat_minor": 0,
  "metadata": {
    "colab": {
      "provenance": [],
      "collapsed_sections": []
    },
    "kernelspec": {
      "name": "python3",
      "display_name": "Python 3"
    },
    "language_info": {
      "name": "python"
    },
    "accelerator": "GPU",
    "widgets": {
      "application/vnd.jupyter.widget-state+json": {
        "62b8083a7dac43b89853e6a8308b9892": {
          "model_module": "@jupyter-widgets/controls",
          "model_name": "HBoxModel",
          "model_module_version": "1.5.0",
          "state": {
            "_dom_classes": [],
            "_model_module": "@jupyter-widgets/controls",
            "_model_module_version": "1.5.0",
            "_model_name": "HBoxModel",
            "_view_count": null,
            "_view_module": "@jupyter-widgets/controls",
            "_view_module_version": "1.5.0",
            "_view_name": "HBoxView",
            "box_style": "",
            "children": [
              "IPY_MODEL_33a62df29d444601839a40afe9f4ef4a",
              "IPY_MODEL_13f9306f1a67497ab4f41af05176af29",
              "IPY_MODEL_8df5635f41c84b09b13ccf9e526efd54"
            ],
            "layout": "IPY_MODEL_4f40440141c349d9891bc2a4acd6c9b8"
          }
        },
        "33a62df29d444601839a40afe9f4ef4a": {
          "model_module": "@jupyter-widgets/controls",
          "model_name": "HTMLModel",
          "model_module_version": "1.5.0",
          "state": {
            "_dom_classes": [],
            "_model_module": "@jupyter-widgets/controls",
            "_model_module_version": "1.5.0",
            "_model_name": "HTMLModel",
            "_view_count": null,
            "_view_module": "@jupyter-widgets/controls",
            "_view_module_version": "1.5.0",
            "_view_name": "HTMLView",
            "description": "",
            "description_tooltip": null,
            "layout": "IPY_MODEL_07893acb43dd4d8dafc4c3030f2ab33c",
            "placeholder": "​",
            "style": "IPY_MODEL_295139847d824cdb94497ea3b9ef2bcc",
            "value": "Downloading: 100%"
          }
        },
        "13f9306f1a67497ab4f41af05176af29": {
          "model_module": "@jupyter-widgets/controls",
          "model_name": "FloatProgressModel",
          "model_module_version": "1.5.0",
          "state": {
            "_dom_classes": [],
            "_model_module": "@jupyter-widgets/controls",
            "_model_module_version": "1.5.0",
            "_model_name": "FloatProgressModel",
            "_view_count": null,
            "_view_module": "@jupyter-widgets/controls",
            "_view_module_version": "1.5.0",
            "_view_name": "ProgressView",
            "bar_style": "success",
            "description": "",
            "description_tooltip": null,
            "layout": "IPY_MODEL_7acbb122ab2d46d4a9b21a23d6355099",
            "max": 213450,
            "min": 0,
            "orientation": "horizontal",
            "style": "IPY_MODEL_28e7e942222d44ce8f6d4be02bdc6ef4",
            "value": 213450
          }
        },
        "8df5635f41c84b09b13ccf9e526efd54": {
          "model_module": "@jupyter-widgets/controls",
          "model_name": "HTMLModel",
          "model_module_version": "1.5.0",
          "state": {
            "_dom_classes": [],
            "_model_module": "@jupyter-widgets/controls",
            "_model_module_version": "1.5.0",
            "_model_name": "HTMLModel",
            "_view_count": null,
            "_view_module": "@jupyter-widgets/controls",
            "_view_module_version": "1.5.0",
            "_view_name": "HTMLView",
            "description": "",
            "description_tooltip": null,
            "layout": "IPY_MODEL_5eb76495f5174f88a7255d165cb902f7",
            "placeholder": "​",
            "style": "IPY_MODEL_6e0412f36c7b4e9db64d99dfed6a429b",
            "value": " 213k/213k [00:00&lt;00:00, 2.26MB/s]"
          }
        },
        "4f40440141c349d9891bc2a4acd6c9b8": {
          "model_module": "@jupyter-widgets/base",
          "model_name": "LayoutModel",
          "model_module_version": "1.2.0",
          "state": {
            "_model_module": "@jupyter-widgets/base",
            "_model_module_version": "1.2.0",
            "_model_name": "LayoutModel",
            "_view_count": null,
            "_view_module": "@jupyter-widgets/base",
            "_view_module_version": "1.2.0",
            "_view_name": "LayoutView",
            "align_content": null,
            "align_items": null,
            "align_self": null,
            "border": null,
            "bottom": null,
            "display": null,
            "flex": null,
            "flex_flow": null,
            "grid_area": null,
            "grid_auto_columns": null,
            "grid_auto_flow": null,
            "grid_auto_rows": null,
            "grid_column": null,
            "grid_gap": null,
            "grid_row": null,
            "grid_template_areas": null,
            "grid_template_columns": null,
            "grid_template_rows": null,
            "height": null,
            "justify_content": null,
            "justify_items": null,
            "left": null,
            "margin": null,
            "max_height": null,
            "max_width": null,
            "min_height": null,
            "min_width": null,
            "object_fit": null,
            "object_position": null,
            "order": null,
            "overflow": null,
            "overflow_x": null,
            "overflow_y": null,
            "padding": null,
            "right": null,
            "top": null,
            "visibility": null,
            "width": null
          }
        },
        "07893acb43dd4d8dafc4c3030f2ab33c": {
          "model_module": "@jupyter-widgets/base",
          "model_name": "LayoutModel",
          "model_module_version": "1.2.0",
          "state": {
            "_model_module": "@jupyter-widgets/base",
            "_model_module_version": "1.2.0",
            "_model_name": "LayoutModel",
            "_view_count": null,
            "_view_module": "@jupyter-widgets/base",
            "_view_module_version": "1.2.0",
            "_view_name": "LayoutView",
            "align_content": null,
            "align_items": null,
            "align_self": null,
            "border": null,
            "bottom": null,
            "display": null,
            "flex": null,
            "flex_flow": null,
            "grid_area": null,
            "grid_auto_columns": null,
            "grid_auto_flow": null,
            "grid_auto_rows": null,
            "grid_column": null,
            "grid_gap": null,
            "grid_row": null,
            "grid_template_areas": null,
            "grid_template_columns": null,
            "grid_template_rows": null,
            "height": null,
            "justify_content": null,
            "justify_items": null,
            "left": null,
            "margin": null,
            "max_height": null,
            "max_width": null,
            "min_height": null,
            "min_width": null,
            "object_fit": null,
            "object_position": null,
            "order": null,
            "overflow": null,
            "overflow_x": null,
            "overflow_y": null,
            "padding": null,
            "right": null,
            "top": null,
            "visibility": null,
            "width": null
          }
        },
        "295139847d824cdb94497ea3b9ef2bcc": {
          "model_module": "@jupyter-widgets/controls",
          "model_name": "DescriptionStyleModel",
          "model_module_version": "1.5.0",
          "state": {
            "_model_module": "@jupyter-widgets/controls",
            "_model_module_version": "1.5.0",
            "_model_name": "DescriptionStyleModel",
            "_view_count": null,
            "_view_module": "@jupyter-widgets/base",
            "_view_module_version": "1.2.0",
            "_view_name": "StyleView",
            "description_width": ""
          }
        },
        "7acbb122ab2d46d4a9b21a23d6355099": {
          "model_module": "@jupyter-widgets/base",
          "model_name": "LayoutModel",
          "model_module_version": "1.2.0",
          "state": {
            "_model_module": "@jupyter-widgets/base",
            "_model_module_version": "1.2.0",
            "_model_name": "LayoutModel",
            "_view_count": null,
            "_view_module": "@jupyter-widgets/base",
            "_view_module_version": "1.2.0",
            "_view_name": "LayoutView",
            "align_content": null,
            "align_items": null,
            "align_self": null,
            "border": null,
            "bottom": null,
            "display": null,
            "flex": null,
            "flex_flow": null,
            "grid_area": null,
            "grid_auto_columns": null,
            "grid_auto_flow": null,
            "grid_auto_rows": null,
            "grid_column": null,
            "grid_gap": null,
            "grid_row": null,
            "grid_template_areas": null,
            "grid_template_columns": null,
            "grid_template_rows": null,
            "height": null,
            "justify_content": null,
            "justify_items": null,
            "left": null,
            "margin": null,
            "max_height": null,
            "max_width": null,
            "min_height": null,
            "min_width": null,
            "object_fit": null,
            "object_position": null,
            "order": null,
            "overflow": null,
            "overflow_x": null,
            "overflow_y": null,
            "padding": null,
            "right": null,
            "top": null,
            "visibility": null,
            "width": null
          }
        },
        "28e7e942222d44ce8f6d4be02bdc6ef4": {
          "model_module": "@jupyter-widgets/controls",
          "model_name": "ProgressStyleModel",
          "model_module_version": "1.5.0",
          "state": {
            "_model_module": "@jupyter-widgets/controls",
            "_model_module_version": "1.5.0",
            "_model_name": "ProgressStyleModel",
            "_view_count": null,
            "_view_module": "@jupyter-widgets/base",
            "_view_module_version": "1.2.0",
            "_view_name": "StyleView",
            "bar_color": null,
            "description_width": ""
          }
        },
        "5eb76495f5174f88a7255d165cb902f7": {
          "model_module": "@jupyter-widgets/base",
          "model_name": "LayoutModel",
          "model_module_version": "1.2.0",
          "state": {
            "_model_module": "@jupyter-widgets/base",
            "_model_module_version": "1.2.0",
            "_model_name": "LayoutModel",
            "_view_count": null,
            "_view_module": "@jupyter-widgets/base",
            "_view_module_version": "1.2.0",
            "_view_name": "LayoutView",
            "align_content": null,
            "align_items": null,
            "align_self": null,
            "border": null,
            "bottom": null,
            "display": null,
            "flex": null,
            "flex_flow": null,
            "grid_area": null,
            "grid_auto_columns": null,
            "grid_auto_flow": null,
            "grid_auto_rows": null,
            "grid_column": null,
            "grid_gap": null,
            "grid_row": null,
            "grid_template_areas": null,
            "grid_template_columns": null,
            "grid_template_rows": null,
            "height": null,
            "justify_content": null,
            "justify_items": null,
            "left": null,
            "margin": null,
            "max_height": null,
            "max_width": null,
            "min_height": null,
            "min_width": null,
            "object_fit": null,
            "object_position": null,
            "order": null,
            "overflow": null,
            "overflow_x": null,
            "overflow_y": null,
            "padding": null,
            "right": null,
            "top": null,
            "visibility": null,
            "width": null
          }
        },
        "6e0412f36c7b4e9db64d99dfed6a429b": {
          "model_module": "@jupyter-widgets/controls",
          "model_name": "DescriptionStyleModel",
          "model_module_version": "1.5.0",
          "state": {
            "_model_module": "@jupyter-widgets/controls",
            "_model_module_version": "1.5.0",
            "_model_name": "DescriptionStyleModel",
            "_view_count": null,
            "_view_module": "@jupyter-widgets/base",
            "_view_module_version": "1.2.0",
            "_view_name": "StyleView",
            "description_width": ""
          }
        },
        "7c8a9ee3c31c4ebba8888e6a7cc8024e": {
          "model_module": "@jupyter-widgets/controls",
          "model_name": "HBoxModel",
          "model_module_version": "1.5.0",
          "state": {
            "_dom_classes": [],
            "_model_module": "@jupyter-widgets/controls",
            "_model_module_version": "1.5.0",
            "_model_name": "HBoxModel",
            "_view_count": null,
            "_view_module": "@jupyter-widgets/controls",
            "_view_module_version": "1.5.0",
            "_view_name": "HBoxView",
            "box_style": "",
            "children": [
              "IPY_MODEL_5b49b1d2e2f740ee8ee174232fb220c8",
              "IPY_MODEL_ff77ce6c78d444cb96d20bdf278ca9fb",
              "IPY_MODEL_5c7c1441342b4ea08cfc1191e378f5e6"
            ],
            "layout": "IPY_MODEL_268949149e9845dc8459c42fe550c9a5"
          }
        },
        "5b49b1d2e2f740ee8ee174232fb220c8": {
          "model_module": "@jupyter-widgets/controls",
          "model_name": "HTMLModel",
          "model_module_version": "1.5.0",
          "state": {
            "_dom_classes": [],
            "_model_module": "@jupyter-widgets/controls",
            "_model_module_version": "1.5.0",
            "_model_name": "HTMLModel",
            "_view_count": null,
            "_view_module": "@jupyter-widgets/controls",
            "_view_module_version": "1.5.0",
            "_view_name": "HTMLView",
            "description": "",
            "description_tooltip": null,
            "layout": "IPY_MODEL_b55926f447554ce4b0c77260310c7e3c",
            "placeholder": "​",
            "style": "IPY_MODEL_5841bdf2fc4a4232811e3aed2c4e0147",
            "value": "Downloading: 100%"
          }
        },
        "ff77ce6c78d444cb96d20bdf278ca9fb": {
          "model_module": "@jupyter-widgets/controls",
          "model_name": "FloatProgressModel",
          "model_module_version": "1.5.0",
          "state": {
            "_dom_classes": [],
            "_model_module": "@jupyter-widgets/controls",
            "_model_module_version": "1.5.0",
            "_model_name": "FloatProgressModel",
            "_view_count": null,
            "_view_module": "@jupyter-widgets/controls",
            "_view_module_version": "1.5.0",
            "_view_name": "ProgressView",
            "bar_style": "success",
            "description": "",
            "description_tooltip": null,
            "layout": "IPY_MODEL_e9f8c331cb584e6ea29bd3daab9961f2",
            "max": 29,
            "min": 0,
            "orientation": "horizontal",
            "style": "IPY_MODEL_cf520a7f501843fb97654ab44bd4c032",
            "value": 29
          }
        },
        "5c7c1441342b4ea08cfc1191e378f5e6": {
          "model_module": "@jupyter-widgets/controls",
          "model_name": "HTMLModel",
          "model_module_version": "1.5.0",
          "state": {
            "_dom_classes": [],
            "_model_module": "@jupyter-widgets/controls",
            "_model_module_version": "1.5.0",
            "_model_name": "HTMLModel",
            "_view_count": null,
            "_view_module": "@jupyter-widgets/controls",
            "_view_module_version": "1.5.0",
            "_view_name": "HTMLView",
            "description": "",
            "description_tooltip": null,
            "layout": "IPY_MODEL_61d6b1c8276441059f6f9230dd745fb9",
            "placeholder": "​",
            "style": "IPY_MODEL_eed826af5dd0457fb872db54a1192f8c",
            "value": " 29.0/29.0 [00:00&lt;00:00, 1.03kB/s]"
          }
        },
        "268949149e9845dc8459c42fe550c9a5": {
          "model_module": "@jupyter-widgets/base",
          "model_name": "LayoutModel",
          "model_module_version": "1.2.0",
          "state": {
            "_model_module": "@jupyter-widgets/base",
            "_model_module_version": "1.2.0",
            "_model_name": "LayoutModel",
            "_view_count": null,
            "_view_module": "@jupyter-widgets/base",
            "_view_module_version": "1.2.0",
            "_view_name": "LayoutView",
            "align_content": null,
            "align_items": null,
            "align_self": null,
            "border": null,
            "bottom": null,
            "display": null,
            "flex": null,
            "flex_flow": null,
            "grid_area": null,
            "grid_auto_columns": null,
            "grid_auto_flow": null,
            "grid_auto_rows": null,
            "grid_column": null,
            "grid_gap": null,
            "grid_row": null,
            "grid_template_areas": null,
            "grid_template_columns": null,
            "grid_template_rows": null,
            "height": null,
            "justify_content": null,
            "justify_items": null,
            "left": null,
            "margin": null,
            "max_height": null,
            "max_width": null,
            "min_height": null,
            "min_width": null,
            "object_fit": null,
            "object_position": null,
            "order": null,
            "overflow": null,
            "overflow_x": null,
            "overflow_y": null,
            "padding": null,
            "right": null,
            "top": null,
            "visibility": null,
            "width": null
          }
        },
        "b55926f447554ce4b0c77260310c7e3c": {
          "model_module": "@jupyter-widgets/base",
          "model_name": "LayoutModel",
          "model_module_version": "1.2.0",
          "state": {
            "_model_module": "@jupyter-widgets/base",
            "_model_module_version": "1.2.0",
            "_model_name": "LayoutModel",
            "_view_count": null,
            "_view_module": "@jupyter-widgets/base",
            "_view_module_version": "1.2.0",
            "_view_name": "LayoutView",
            "align_content": null,
            "align_items": null,
            "align_self": null,
            "border": null,
            "bottom": null,
            "display": null,
            "flex": null,
            "flex_flow": null,
            "grid_area": null,
            "grid_auto_columns": null,
            "grid_auto_flow": null,
            "grid_auto_rows": null,
            "grid_column": null,
            "grid_gap": null,
            "grid_row": null,
            "grid_template_areas": null,
            "grid_template_columns": null,
            "grid_template_rows": null,
            "height": null,
            "justify_content": null,
            "justify_items": null,
            "left": null,
            "margin": null,
            "max_height": null,
            "max_width": null,
            "min_height": null,
            "min_width": null,
            "object_fit": null,
            "object_position": null,
            "order": null,
            "overflow": null,
            "overflow_x": null,
            "overflow_y": null,
            "padding": null,
            "right": null,
            "top": null,
            "visibility": null,
            "width": null
          }
        },
        "5841bdf2fc4a4232811e3aed2c4e0147": {
          "model_module": "@jupyter-widgets/controls",
          "model_name": "DescriptionStyleModel",
          "model_module_version": "1.5.0",
          "state": {
            "_model_module": "@jupyter-widgets/controls",
            "_model_module_version": "1.5.0",
            "_model_name": "DescriptionStyleModel",
            "_view_count": null,
            "_view_module": "@jupyter-widgets/base",
            "_view_module_version": "1.2.0",
            "_view_name": "StyleView",
            "description_width": ""
          }
        },
        "e9f8c331cb584e6ea29bd3daab9961f2": {
          "model_module": "@jupyter-widgets/base",
          "model_name": "LayoutModel",
          "model_module_version": "1.2.0",
          "state": {
            "_model_module": "@jupyter-widgets/base",
            "_model_module_version": "1.2.0",
            "_model_name": "LayoutModel",
            "_view_count": null,
            "_view_module": "@jupyter-widgets/base",
            "_view_module_version": "1.2.0",
            "_view_name": "LayoutView",
            "align_content": null,
            "align_items": null,
            "align_self": null,
            "border": null,
            "bottom": null,
            "display": null,
            "flex": null,
            "flex_flow": null,
            "grid_area": null,
            "grid_auto_columns": null,
            "grid_auto_flow": null,
            "grid_auto_rows": null,
            "grid_column": null,
            "grid_gap": null,
            "grid_row": null,
            "grid_template_areas": null,
            "grid_template_columns": null,
            "grid_template_rows": null,
            "height": null,
            "justify_content": null,
            "justify_items": null,
            "left": null,
            "margin": null,
            "max_height": null,
            "max_width": null,
            "min_height": null,
            "min_width": null,
            "object_fit": null,
            "object_position": null,
            "order": null,
            "overflow": null,
            "overflow_x": null,
            "overflow_y": null,
            "padding": null,
            "right": null,
            "top": null,
            "visibility": null,
            "width": null
          }
        },
        "cf520a7f501843fb97654ab44bd4c032": {
          "model_module": "@jupyter-widgets/controls",
          "model_name": "ProgressStyleModel",
          "model_module_version": "1.5.0",
          "state": {
            "_model_module": "@jupyter-widgets/controls",
            "_model_module_version": "1.5.0",
            "_model_name": "ProgressStyleModel",
            "_view_count": null,
            "_view_module": "@jupyter-widgets/base",
            "_view_module_version": "1.2.0",
            "_view_name": "StyleView",
            "bar_color": null,
            "description_width": ""
          }
        },
        "61d6b1c8276441059f6f9230dd745fb9": {
          "model_module": "@jupyter-widgets/base",
          "model_name": "LayoutModel",
          "model_module_version": "1.2.0",
          "state": {
            "_model_module": "@jupyter-widgets/base",
            "_model_module_version": "1.2.0",
            "_model_name": "LayoutModel",
            "_view_count": null,
            "_view_module": "@jupyter-widgets/base",
            "_view_module_version": "1.2.0",
            "_view_name": "LayoutView",
            "align_content": null,
            "align_items": null,
            "align_self": null,
            "border": null,
            "bottom": null,
            "display": null,
            "flex": null,
            "flex_flow": null,
            "grid_area": null,
            "grid_auto_columns": null,
            "grid_auto_flow": null,
            "grid_auto_rows": null,
            "grid_column": null,
            "grid_gap": null,
            "grid_row": null,
            "grid_template_areas": null,
            "grid_template_columns": null,
            "grid_template_rows": null,
            "height": null,
            "justify_content": null,
            "justify_items": null,
            "left": null,
            "margin": null,
            "max_height": null,
            "max_width": null,
            "min_height": null,
            "min_width": null,
            "object_fit": null,
            "object_position": null,
            "order": null,
            "overflow": null,
            "overflow_x": null,
            "overflow_y": null,
            "padding": null,
            "right": null,
            "top": null,
            "visibility": null,
            "width": null
          }
        },
        "eed826af5dd0457fb872db54a1192f8c": {
          "model_module": "@jupyter-widgets/controls",
          "model_name": "DescriptionStyleModel",
          "model_module_version": "1.5.0",
          "state": {
            "_model_module": "@jupyter-widgets/controls",
            "_model_module_version": "1.5.0",
            "_model_name": "DescriptionStyleModel",
            "_view_count": null,
            "_view_module": "@jupyter-widgets/base",
            "_view_module_version": "1.2.0",
            "_view_name": "StyleView",
            "description_width": ""
          }
        },
        "62a371e60ec147a6932337d92a726697": {
          "model_module": "@jupyter-widgets/controls",
          "model_name": "HBoxModel",
          "model_module_version": "1.5.0",
          "state": {
            "_dom_classes": [],
            "_model_module": "@jupyter-widgets/controls",
            "_model_module_version": "1.5.0",
            "_model_name": "HBoxModel",
            "_view_count": null,
            "_view_module": "@jupyter-widgets/controls",
            "_view_module_version": "1.5.0",
            "_view_name": "HBoxView",
            "box_style": "",
            "children": [
              "IPY_MODEL_4fde34509e004960be8de80e32e254c3",
              "IPY_MODEL_9a2c24136f764b86aa1f80de03268693",
              "IPY_MODEL_b5509a60082a41f195cedfcf9ba73119"
            ],
            "layout": "IPY_MODEL_968c21e3e50a4c94b3ed05cd89fe79a3"
          }
        },
        "4fde34509e004960be8de80e32e254c3": {
          "model_module": "@jupyter-widgets/controls",
          "model_name": "HTMLModel",
          "model_module_version": "1.5.0",
          "state": {
            "_dom_classes": [],
            "_model_module": "@jupyter-widgets/controls",
            "_model_module_version": "1.5.0",
            "_model_name": "HTMLModel",
            "_view_count": null,
            "_view_module": "@jupyter-widgets/controls",
            "_view_module_version": "1.5.0",
            "_view_name": "HTMLView",
            "description": "",
            "description_tooltip": null,
            "layout": "IPY_MODEL_86205cdece6e434b8644ecaa20592981",
            "placeholder": "​",
            "style": "IPY_MODEL_28c04a110d6941d6b38cee2fde29ee31",
            "value": "Downloading: 100%"
          }
        },
        "9a2c24136f764b86aa1f80de03268693": {
          "model_module": "@jupyter-widgets/controls",
          "model_name": "FloatProgressModel",
          "model_module_version": "1.5.0",
          "state": {
            "_dom_classes": [],
            "_model_module": "@jupyter-widgets/controls",
            "_model_module_version": "1.5.0",
            "_model_name": "FloatProgressModel",
            "_view_count": null,
            "_view_module": "@jupyter-widgets/controls",
            "_view_module_version": "1.5.0",
            "_view_name": "ProgressView",
            "bar_style": "success",
            "description": "",
            "description_tooltip": null,
            "layout": "IPY_MODEL_68ceccbc2be94b9686ea7258671d3d25",
            "max": 411,
            "min": 0,
            "orientation": "horizontal",
            "style": "IPY_MODEL_a41416c67c0544c98fbfcafd1e153853",
            "value": 411
          }
        },
        "b5509a60082a41f195cedfcf9ba73119": {
          "model_module": "@jupyter-widgets/controls",
          "model_name": "HTMLModel",
          "model_module_version": "1.5.0",
          "state": {
            "_dom_classes": [],
            "_model_module": "@jupyter-widgets/controls",
            "_model_module_version": "1.5.0",
            "_model_name": "HTMLModel",
            "_view_count": null,
            "_view_module": "@jupyter-widgets/controls",
            "_view_module_version": "1.5.0",
            "_view_name": "HTMLView",
            "description": "",
            "description_tooltip": null,
            "layout": "IPY_MODEL_15a58db901d14fa2870f857df8a9bc8c",
            "placeholder": "​",
            "style": "IPY_MODEL_06cae15f0e6541d6b6650cb33491cbd9",
            "value": " 411/411 [00:00&lt;00:00, 12.5kB/s]"
          }
        },
        "968c21e3e50a4c94b3ed05cd89fe79a3": {
          "model_module": "@jupyter-widgets/base",
          "model_name": "LayoutModel",
          "model_module_version": "1.2.0",
          "state": {
            "_model_module": "@jupyter-widgets/base",
            "_model_module_version": "1.2.0",
            "_model_name": "LayoutModel",
            "_view_count": null,
            "_view_module": "@jupyter-widgets/base",
            "_view_module_version": "1.2.0",
            "_view_name": "LayoutView",
            "align_content": null,
            "align_items": null,
            "align_self": null,
            "border": null,
            "bottom": null,
            "display": null,
            "flex": null,
            "flex_flow": null,
            "grid_area": null,
            "grid_auto_columns": null,
            "grid_auto_flow": null,
            "grid_auto_rows": null,
            "grid_column": null,
            "grid_gap": null,
            "grid_row": null,
            "grid_template_areas": null,
            "grid_template_columns": null,
            "grid_template_rows": null,
            "height": null,
            "justify_content": null,
            "justify_items": null,
            "left": null,
            "margin": null,
            "max_height": null,
            "max_width": null,
            "min_height": null,
            "min_width": null,
            "object_fit": null,
            "object_position": null,
            "order": null,
            "overflow": null,
            "overflow_x": null,
            "overflow_y": null,
            "padding": null,
            "right": null,
            "top": null,
            "visibility": null,
            "width": null
          }
        },
        "86205cdece6e434b8644ecaa20592981": {
          "model_module": "@jupyter-widgets/base",
          "model_name": "LayoutModel",
          "model_module_version": "1.2.0",
          "state": {
            "_model_module": "@jupyter-widgets/base",
            "_model_module_version": "1.2.0",
            "_model_name": "LayoutModel",
            "_view_count": null,
            "_view_module": "@jupyter-widgets/base",
            "_view_module_version": "1.2.0",
            "_view_name": "LayoutView",
            "align_content": null,
            "align_items": null,
            "align_self": null,
            "border": null,
            "bottom": null,
            "display": null,
            "flex": null,
            "flex_flow": null,
            "grid_area": null,
            "grid_auto_columns": null,
            "grid_auto_flow": null,
            "grid_auto_rows": null,
            "grid_column": null,
            "grid_gap": null,
            "grid_row": null,
            "grid_template_areas": null,
            "grid_template_columns": null,
            "grid_template_rows": null,
            "height": null,
            "justify_content": null,
            "justify_items": null,
            "left": null,
            "margin": null,
            "max_height": null,
            "max_width": null,
            "min_height": null,
            "min_width": null,
            "object_fit": null,
            "object_position": null,
            "order": null,
            "overflow": null,
            "overflow_x": null,
            "overflow_y": null,
            "padding": null,
            "right": null,
            "top": null,
            "visibility": null,
            "width": null
          }
        },
        "28c04a110d6941d6b38cee2fde29ee31": {
          "model_module": "@jupyter-widgets/controls",
          "model_name": "DescriptionStyleModel",
          "model_module_version": "1.5.0",
          "state": {
            "_model_module": "@jupyter-widgets/controls",
            "_model_module_version": "1.5.0",
            "_model_name": "DescriptionStyleModel",
            "_view_count": null,
            "_view_module": "@jupyter-widgets/base",
            "_view_module_version": "1.2.0",
            "_view_name": "StyleView",
            "description_width": ""
          }
        },
        "68ceccbc2be94b9686ea7258671d3d25": {
          "model_module": "@jupyter-widgets/base",
          "model_name": "LayoutModel",
          "model_module_version": "1.2.0",
          "state": {
            "_model_module": "@jupyter-widgets/base",
            "_model_module_version": "1.2.0",
            "_model_name": "LayoutModel",
            "_view_count": null,
            "_view_module": "@jupyter-widgets/base",
            "_view_module_version": "1.2.0",
            "_view_name": "LayoutView",
            "align_content": null,
            "align_items": null,
            "align_self": null,
            "border": null,
            "bottom": null,
            "display": null,
            "flex": null,
            "flex_flow": null,
            "grid_area": null,
            "grid_auto_columns": null,
            "grid_auto_flow": null,
            "grid_auto_rows": null,
            "grid_column": null,
            "grid_gap": null,
            "grid_row": null,
            "grid_template_areas": null,
            "grid_template_columns": null,
            "grid_template_rows": null,
            "height": null,
            "justify_content": null,
            "justify_items": null,
            "left": null,
            "margin": null,
            "max_height": null,
            "max_width": null,
            "min_height": null,
            "min_width": null,
            "object_fit": null,
            "object_position": null,
            "order": null,
            "overflow": null,
            "overflow_x": null,
            "overflow_y": null,
            "padding": null,
            "right": null,
            "top": null,
            "visibility": null,
            "width": null
          }
        },
        "a41416c67c0544c98fbfcafd1e153853": {
          "model_module": "@jupyter-widgets/controls",
          "model_name": "ProgressStyleModel",
          "model_module_version": "1.5.0",
          "state": {
            "_model_module": "@jupyter-widgets/controls",
            "_model_module_version": "1.5.0",
            "_model_name": "ProgressStyleModel",
            "_view_count": null,
            "_view_module": "@jupyter-widgets/base",
            "_view_module_version": "1.2.0",
            "_view_name": "StyleView",
            "bar_color": null,
            "description_width": ""
          }
        },
        "15a58db901d14fa2870f857df8a9bc8c": {
          "model_module": "@jupyter-widgets/base",
          "model_name": "LayoutModel",
          "model_module_version": "1.2.0",
          "state": {
            "_model_module": "@jupyter-widgets/base",
            "_model_module_version": "1.2.0",
            "_model_name": "LayoutModel",
            "_view_count": null,
            "_view_module": "@jupyter-widgets/base",
            "_view_module_version": "1.2.0",
            "_view_name": "LayoutView",
            "align_content": null,
            "align_items": null,
            "align_self": null,
            "border": null,
            "bottom": null,
            "display": null,
            "flex": null,
            "flex_flow": null,
            "grid_area": null,
            "grid_auto_columns": null,
            "grid_auto_flow": null,
            "grid_auto_rows": null,
            "grid_column": null,
            "grid_gap": null,
            "grid_row": null,
            "grid_template_areas": null,
            "grid_template_columns": null,
            "grid_template_rows": null,
            "height": null,
            "justify_content": null,
            "justify_items": null,
            "left": null,
            "margin": null,
            "max_height": null,
            "max_width": null,
            "min_height": null,
            "min_width": null,
            "object_fit": null,
            "object_position": null,
            "order": null,
            "overflow": null,
            "overflow_x": null,
            "overflow_y": null,
            "padding": null,
            "right": null,
            "top": null,
            "visibility": null,
            "width": null
          }
        },
        "06cae15f0e6541d6b6650cb33491cbd9": {
          "model_module": "@jupyter-widgets/controls",
          "model_name": "DescriptionStyleModel",
          "model_module_version": "1.5.0",
          "state": {
            "_model_module": "@jupyter-widgets/controls",
            "_model_module_version": "1.5.0",
            "_model_name": "DescriptionStyleModel",
            "_view_count": null,
            "_view_module": "@jupyter-widgets/base",
            "_view_module_version": "1.2.0",
            "_view_name": "StyleView",
            "description_width": ""
          }
        },
        "2ef774ab631b4d0dbf2f385911d29450": {
          "model_module": "@jupyter-widgets/controls",
          "model_name": "HBoxModel",
          "model_module_version": "1.5.0",
          "state": {
            "_dom_classes": [],
            "_model_module": "@jupyter-widgets/controls",
            "_model_module_version": "1.5.0",
            "_model_name": "HBoxModel",
            "_view_count": null,
            "_view_module": "@jupyter-widgets/controls",
            "_view_module_version": "1.5.0",
            "_view_name": "HBoxView",
            "box_style": "",
            "children": [
              "IPY_MODEL_5b89b5b025ba46af88b0d8048c8a1827",
              "IPY_MODEL_db20e146b2f84c1c9302ad37e7d79d44",
              "IPY_MODEL_d33263cfa95e4ccdb1dafea64470a70c"
            ],
            "layout": "IPY_MODEL_9f25c00c36e341b88080e0b4bf480ff6"
          }
        },
        "5b89b5b025ba46af88b0d8048c8a1827": {
          "model_module": "@jupyter-widgets/controls",
          "model_name": "HTMLModel",
          "model_module_version": "1.5.0",
          "state": {
            "_dom_classes": [],
            "_model_module": "@jupyter-widgets/controls",
            "_model_module_version": "1.5.0",
            "_model_name": "HTMLModel",
            "_view_count": null,
            "_view_module": "@jupyter-widgets/controls",
            "_view_module_version": "1.5.0",
            "_view_name": "HTMLView",
            "description": "",
            "description_tooltip": null,
            "layout": "IPY_MODEL_6eae8b29be954f2ea6dcbddeb15d0ea5",
            "placeholder": "​",
            "style": "IPY_MODEL_35cc1c288b534e57b6bf97c6b96ae029",
            "value": "Downloading: 100%"
          }
        },
        "db20e146b2f84c1c9302ad37e7d79d44": {
          "model_module": "@jupyter-widgets/controls",
          "model_name": "FloatProgressModel",
          "model_module_version": "1.5.0",
          "state": {
            "_dom_classes": [],
            "_model_module": "@jupyter-widgets/controls",
            "_model_module_version": "1.5.0",
            "_model_name": "FloatProgressModel",
            "_view_count": null,
            "_view_module": "@jupyter-widgets/controls",
            "_view_module_version": "1.5.0",
            "_view_name": "ProgressView",
            "bar_style": "success",
            "description": "",
            "description_tooltip": null,
            "layout": "IPY_MODEL_850f0c04eb594f968c773727a4bfa1d1",
            "max": 354041576,
            "min": 0,
            "orientation": "horizontal",
            "style": "IPY_MODEL_204dfc67bd7e4df4ac44ad7a935a9530",
            "value": 354041576
          }
        },
        "d33263cfa95e4ccdb1dafea64470a70c": {
          "model_module": "@jupyter-widgets/controls",
          "model_name": "HTMLModel",
          "model_module_version": "1.5.0",
          "state": {
            "_dom_classes": [],
            "_model_module": "@jupyter-widgets/controls",
            "_model_module_version": "1.5.0",
            "_model_name": "HTMLModel",
            "_view_count": null,
            "_view_module": "@jupyter-widgets/controls",
            "_view_module_version": "1.5.0",
            "_view_name": "HTMLView",
            "description": "",
            "description_tooltip": null,
            "layout": "IPY_MODEL_302d00a11f6246d1b64bfb9a6dd98f6c",
            "placeholder": "​",
            "style": "IPY_MODEL_703b253ff2db47ffb15a3497fccd62c2",
            "value": " 354M/354M [00:06&lt;00:00, 59.3MB/s]"
          }
        },
        "9f25c00c36e341b88080e0b4bf480ff6": {
          "model_module": "@jupyter-widgets/base",
          "model_name": "LayoutModel",
          "model_module_version": "1.2.0",
          "state": {
            "_model_module": "@jupyter-widgets/base",
            "_model_module_version": "1.2.0",
            "_model_name": "LayoutModel",
            "_view_count": null,
            "_view_module": "@jupyter-widgets/base",
            "_view_module_version": "1.2.0",
            "_view_name": "LayoutView",
            "align_content": null,
            "align_items": null,
            "align_self": null,
            "border": null,
            "bottom": null,
            "display": null,
            "flex": null,
            "flex_flow": null,
            "grid_area": null,
            "grid_auto_columns": null,
            "grid_auto_flow": null,
            "grid_auto_rows": null,
            "grid_column": null,
            "grid_gap": null,
            "grid_row": null,
            "grid_template_areas": null,
            "grid_template_columns": null,
            "grid_template_rows": null,
            "height": null,
            "justify_content": null,
            "justify_items": null,
            "left": null,
            "margin": null,
            "max_height": null,
            "max_width": null,
            "min_height": null,
            "min_width": null,
            "object_fit": null,
            "object_position": null,
            "order": null,
            "overflow": null,
            "overflow_x": null,
            "overflow_y": null,
            "padding": null,
            "right": null,
            "top": null,
            "visibility": null,
            "width": null
          }
        },
        "6eae8b29be954f2ea6dcbddeb15d0ea5": {
          "model_module": "@jupyter-widgets/base",
          "model_name": "LayoutModel",
          "model_module_version": "1.2.0",
          "state": {
            "_model_module": "@jupyter-widgets/base",
            "_model_module_version": "1.2.0",
            "_model_name": "LayoutModel",
            "_view_count": null,
            "_view_module": "@jupyter-widgets/base",
            "_view_module_version": "1.2.0",
            "_view_name": "LayoutView",
            "align_content": null,
            "align_items": null,
            "align_self": null,
            "border": null,
            "bottom": null,
            "display": null,
            "flex": null,
            "flex_flow": null,
            "grid_area": null,
            "grid_auto_columns": null,
            "grid_auto_flow": null,
            "grid_auto_rows": null,
            "grid_column": null,
            "grid_gap": null,
            "grid_row": null,
            "grid_template_areas": null,
            "grid_template_columns": null,
            "grid_template_rows": null,
            "height": null,
            "justify_content": null,
            "justify_items": null,
            "left": null,
            "margin": null,
            "max_height": null,
            "max_width": null,
            "min_height": null,
            "min_width": null,
            "object_fit": null,
            "object_position": null,
            "order": null,
            "overflow": null,
            "overflow_x": null,
            "overflow_y": null,
            "padding": null,
            "right": null,
            "top": null,
            "visibility": null,
            "width": null
          }
        },
        "35cc1c288b534e57b6bf97c6b96ae029": {
          "model_module": "@jupyter-widgets/controls",
          "model_name": "DescriptionStyleModel",
          "model_module_version": "1.5.0",
          "state": {
            "_model_module": "@jupyter-widgets/controls",
            "_model_module_version": "1.5.0",
            "_model_name": "DescriptionStyleModel",
            "_view_count": null,
            "_view_module": "@jupyter-widgets/base",
            "_view_module_version": "1.2.0",
            "_view_name": "StyleView",
            "description_width": ""
          }
        },
        "850f0c04eb594f968c773727a4bfa1d1": {
          "model_module": "@jupyter-widgets/base",
          "model_name": "LayoutModel",
          "model_module_version": "1.2.0",
          "state": {
            "_model_module": "@jupyter-widgets/base",
            "_model_module_version": "1.2.0",
            "_model_name": "LayoutModel",
            "_view_count": null,
            "_view_module": "@jupyter-widgets/base",
            "_view_module_version": "1.2.0",
            "_view_name": "LayoutView",
            "align_content": null,
            "align_items": null,
            "align_self": null,
            "border": null,
            "bottom": null,
            "display": null,
            "flex": null,
            "flex_flow": null,
            "grid_area": null,
            "grid_auto_columns": null,
            "grid_auto_flow": null,
            "grid_auto_rows": null,
            "grid_column": null,
            "grid_gap": null,
            "grid_row": null,
            "grid_template_areas": null,
            "grid_template_columns": null,
            "grid_template_rows": null,
            "height": null,
            "justify_content": null,
            "justify_items": null,
            "left": null,
            "margin": null,
            "max_height": null,
            "max_width": null,
            "min_height": null,
            "min_width": null,
            "object_fit": null,
            "object_position": null,
            "order": null,
            "overflow": null,
            "overflow_x": null,
            "overflow_y": null,
            "padding": null,
            "right": null,
            "top": null,
            "visibility": null,
            "width": null
          }
        },
        "204dfc67bd7e4df4ac44ad7a935a9530": {
          "model_module": "@jupyter-widgets/controls",
          "model_name": "ProgressStyleModel",
          "model_module_version": "1.5.0",
          "state": {
            "_model_module": "@jupyter-widgets/controls",
            "_model_module_version": "1.5.0",
            "_model_name": "ProgressStyleModel",
            "_view_count": null,
            "_view_module": "@jupyter-widgets/base",
            "_view_module_version": "1.2.0",
            "_view_name": "StyleView",
            "bar_color": null,
            "description_width": ""
          }
        },
        "302d00a11f6246d1b64bfb9a6dd98f6c": {
          "model_module": "@jupyter-widgets/base",
          "model_name": "LayoutModel",
          "model_module_version": "1.2.0",
          "state": {
            "_model_module": "@jupyter-widgets/base",
            "_model_module_version": "1.2.0",
            "_model_name": "LayoutModel",
            "_view_count": null,
            "_view_module": "@jupyter-widgets/base",
            "_view_module_version": "1.2.0",
            "_view_name": "LayoutView",
            "align_content": null,
            "align_items": null,
            "align_self": null,
            "border": null,
            "bottom": null,
            "display": null,
            "flex": null,
            "flex_flow": null,
            "grid_area": null,
            "grid_auto_columns": null,
            "grid_auto_flow": null,
            "grid_auto_rows": null,
            "grid_column": null,
            "grid_gap": null,
            "grid_row": null,
            "grid_template_areas": null,
            "grid_template_columns": null,
            "grid_template_rows": null,
            "height": null,
            "justify_content": null,
            "justify_items": null,
            "left": null,
            "margin": null,
            "max_height": null,
            "max_width": null,
            "min_height": null,
            "min_width": null,
            "object_fit": null,
            "object_position": null,
            "order": null,
            "overflow": null,
            "overflow_x": null,
            "overflow_y": null,
            "padding": null,
            "right": null,
            "top": null,
            "visibility": null,
            "width": null
          }
        },
        "703b253ff2db47ffb15a3497fccd62c2": {
          "model_module": "@jupyter-widgets/controls",
          "model_name": "DescriptionStyleModel",
          "model_module_version": "1.5.0",
          "state": {
            "_model_module": "@jupyter-widgets/controls",
            "_model_module_version": "1.5.0",
            "_model_name": "DescriptionStyleModel",
            "_view_count": null,
            "_view_module": "@jupyter-widgets/base",
            "_view_module_version": "1.2.0",
            "_view_name": "StyleView",
            "description_width": ""
          }
        }
      }
    }
  },
  "cells": [
    {
      "cell_type": "markdown",
      "source": [
        "# DistilBERT for fake news detection\n"
      ],
      "metadata": {
        "id": "yCuBZU6iydnV"
      }
    },
    {
      "cell_type": "markdown",
      "source": [
        "Make sure that you are using GPU"
      ],
      "metadata": {
        "id": "B79lXyf-ypHd"
      }
    },
    {
      "cell_type": "code",
      "execution_count": 1,
      "metadata": {
        "colab": {
          "base_uri": "https://localhost:8080/"
        },
        "id": "kWpxmVSayazf",
        "outputId": "e8dcc2fa-adec-472f-edb4-40146ef8a794"
      },
      "outputs": [
        {
          "output_type": "execute_result",
          "data": {
            "text/plain": [
              "device(type='cuda')"
            ]
          },
          "metadata": {},
          "execution_count": 1
        }
      ],
      "source": [
        "import torch \n",
        "device = torch.device(\"cuda\" if torch.cuda.is_available() else \"cpu\")\n",
        "device"
      ]
    },
    {
      "cell_type": "markdown",
      "source": [
        "You can see the type of gpu available for you:"
      ],
      "metadata": {
        "id": "Np_FymoPy25r"
      }
    },
    {
      "cell_type": "code",
      "source": [
        "!nvidia-smi"
      ],
      "metadata": {
        "colab": {
          "base_uri": "https://localhost:8080/"
        },
        "id": "Pg0bhGKSyzmD",
        "outputId": "c69c2c67-c1fc-47af-a82c-9736e2f65de9"
      },
      "execution_count": 2,
      "outputs": [
        {
          "output_type": "stream",
          "name": "stdout",
          "text": [
            "Thu Oct 20 10:06:28 2022       \n",
            "+-----------------------------------------------------------------------------+\n",
            "| NVIDIA-SMI 460.32.03    Driver Version: 460.32.03    CUDA Version: 11.2     |\n",
            "|-------------------------------+----------------------+----------------------+\n",
            "| GPU  Name        Persistence-M| Bus-Id        Disp.A | Volatile Uncorr. ECC |\n",
            "| Fan  Temp  Perf  Pwr:Usage/Cap|         Memory-Usage | GPU-Util  Compute M. |\n",
            "|                               |                      |               MIG M. |\n",
            "|===============================+======================+======================|\n",
            "|   0  Tesla T4            Off  | 00000000:00:04.0 Off |                    0 |\n",
            "| N/A   52C    P8    10W /  70W |      3MiB / 15109MiB |      0%      Default |\n",
            "|                               |                      |                  N/A |\n",
            "+-------------------------------+----------------------+----------------------+\n",
            "                                                                               \n",
            "+-----------------------------------------------------------------------------+\n",
            "| Processes:                                                                  |\n",
            "|  GPU   GI   CI        PID   Type   Process name                  GPU Memory |\n",
            "|        ID   ID                                                   Usage      |\n",
            "|=============================================================================|\n",
            "|  No running processes found                                                 |\n",
            "+-----------------------------------------------------------------------------+\n"
          ]
        }
      ]
    },
    {
      "cell_type": "markdown",
      "source": [
        "## 1. Load the data"
      ],
      "metadata": {
        "id": "yPL1qcW0zAb9"
      }
    },
    {
      "cell_type": "code",
      "source": [
        "# Load the Drive helper and mount\n",
        "from google.colab import drive\n",
        "drive.mount('/content/drive')\n",
        "root = 'drive/My Drive/TFG/'"
      ],
      "metadata": {
        "id": "UTBHpvISzDcy",
        "colab": {
          "base_uri": "https://localhost:8080/"
        },
        "outputId": "cf25ed94-537b-41fc-93a5-557c8297011d"
      },
      "execution_count": 3,
      "outputs": [
        {
          "output_type": "stream",
          "name": "stdout",
          "text": [
            "Drive already mounted at /content/drive; to attempt to forcibly remount, call drive.mount(\"/content/drive\", force_remount=True).\n"
          ]
        }
      ]
    },
    {
      "cell_type": "code",
      "source": [
        "MULTIMODAL_ONLY = True # if False, we will load all the\n",
        "nameFile = 'multimodal_'\n",
        "if not MULTIMODAL_ONLY:\n",
        "    nameFile ='all_'\n",
        "\n",
        "NUM_CLASSES = 6 # 2, 3 or 6\n",
        "\n",
        "labels = []\n",
        "if NUM_CLASSES == 2:\n",
        "    labels= [\"True\", \"False\"]\n",
        "    reorder= [\"True\", \"False\"]\n",
        "\n",
        "elif NUM_CLASSES == 3:\n",
        "    labels= [\"True\", \"Fake contains True\", \"False\"]\n",
        "    reorder= [\"True\", \"Fake contains True\", \"False\"]\n",
        "\n",
        "elif NUM_CLASSES == 6:\n",
        "    labels= [\"True\", \"Satire/Parody\", \"Misleading Content\", \"Imposter Content\", \"False Connection\", \"Manipulated Content\"]\n",
        "    reorder= [\"True\", \"Satire\", \"Misleading\", \"Imposter\", \"False\", \"Manipulated\"]"
      ],
      "metadata": {
        "id": "TSUw5SS4DuQ4"
      },
      "execution_count": 4,
      "outputs": []
    },
    {
      "cell_type": "code",
      "source": [
        "import pandas as pd\n",
        "train = pd.read_csv(root+\"data/fakeddit/\" + nameFile+ \"train.tsv\", sep='\\t')\n",
        "val  = pd.read_csv(root+\"data/fakeddit/\" + nameFile+ \"validate.tsv\", sep='\\t')\n",
        "test  = pd.read_csv(root+\"data/fakeddit/\" + nameFile+ \"test_public.tsv\", sep='\\t')\n",
        "\n",
        "print(\"Dataset: \", nameFile)\n",
        "print('size training: ', len(train))\n",
        "print('size validation: ', len(val))\n",
        "print('size test: ', len(test))\n"
      ],
      "metadata": {
        "id": "-XgH1K-mzPaz",
        "colab": {
          "base_uri": "https://localhost:8080/"
        },
        "outputId": "1c3a2f93-9e7a-459a-9b23-1e410b998eb0"
      },
      "execution_count": 5,
      "outputs": [
        {
          "output_type": "stream",
          "name": "stdout",
          "text": [
            "Dataset:  multimodal_\n",
            "size training:  564000\n",
            "size validation:  59342\n",
            "size test:  59319\n"
          ]
        }
      ]
    },
    {
      "cell_type": "code",
      "source": [
        "train.head()"
      ],
      "metadata": {
        "colab": {
          "base_uri": "https://localhost:8080/",
          "height": 206
        },
        "id": "a34BexDrKIOx",
        "outputId": "6d829ec8-322b-42c2-c032-38ab29c1b682"
      },
      "execution_count": 6,
      "outputs": [
        {
          "output_type": "execute_result",
          "data": {
            "text/plain": [
              "           author                                        clean_title  \\\n",
              "0     Alexithymia  my walgreens offbrand mucinex was engraved wit...   \n",
              "1        VIDCAs17                this concerned sink with a tiny hat   \n",
              "2  prometheus1123      hackers leak emails from uae ambassador to us   \n",
              "3             NaN                           puppy taking in the view   \n",
              "4       3rikR3ith               i found a face in my sheet music too   \n",
              "\n",
              "    created_utc         domain  hasImage      id  \\\n",
              "0  1.551641e+09    i.imgur.com      True  awxhir   \n",
              "1  1.534727e+09      i.redd.it      True  98pbid   \n",
              "2  1.496511e+09  aljazeera.com      True  6f2cy5   \n",
              "3  1.471341e+09    i.imgur.com      True  4xypkv   \n",
              "4  1.525318e+09      i.redd.it      True  8gnet9   \n",
              "\n",
              "                                           image_url linked_submission_id  \\\n",
              "0  https://external-preview.redd.it/WylDbZrnbvZdB...                  NaN   \n",
              "1  https://preview.redd.it/wsfx0gp0f5h11.jpg?widt...                  NaN   \n",
              "2  https://external-preview.redd.it/6fNhdbc6K1vFA...                  NaN   \n",
              "3  https://external-preview.redd.it/HLtVNhTR6wtYt...                  NaN   \n",
              "4  https://preview.redd.it/ri7ut2wn8kv01.jpg?widt...                  NaN   \n",
              "\n",
              "   num_comments  score          subreddit  \\\n",
              "0           2.0     12  mildlyinteresting   \n",
              "1           2.0    119         pareidolia   \n",
              "2           1.0     44        neutralnews   \n",
              "3          26.0    250   photoshopbattles   \n",
              "4           2.0     13         pareidolia   \n",
              "\n",
              "                                               title  upvote_ratio  \\\n",
              "0  My Walgreens offbrand Mucinex was engraved wit...          0.84   \n",
              "1                This concerned sink with a tiny hat          0.99   \n",
              "2      Hackers leak emails from UAE ambassador to US          0.92   \n",
              "3                 PsBattle: Puppy taking in the view          0.95   \n",
              "4              I found a face in my sheet music too!          0.84   \n",
              "\n",
              "   2_way_label  3_way_label  6_way_label  \n",
              "0            1            0            0  \n",
              "1            0            2            2  \n",
              "2            1            0            0  \n",
              "3            1            0            0  \n",
              "4            0            2            2  "
            ],
            "text/html": [
              "\n",
              "  <div id=\"df-4e7512ab-f4c9-485d-94d9-4c067ac571e2\">\n",
              "    <div class=\"colab-df-container\">\n",
              "      <div>\n",
              "<style scoped>\n",
              "    .dataframe tbody tr th:only-of-type {\n",
              "        vertical-align: middle;\n",
              "    }\n",
              "\n",
              "    .dataframe tbody tr th {\n",
              "        vertical-align: top;\n",
              "    }\n",
              "\n",
              "    .dataframe thead th {\n",
              "        text-align: right;\n",
              "    }\n",
              "</style>\n",
              "<table border=\"1\" class=\"dataframe\">\n",
              "  <thead>\n",
              "    <tr style=\"text-align: right;\">\n",
              "      <th></th>\n",
              "      <th>author</th>\n",
              "      <th>clean_title</th>\n",
              "      <th>created_utc</th>\n",
              "      <th>domain</th>\n",
              "      <th>hasImage</th>\n",
              "      <th>id</th>\n",
              "      <th>image_url</th>\n",
              "      <th>linked_submission_id</th>\n",
              "      <th>num_comments</th>\n",
              "      <th>score</th>\n",
              "      <th>subreddit</th>\n",
              "      <th>title</th>\n",
              "      <th>upvote_ratio</th>\n",
              "      <th>2_way_label</th>\n",
              "      <th>3_way_label</th>\n",
              "      <th>6_way_label</th>\n",
              "    </tr>\n",
              "  </thead>\n",
              "  <tbody>\n",
              "    <tr>\n",
              "      <th>0</th>\n",
              "      <td>Alexithymia</td>\n",
              "      <td>my walgreens offbrand mucinex was engraved wit...</td>\n",
              "      <td>1.551641e+09</td>\n",
              "      <td>i.imgur.com</td>\n",
              "      <td>True</td>\n",
              "      <td>awxhir</td>\n",
              "      <td>https://external-preview.redd.it/WylDbZrnbvZdB...</td>\n",
              "      <td>NaN</td>\n",
              "      <td>2.0</td>\n",
              "      <td>12</td>\n",
              "      <td>mildlyinteresting</td>\n",
              "      <td>My Walgreens offbrand Mucinex was engraved wit...</td>\n",
              "      <td>0.84</td>\n",
              "      <td>1</td>\n",
              "      <td>0</td>\n",
              "      <td>0</td>\n",
              "    </tr>\n",
              "    <tr>\n",
              "      <th>1</th>\n",
              "      <td>VIDCAs17</td>\n",
              "      <td>this concerned sink with a tiny hat</td>\n",
              "      <td>1.534727e+09</td>\n",
              "      <td>i.redd.it</td>\n",
              "      <td>True</td>\n",
              "      <td>98pbid</td>\n",
              "      <td>https://preview.redd.it/wsfx0gp0f5h11.jpg?widt...</td>\n",
              "      <td>NaN</td>\n",
              "      <td>2.0</td>\n",
              "      <td>119</td>\n",
              "      <td>pareidolia</td>\n",
              "      <td>This concerned sink with a tiny hat</td>\n",
              "      <td>0.99</td>\n",
              "      <td>0</td>\n",
              "      <td>2</td>\n",
              "      <td>2</td>\n",
              "    </tr>\n",
              "    <tr>\n",
              "      <th>2</th>\n",
              "      <td>prometheus1123</td>\n",
              "      <td>hackers leak emails from uae ambassador to us</td>\n",
              "      <td>1.496511e+09</td>\n",
              "      <td>aljazeera.com</td>\n",
              "      <td>True</td>\n",
              "      <td>6f2cy5</td>\n",
              "      <td>https://external-preview.redd.it/6fNhdbc6K1vFA...</td>\n",
              "      <td>NaN</td>\n",
              "      <td>1.0</td>\n",
              "      <td>44</td>\n",
              "      <td>neutralnews</td>\n",
              "      <td>Hackers leak emails from UAE ambassador to US</td>\n",
              "      <td>0.92</td>\n",
              "      <td>1</td>\n",
              "      <td>0</td>\n",
              "      <td>0</td>\n",
              "    </tr>\n",
              "    <tr>\n",
              "      <th>3</th>\n",
              "      <td>NaN</td>\n",
              "      <td>puppy taking in the view</td>\n",
              "      <td>1.471341e+09</td>\n",
              "      <td>i.imgur.com</td>\n",
              "      <td>True</td>\n",
              "      <td>4xypkv</td>\n",
              "      <td>https://external-preview.redd.it/HLtVNhTR6wtYt...</td>\n",
              "      <td>NaN</td>\n",
              "      <td>26.0</td>\n",
              "      <td>250</td>\n",
              "      <td>photoshopbattles</td>\n",
              "      <td>PsBattle: Puppy taking in the view</td>\n",
              "      <td>0.95</td>\n",
              "      <td>1</td>\n",
              "      <td>0</td>\n",
              "      <td>0</td>\n",
              "    </tr>\n",
              "    <tr>\n",
              "      <th>4</th>\n",
              "      <td>3rikR3ith</td>\n",
              "      <td>i found a face in my sheet music too</td>\n",
              "      <td>1.525318e+09</td>\n",
              "      <td>i.redd.it</td>\n",
              "      <td>True</td>\n",
              "      <td>8gnet9</td>\n",
              "      <td>https://preview.redd.it/ri7ut2wn8kv01.jpg?widt...</td>\n",
              "      <td>NaN</td>\n",
              "      <td>2.0</td>\n",
              "      <td>13</td>\n",
              "      <td>pareidolia</td>\n",
              "      <td>I found a face in my sheet music too!</td>\n",
              "      <td>0.84</td>\n",
              "      <td>0</td>\n",
              "      <td>2</td>\n",
              "      <td>2</td>\n",
              "    </tr>\n",
              "  </tbody>\n",
              "</table>\n",
              "</div>\n",
              "      <button class=\"colab-df-convert\" onclick=\"convertToInteractive('df-4e7512ab-f4c9-485d-94d9-4c067ac571e2')\"\n",
              "              title=\"Convert this dataframe to an interactive table.\"\n",
              "              style=\"display:none;\">\n",
              "        \n",
              "  <svg xmlns=\"http://www.w3.org/2000/svg\" height=\"24px\"viewBox=\"0 0 24 24\"\n",
              "       width=\"24px\">\n",
              "    <path d=\"M0 0h24v24H0V0z\" fill=\"none\"/>\n",
              "    <path d=\"M18.56 5.44l.94 2.06.94-2.06 2.06-.94-2.06-.94-.94-2.06-.94 2.06-2.06.94zm-11 1L8.5 8.5l.94-2.06 2.06-.94-2.06-.94L8.5 2.5l-.94 2.06-2.06.94zm10 10l.94 2.06.94-2.06 2.06-.94-2.06-.94-.94-2.06-.94 2.06-2.06.94z\"/><path d=\"M17.41 7.96l-1.37-1.37c-.4-.4-.92-.59-1.43-.59-.52 0-1.04.2-1.43.59L10.3 9.45l-7.72 7.72c-.78.78-.78 2.05 0 2.83L4 21.41c.39.39.9.59 1.41.59.51 0 1.02-.2 1.41-.59l7.78-7.78 2.81-2.81c.8-.78.8-2.07 0-2.86zM5.41 20L4 18.59l7.72-7.72 1.47 1.35L5.41 20z\"/>\n",
              "  </svg>\n",
              "      </button>\n",
              "      \n",
              "  <style>\n",
              "    .colab-df-container {\n",
              "      display:flex;\n",
              "      flex-wrap:wrap;\n",
              "      gap: 12px;\n",
              "    }\n",
              "\n",
              "    .colab-df-convert {\n",
              "      background-color: #E8F0FE;\n",
              "      border: none;\n",
              "      border-radius: 50%;\n",
              "      cursor: pointer;\n",
              "      display: none;\n",
              "      fill: #1967D2;\n",
              "      height: 32px;\n",
              "      padding: 0 0 0 0;\n",
              "      width: 32px;\n",
              "    }\n",
              "\n",
              "    .colab-df-convert:hover {\n",
              "      background-color: #E2EBFA;\n",
              "      box-shadow: 0px 1px 2px rgba(60, 64, 67, 0.3), 0px 1px 3px 1px rgba(60, 64, 67, 0.15);\n",
              "      fill: #174EA6;\n",
              "    }\n",
              "\n",
              "    [theme=dark] .colab-df-convert {\n",
              "      background-color: #3B4455;\n",
              "      fill: #D2E3FC;\n",
              "    }\n",
              "\n",
              "    [theme=dark] .colab-df-convert:hover {\n",
              "      background-color: #434B5C;\n",
              "      box-shadow: 0px 1px 3px 1px rgba(0, 0, 0, 0.15);\n",
              "      filter: drop-shadow(0px 1px 2px rgba(0, 0, 0, 0.3));\n",
              "      fill: #FFFFFF;\n",
              "    }\n",
              "  </style>\n",
              "\n",
              "      <script>\n",
              "        const buttonEl =\n",
              "          document.querySelector('#df-4e7512ab-f4c9-485d-94d9-4c067ac571e2 button.colab-df-convert');\n",
              "        buttonEl.style.display =\n",
              "          google.colab.kernel.accessAllowed ? 'block' : 'none';\n",
              "\n",
              "        async function convertToInteractive(key) {\n",
              "          const element = document.querySelector('#df-4e7512ab-f4c9-485d-94d9-4c067ac571e2');\n",
              "          const dataTable =\n",
              "            await google.colab.kernel.invokeFunction('convertToInteractive',\n",
              "                                                     [key], {});\n",
              "          if (!dataTable) return;\n",
              "\n",
              "          const docLinkHtml = 'Like what you see? Visit the ' +\n",
              "            '<a target=\"_blank\" href=https://colab.research.google.com/notebooks/data_table.ipynb>data table notebook</a>'\n",
              "            + ' to learn more about interactive tables.';\n",
              "          element.innerHTML = '';\n",
              "          dataTable['output_type'] = 'display_data';\n",
              "          await google.colab.output.renderOutput(dataTable, element);\n",
              "          const docLink = document.createElement('div');\n",
              "          docLink.innerHTML = docLinkHtml;\n",
              "          element.appendChild(docLink);\n",
              "        }\n",
              "      </script>\n",
              "    </div>\n",
              "  </div>\n",
              "  "
            ]
          },
          "metadata": {},
          "execution_count": 6
        }
      ]
    },
    {
      "cell_type": "code",
      "source": [
        "import numpy as np\n",
        "reduction = 10 #100, 10 or 1\n",
        "\n",
        "print(\"reduction applied: \", reduction)\n",
        "\n",
        "\n",
        "print(f\"Training patterns before reduction: {len(train)}\")\n",
        "train = train.sample(int(len(train)/reduction), random_state=12345)\n",
        "print(f\"Training patterns after reduction:  {len(train)}\")\n",
        "\n",
        "print(f\"Validation patterns before reduction: {len(val)}\")\n",
        "val = val.sample(int(len(val)/reduction), random_state=12345)\n",
        "print(f\"Validation patterns after reduction:  {len(val)}\")\n",
        "\n",
        "print(f\"Test patterns before reduction: {len(test)}\")\n",
        "test = test.sample(int(len(test)/reduction), random_state=12345)\n",
        "print(f\"Test patterns after reduction:  {len(test)}\")"
      ],
      "metadata": {
        "colab": {
          "base_uri": "https://localhost:8080/"
        },
        "id": "6NEHRZBAZlk8",
        "outputId": "39bd0b99-e436-4364-e7ee-6d5501c2b59a"
      },
      "execution_count": 7,
      "outputs": [
        {
          "output_type": "stream",
          "name": "stdout",
          "text": [
            "reduction applied:  10\n",
            "Training patterns before reduction: 564000\n",
            "Training patterns after reduction:  56400\n",
            "Validation patterns before reduction: 59342\n",
            "Validation patterns after reduction:  5934\n",
            "Test patterns before reduction: 59319\n",
            "Test patterns after reduction:  5931\n"
          ]
        }
      ]
    },
    {
      "cell_type": "markdown",
      "source": [
        "Visualize data"
      ],
      "metadata": {
        "id": "c_4tmG76e5Z1"
      }
    },
    {
      "cell_type": "code",
      "source": [
        "import matplotlib.pyplot as plt\n",
        "fig, axes = plt.subplots(1, 3 , figsize=(10,5))\n",
        "print(labels)\n",
        "train.value_counts(str(NUM_CLASSES)+'_way_label').plot(kind='bar', ax=axes[0])\n",
        "plt.sca(axes[0])\n",
        "plt.xticks(rotation=45, horizontalalignment='right')\n",
        "plt.title('Training Dataset')\n",
        "plt.ylabel('Counts')\n",
        "\n",
        "val.value_counts(str(NUM_CLASSES)+'_way_label').plot(kind='bar', ax=axes[1])\n",
        "plt.sca(axes[1])\n",
        "plt.xticks(rotation=45, horizontalalignment='right')\n",
        "plt.title('Validation Dataset')\n",
        "\n",
        "test.value_counts(str(NUM_CLASSES)+'_way_label').plot(kind='bar', ax=axes[2])\n",
        "plt.sca(axes[2])\n",
        "plt.xticks(rotation=45, horizontalalignment='right')\n",
        "plt.title('Testing Dataset')"
      ],
      "metadata": {
        "colab": {
          "base_uri": "https://localhost:8080/",
          "height": 387
        },
        "id": "9Wrq3DG-fsfX",
        "outputId": "1f12cb5f-5735-4460-c27e-91c80a0586ea"
      },
      "execution_count": 8,
      "outputs": [
        {
          "output_type": "stream",
          "name": "stdout",
          "text": [
            "['True', 'Satire/Parody', 'Misleading Content', 'Imposter Content', 'False Connection', 'Manipulated Content']\n"
          ]
        },
        {
          "output_type": "execute_result",
          "data": {
            "text/plain": [
              "Text(0.5, 1.0, 'Testing Dataset')"
            ]
          },
          "metadata": {},
          "execution_count": 8
        },
        {
          "output_type": "display_data",
          "data": {
            "text/plain": [
              "<Figure size 720x360 with 3 Axes>"
            ],
            "image/png": "[encoded data removed]"
          },
          "metadata": {
            "needs_background": "light"
          }
        }
      ]
    },
    {
      "cell_type": "markdown",
      "source": [
        "Obtain the maximum length (tokens) of the titles (you only see in the training and validation datasets):"
      ],
      "metadata": {
        "id": "LAYDrIHoL2uA"
      }
    },
    {
      "cell_type": "code",
      "source": [
        "x_train=train[\"clean_title\"]\n",
        "x_val=val[\"clean_title\"]\n",
        "x_test=test[\"clean_title\"]\n",
        "\n",
        "\n",
        "y_train = train[str(NUM_CLASSES)+'_way_label']\n",
        "y_val = val[str(NUM_CLASSES)+'_way_label']\n",
        "y_test = test[str(NUM_CLASSES)+'_way_label']"
      ],
      "metadata": {
        "id": "C-n6uBT5Oepn"
      },
      "execution_count": 9,
      "outputs": []
    },
    {
      "cell_type": "markdown",
      "source": [
        "We need to know the maximum length (based on number of tokens) of the input sequences (from training and validation dataset) to set the parameter MAX_LENGTH. \n",
        "If the maximum length is greater than 512 (maximum lenght for BERT), we will set MAX_LENGTH to 512."
      ],
      "metadata": {
        "id": "gCtX8nAnRFfA"
      }
    },
    {
      "cell_type": "code",
      "source": [
        "tokens=x_train.apply(lambda x: x.split())\n",
        "lengths=tokens.apply(lambda x: len(x))\n",
        "max_train = max(lengths)\n",
        "# print(max(lengths))\n",
        "\n",
        "tokens=x_val.apply(lambda x: x.split())\n",
        "lengths=tokens.apply(lambda x: len(x))\n",
        "max_val = max(lengths)\n",
        "# print(max(lengths))\n",
        "\n",
        "MAX_LENGTH = max(max_train, max_val)\n",
        "print(\"The maximum length of the input sequences is {} tokens\".format(MAX_LENGTH))\n",
        "\n",
        "MAX_LENGTH=min(512,MAX_LENGTH)\n",
        "print(\"MAX_LENGTH = {}\".format(MAX_LENGTH))\n"
      ],
      "metadata": {
        "id": "iyyCLiDnKPb2",
        "colab": {
          "base_uri": "https://localhost:8080/"
        },
        "outputId": "4b4e8347-4845-4ac9-c40a-0f86861cd0c8"
      },
      "execution_count": 10,
      "outputs": [
        {
          "output_type": "stream",
          "name": "stdout",
          "text": [
            "The maximum length of the input sequences is 127 tokens\n",
            "MAX_LENGTH = 127\n"
          ]
        }
      ]
    },
    {
      "cell_type": "markdown",
      "source": [
        "Install library transformers"
      ],
      "metadata": {
        "id": "JkvNo38kReJp"
      }
    },
    {
      "cell_type": "code",
      "source": [
        "!pip install transformers"
      ],
      "metadata": {
        "colab": {
          "base_uri": "https://localhost:8080/"
        },
        "id": "o_IIy4zkJv9b",
        "outputId": "75095871-2627-4b41-a572-e0f9c33c532d"
      },
      "execution_count": 11,
      "outputs": [
        {
          "output_type": "stream",
          "name": "stdout",
          "text": [
            "Looking in indexes: https://pypi.org/simple, https://us-python.pkg.dev/colab-wheels/public/simple/\n",
            "Collecting transformers\n",
            "  Downloading transformers-4.23.1-py3-none-any.whl (5.3 MB)\n",
            "\u001b[K     |████████████████████████████████| 5.3 MB 5.0 MB/s \n",
            "\u001b[?25hRequirement already satisfied: requests in /usr/local/lib/python3.7/dist-packages (from transformers) (2.23.0)\n",
            "Collecting tokenizers!=0.11.3,<0.14,>=0.11.1\n",
            "  Downloading tokenizers-0.13.1-cp37-cp37m-manylinux_2_17_x86_64.manylinux2014_x86_64.whl (7.6 MB)\n",
            "\u001b[K     |████████████████████████████████| 7.6 MB 48.8 MB/s \n",
            "\u001b[?25hRequirement already satisfied: tqdm>=4.27 in /usr/local/lib/python3.7/dist-packages (from transformers) (4.64.1)\n",
            "Requirement already satisfied: importlib-metadata in /usr/local/lib/python3.7/dist-packages (from transformers) (4.13.0)\n",
            "Requirement already satisfied: pyyaml>=5.1 in /usr/local/lib/python3.7/dist-packages (from transformers) (6.0)\n",
            "Collecting huggingface-hub<1.0,>=0.10.0\n",
            "  Downloading huggingface_hub-0.10.1-py3-none-any.whl (163 kB)\n",
            "\u001b[K     |████████████████████████████████| 163 kB 68.4 MB/s \n",
            "\u001b[?25hRequirement already satisfied: numpy>=1.17 in /usr/local/lib/python3.7/dist-packages (from transformers) (1.21.6)\n",
            "Requirement already satisfied: filelock in /usr/local/lib/python3.7/dist-packages (from transformers) (3.8.0)\n",
            "Requirement already satisfied: regex!=2019.12.17 in /usr/local/lib/python3.7/dist-packages (from transformers) (2022.6.2)\n",
            "Requirement already satisfied: packaging>=20.0 in /usr/local/lib/python3.7/dist-packages (from transformers) (21.3)\n",
            "Requirement already satisfied: typing-extensions>=3.7.4.3 in /usr/local/lib/python3.7/dist-packages (from huggingface-hub<1.0,>=0.10.0->transformers) (4.1.1)\n",
            "Requirement already satisfied: pyparsing!=3.0.5,>=2.0.2 in /usr/local/lib/python3.7/dist-packages (from packaging>=20.0->transformers) (3.0.9)\n",
            "Requirement already satisfied: zipp>=0.5 in /usr/local/lib/python3.7/dist-packages (from importlib-metadata->transformers) (3.9.0)\n",
            "Requirement already satisfied: idna<3,>=2.5 in /usr/local/lib/python3.7/dist-packages (from requests->transformers) (2.10)\n",
            "Requirement already satisfied: urllib3!=1.25.0,!=1.25.1,<1.26,>=1.21.1 in /usr/local/lib/python3.7/dist-packages (from requests->transformers) (1.24.3)\n",
            "Requirement already satisfied: chardet<4,>=3.0.2 in /usr/local/lib/python3.7/dist-packages (from requests->transformers) (3.0.4)\n",
            "Requirement already satisfied: certifi>=2017.4.17 in /usr/local/lib/python3.7/dist-packages (from requests->transformers) (2022.9.24)\n",
            "Installing collected packages: tokenizers, huggingface-hub, transformers\n",
            "Successfully installed huggingface-hub-0.10.1 tokenizers-0.13.1 transformers-4.23.1\n"
          ]
        }
      ]
    },
    {
      "cell_type": "markdown",
      "source": [
        "Load distilbert"
      ],
      "metadata": {
        "id": "tQSWG1J8RhTQ"
      }
    },
    {
      "cell_type": "code",
      "source": [
        "import transformers\n",
        "from transformers import DistilBertTokenizer, TFDistilBertModel, DistilBertConfig\n",
        "from tqdm import tqdm # Progress Bar\n",
        "import numpy as np\n",
        "\n",
        "\n",
        "MODEL_NAME = 'distilbert-base-cased'\n",
        "\n",
        "\n",
        "tokenizer = DistilBertTokenizer.from_pretrained(MODEL_NAME,  \n",
        "                                                add_special_tokens=True,\n",
        "                                                max_length=MAX_LENGTH, \n",
        "                                                pad_to_max_length=True)\n",
        "\n",
        "def tokenize(sentences, tokenizer):\n",
        "    input_ids, input_masks, input_segments = [], [], []\n",
        "    for sentence in tqdm(sentences):\n",
        "        inputs = tokenizer.encode_plus(sentence, \n",
        "                                       add_special_tokens=True, \n",
        "                                       max_length=MAX_LENGTH, \n",
        "                                       padding='max_length',\n",
        "                                       return_attention_mask=True, \n",
        "                                       return_token_type_ids=True, \n",
        "                                       truncation=True)\n",
        "        input_ids.append(inputs['input_ids'])\n",
        "        input_masks.append(inputs['attention_mask'])\n",
        "        input_segments.append(inputs['token_type_ids'])        \n",
        "        \n",
        "    return np.asarray(input_ids, dtype='int32'), np.asarray(input_masks, dtype='int32')"
      ],
      "metadata": {
        "id": "ksb4IYFgKgRB",
        "colab": {
          "base_uri": "https://localhost:8080/",
          "height": 113,
          "referenced_widgets": [
            "62b8083a7dac43b89853e6a8308b9892",
            "33a62df29d444601839a40afe9f4ef4a",
            "13f9306f1a67497ab4f41af05176af29",
            "8df5635f41c84b09b13ccf9e526efd54",
            "4f40440141c349d9891bc2a4acd6c9b8",
            "07893acb43dd4d8dafc4c3030f2ab33c",
            "295139847d824cdb94497ea3b9ef2bcc",
            "7acbb122ab2d46d4a9b21a23d6355099",
            "28e7e942222d44ce8f6d4be02bdc6ef4",
            "5eb76495f5174f88a7255d165cb902f7",
            "6e0412f36c7b4e9db64d99dfed6a429b",
            "7c8a9ee3c31c4ebba8888e6a7cc8024e",
            "5b49b1d2e2f740ee8ee174232fb220c8",
            "ff77ce6c78d444cb96d20bdf278ca9fb",
            "5c7c1441342b4ea08cfc1191e378f5e6",
            "268949149e9845dc8459c42fe550c9a5",
            "b55926f447554ce4b0c77260310c7e3c",
            "5841bdf2fc4a4232811e3aed2c4e0147",
            "e9f8c331cb584e6ea29bd3daab9961f2",
            "cf520a7f501843fb97654ab44bd4c032",
            "61d6b1c8276441059f6f9230dd745fb9",
            "eed826af5dd0457fb872db54a1192f8c",
            "62a371e60ec147a6932337d92a726697",
            "4fde34509e004960be8de80e32e254c3",
            "9a2c24136f764b86aa1f80de03268693",
            "b5509a60082a41f195cedfcf9ba73119",
            "968c21e3e50a4c94b3ed05cd89fe79a3",
            "86205cdece6e434b8644ecaa20592981",
            "28c04a110d6941d6b38cee2fde29ee31",
            "68ceccbc2be94b9686ea7258671d3d25",
            "a41416c67c0544c98fbfcafd1e153853",
            "15a58db901d14fa2870f857df8a9bc8c",
            "06cae15f0e6541d6b6650cb33491cbd9"
          ]
        },
        "outputId": "a0986ae1-10c6-40c7-b4e9-d7e5ff51bd7f"
      },
      "execution_count": 12,
      "outputs": [
        {
          "output_type": "display_data",
          "data": {
            "text/plain": [
              "Downloading:   0%|          | 0.00/213k [00:00<?, ?B/s]"
            ],
            "application/vnd.jupyter.widget-view+json": {
              "version_major": 2,
              "version_minor": 0,
              "model_id": "62b8083a7dac43b89853e6a8308b9892"
            }
          },
          "metadata": {}
        },
        {
          "output_type": "display_data",
          "data": {
            "text/plain": [
              "Downloading:   0%|          | 0.00/29.0 [00:00<?, ?B/s]"
            ],
            "application/vnd.jupyter.widget-view+json": {
              "version_major": 2,
              "version_minor": 0,
              "model_id": "7c8a9ee3c31c4ebba8888e6a7cc8024e"
            }
          },
          "metadata": {}
        },
        {
          "output_type": "display_data",
          "data": {
            "text/plain": [
              "Downloading:   0%|          | 0.00/411 [00:00<?, ?B/s]"
            ],
            "application/vnd.jupyter.widget-view+json": {
              "version_major": 2,
              "version_minor": 0,
              "model_id": "62a371e60ec147a6932337d92a726697"
            }
          },
          "metadata": {}
        }
      ]
    },
    {
      "cell_type": "markdown",
      "source": [
        "Tokenize datasets (it takes a long time to load the training dataset):"
      ],
      "metadata": {
        "id": "wgGFF7fDSC8k"
      }
    },
    {
      "cell_type": "code",
      "source": [
        "X_train = tokenize(x_train, tokenizer)\n",
        "X_test = tokenize(x_test, tokenizer)\n",
        "X_val = tokenize(x_val, tokenizer)"
      ],
      "metadata": {
        "id": "nqXBX5mRKqma",
        "colab": {
          "base_uri": "https://localhost:8080/"
        },
        "outputId": "a4db455f-e613-4cec-9c5f-3c73a4e612ef"
      },
      "execution_count": 13,
      "outputs": [
        {
          "output_type": "stream",
          "name": "stderr",
          "text": [
            "100%|██████████| 56400/56400 [00:31<00:00, 1812.59it/s]\n",
            "100%|██████████| 5931/5931 [00:01<00:00, 3328.87it/s]\n",
            "100%|██████████| 5934/5934 [00:01<00:00, 3604.45it/s]\n"
          ]
        }
      ]
    },
    {
      "cell_type": "code",
      "source": [
        "import tensorflow as tf\n",
        "from tensorflow.keras.callbacks import ModelCheckpoint, ReduceLROnPlateau, EarlyStopping\n",
        "import warnings\n",
        "from transformers import logging as hf_logging\n",
        "hf_logging.set_verbosity_error() # Hidding Huggingface Warnings\n",
        "warnings.filterwarnings(\"ignore\")"
      ],
      "metadata": {
        "id": "-GjFPbf1SLpQ"
      },
      "execution_count": 14,
      "outputs": []
    },
    {
      "cell_type": "markdown",
      "source": [
        "Define the model"
      ],
      "metadata": {
        "id": "jZ8lLlKsSQC3"
      }
    },
    {
      "cell_type": "code",
      "source": [
        "config = DistilBertConfig.from_pretrained(MODEL_NAME, output_hidden_states=True, output_attentions=True)\n",
        "DistilBERT = TFDistilBertModel.from_pretrained(MODEL_NAME, config=config)\n",
        "\n",
        "input_ids_in = tf.keras.layers.Input(shape=(MAX_LENGTH,), name='input_token', dtype='int32')\n",
        "input_masks_in = tf.keras.layers.Input(shape=(MAX_LENGTH,), name='masked_token', dtype='int32') \n",
        "\n",
        "embedding_layer = DistilBERT(input_ids = input_ids_in, attention_mask = input_masks_in)[0]\n",
        "X = tf.keras.layers.Bidirectional(tf.keras.layers.LSTM(128, return_sequences=True))(embedding_layer)\n",
        "X = tf.keras.layers.GlobalMaxPool1D()(X)\n",
        "X = tf.keras.layers.Dense(64, activation='relu')(X)\n",
        "X = tf.keras.layers.Dropout(0.2)(X)\n",
        "X = tf.keras.layers.Dense(NUM_CLASSES, activation='softmax')(X)\n",
        "\n",
        "model = tf.keras.Model(inputs=[input_ids_in, input_masks_in], outputs = X)\n",
        "\n",
        "for layer in model.layers[:3]:\n",
        "    layer.trainable = False\n",
        "\n",
        "model.summary()"
      ],
      "metadata": {
        "colab": {
          "base_uri": "https://localhost:8080/",
          "height": 882,
          "referenced_widgets": [
            "2ef774ab631b4d0dbf2f385911d29450",
            "5b89b5b025ba46af88b0d8048c8a1827",
            "db20e146b2f84c1c9302ad37e7d79d44",
            "d33263cfa95e4ccdb1dafea64470a70c",
            "9f25c00c36e341b88080e0b4bf480ff6",
            "6eae8b29be954f2ea6dcbddeb15d0ea5",
            "35cc1c288b534e57b6bf97c6b96ae029",
            "850f0c04eb594f968c773727a4bfa1d1",
            "204dfc67bd7e4df4ac44ad7a935a9530",
            "302d00a11f6246d1b64bfb9a6dd98f6c",
            "703b253ff2db47ffb15a3497fccd62c2"
          ]
        },
        "id": "Fh6JOwkDNl5_",
        "outputId": "a7884959-fb4c-466d-e783-159c41d8de71"
      },
      "execution_count": 15,
      "outputs": [
        {
          "output_type": "display_data",
          "data": {
            "text/plain": [
              "Downloading:   0%|          | 0.00/354M [00:00<?, ?B/s]"
            ],
            "application/vnd.jupyter.widget-view+json": {
              "version_major": 2,
              "version_minor": 0,
              "model_id": "2ef774ab631b4d0dbf2f385911d29450"
            }
          },
          "metadata": {}
        },
        {
          "output_type": "stream",
          "name": "stdout",
          "text": [
            "Model: \"model\"\n",
            "__________________________________________________________________________________________________\n",
            " Layer (type)                   Output Shape         Param #     Connected to                     \n",
            "==================================================================================================\n",
            " input_token (InputLayer)       [(None, 127)]        0           []                               \n",
            "                                                                                                  \n",
            " masked_token (InputLayer)      [(None, 127)]        0           []                               \n",
            "                                                                                                  \n",
            " tf_distil_bert_model (TFDistil  TFBaseModelOutput(l  65190912   ['input_token[0][0]',            \n",
            " BertModel)                     ast_hidden_state=(N               'masked_token[0][0]']           \n",
            "                                one, 127, 768),                                                   \n",
            "                                 hidden_states=((No                                               \n",
            "                                ne, 127, 768),                                                    \n",
            "                                 (None, 127, 768),                                                \n",
            "                                 (None, 127, 768),                                                \n",
            "                                 (None, 127, 768),                                                \n",
            "                                 (None, 127, 768),                                                \n",
            "                                 (None, 127, 768),                                                \n",
            "                                 (None, 127, 768)),                                               \n",
            "                                 attentions=((None,                                               \n",
            "                                 12, None, 127),                                                  \n",
            "                                 (None, 12, None, 1                                               \n",
            "                                27),                                                              \n",
            "                                 (None, 12, None, 1                                               \n",
            "                                27),                                                              \n",
            "                                 (None, 12, None, 1                                               \n",
            "                                27),                                                              \n",
            "                                 (None, 12, None, 1                                               \n",
            "                                27),                                                              \n",
            "                                 (None, 12, None, 1                                               \n",
            "                                27)))                                                             \n",
            "                                                                                                  \n",
            " bidirectional (Bidirectional)  (None, 127, 256)     918528      ['tf_distil_bert_model[0][13]']  \n",
            "                                                                                                  \n",
            " global_max_pooling1d (GlobalMa  (None, 256)         0           ['bidirectional[0][0]']          \n",
            " xPooling1D)                                                                                      \n",
            "                                                                                                  \n",
            " dense (Dense)                  (None, 64)           16448       ['global_max_pooling1d[0][0]']   \n",
            "                                                                                                  \n",
            " dropout_19 (Dropout)           (None, 64)           0           ['dense[0][0]']                  \n",
            "                                                                                                  \n",
            " dense_1 (Dense)                (None, 6)            390         ['dropout_19[0][0]']             \n",
            "                                                                                                  \n",
            "==================================================================================================\n",
            "Total params: 66,126,278\n",
            "Trainable params: 935,366\n",
            "Non-trainable params: 65,190,912\n",
            "__________________________________________________________________________________________________\n"
          ]
        }
      ]
    },
    {
      "cell_type": "code",
      "source": [
        "import os\n",
        "\n",
        "### Create an output directory\n",
        "output_dir = './model1_outputs'\n",
        "if not os.path.exists(output_dir): ### If the file directory doesn't already exists,\n",
        "    os.makedirs(output_dir) ### Make it please"
      ],
      "metadata": {
        "id": "xXY50Z_dNvHN"
      },
      "execution_count": 16,
      "outputs": []
    },
    {
      "cell_type": "markdown",
      "source": [
        "Define callbacks"
      ],
      "metadata": {
        "id": "LtU8HqE0SR-E"
      }
    },
    {
      "cell_type": "code",
      "source": [
        "model_checkpoint = ModelCheckpoint(filepath=output_dir+'/weights.{epoch:02d}.hdf5',\n",
        "                                  save_weights_only=True)\n",
        "\n",
        "early_stopping = EarlyStopping(patience=3, # Stop after 3 epochs of no improvement\n",
        "                               monitor='val_loss', # Look at validation_loss\n",
        "                               min_delta=0, # After 0 change\n",
        "                               mode='min', # Stop when quantity has stopped decreasing\n",
        "                               restore_best_weights=False, # Don't Restore the best weights\n",
        "                               verbose=1) \n",
        "\n",
        "reduce_lr = ReduceLROnPlateau(monitor='val_loss', # Look at validation loss\n",
        "                              min_lr=0.000001, # Lower bound of learning rate\n",
        "                              patience=1, # Reduce after 1 with little change\n",
        "                              mode='min', # Stop when quantity has stopped decreasing\n",
        "                              factor=0.1, # Reduce by a factor of 1/10\n",
        "                              min_delta=0.01, # Minimumn change needed\n",
        "                              verbose=1)"
      ],
      "metadata": {
        "id": "DfmwvryqOB-Y"
      },
      "execution_count": 17,
      "outputs": []
    },
    {
      "cell_type": "code",
      "source": [
        "model.compile(loss='sparse_categorical_crossentropy', optimizer='adam', metrics=['accuracy'])\n",
        "\n",
        "history = model.fit(X_train, \n",
        "                    y_train, \n",
        "                    epochs = 10, #10\n",
        "                    batch_size= 16, #16\n",
        "                    validation_data=(X_val, y_val), \n",
        "                    callbacks=[model_checkpoint, early_stopping, reduce_lr])"
      ],
      "metadata": {
        "colab": {
          "base_uri": "https://localhost:8080/"
        },
        "id": "Q4N2ur6TOEcg",
        "outputId": "fc44c292-6c26-427d-a20d-b433a5f013a8"
      },
      "execution_count": 18,
      "outputs": [
        {
          "output_type": "stream",
          "name": "stdout",
          "text": [
            "Epoch 1/10\n",
            "3525/3525 [==============================] - 335s 93ms/step - loss: 0.9105 - accuracy: 0.6715 - val_loss: 0.7776 - val_accuracy: 0.7091 - lr: 0.0010\n",
            "Epoch 2/10\n",
            "3525/3525 [==============================] - 327s 93ms/step - loss: 0.7789 - accuracy: 0.7182 - val_loss: 0.7543 - val_accuracy: 0.7309 - lr: 0.0010\n",
            "Epoch 3/10\n",
            "3525/3525 [==============================] - 328s 93ms/step - loss: 0.7141 - accuracy: 0.7403 - val_loss: 0.7375 - val_accuracy: 0.7398 - lr: 0.0010\n",
            "Epoch 4/10\n",
            "3525/3525 [==============================] - ETA: 0s - loss: 0.6583 - accuracy: 0.7584\n",
            "Epoch 4: ReduceLROnPlateau reducing learning rate to 0.00010000000474974513.\n",
            "3525/3525 [==============================] - 327s 93ms/step - loss: 0.6583 - accuracy: 0.7584 - val_loss: 0.7337 - val_accuracy: 0.7361 - lr: 0.0010\n",
            "Epoch 5/10\n",
            "3525/3525 [==============================] - 327s 93ms/step - loss: 0.5594 - accuracy: 0.7960 - val_loss: 0.7246 - val_accuracy: 0.7499 - lr: 1.0000e-04\n",
            "Epoch 6/10\n",
            "3525/3525 [==============================] - ETA: 0s - loss: 0.5270 - accuracy: 0.8062\n",
            "Epoch 6: ReduceLROnPlateau reducing learning rate to 1.0000000474974514e-05.\n",
            "3525/3525 [==============================] - 327s 93ms/step - loss: 0.5270 - accuracy: 0.8062 - val_loss: 0.7327 - val_accuracy: 0.7524 - lr: 1.0000e-04\n",
            "Epoch 7/10\n",
            "3525/3525 [==============================] - ETA: 0s - loss: 0.5004 - accuracy: 0.8188\n",
            "Epoch 7: ReduceLROnPlateau reducing learning rate to 1.0000000656873453e-06.\n",
            "3525/3525 [==============================] - 327s 93ms/step - loss: 0.5004 - accuracy: 0.8188 - val_loss: 0.7319 - val_accuracy: 0.7514 - lr: 1.0000e-05\n",
            "Epoch 8/10\n",
            "3525/3525 [==============================] - ETA: 0s - loss: 0.4993 - accuracy: 0.8194\n",
            "Epoch 8: ReduceLROnPlateau reducing learning rate to 1e-06.\n",
            "3525/3525 [==============================] - 327s 93ms/step - loss: 0.4993 - accuracy: 0.8194 - val_loss: 0.7318 - val_accuracy: 0.7519 - lr: 1.0000e-06\n",
            "Epoch 8: early stopping\n"
          ]
        }
      ]
    },
    {
      "cell_type": "code",
      "source": [
        "import matplotlib.pyplot as plt\n",
        "import seaborn as sns\n",
        "\n",
        "\n",
        "def plot_history(history):\n",
        "    acc = history.history['accuracy']\n",
        "    val_acc = history.history['val_accuracy']\n",
        "    loss = history.history['loss']\n",
        "    val_loss = history.history['val_loss']\n",
        "    x = range(1, len(acc) + 1)\n",
        "\n",
        "    plt.figure(figsize=(12, 5))\n",
        "    plt.subplot(1, 2, 1)\n",
        "    plt.plot(x, acc, 'b', label='Training acc')\n",
        "    plt.plot(x, val_acc, 'r', label='Validation acc')\n",
        "    plt.title('Training and validation accuracy')\n",
        "    plt.legend()\n",
        "    plt.subplot(1, 2, 2)\n",
        "    plt.plot(x, loss, 'b', label='Training loss')\n",
        "    plt.plot(x, val_loss, 'r', label='Validation loss')\n",
        "    plt.title('Training and validation loss')\n",
        "    plt.legend()\n",
        "    print(\"Lowest Validation Loss: epoch {}\".format(np.argmin(val_loss)+1))\n",
        "    print(\"Highest Validation Accuracy: epoch {}\".format(np.argmax(val_acc)+1))\n",
        "\n",
        "plot_history(history)\n"
      ],
      "metadata": {
        "id": "PcBiX96sOLJ0",
        "colab": {
          "base_uri": "https://localhost:8080/",
          "height": 371
        },
        "outputId": "76a4943b-fbb8-422c-eb63-1f741443a5ef"
      },
      "execution_count": 19,
      "outputs": [
        {
          "output_type": "stream",
          "name": "stdout",
          "text": [
            "Lowest Validation Loss: epoch 5\n",
            "Highest Validation Accuracy: epoch 6\n"
          ]
        },
        {
          "output_type": "display_data",
          "data": {
            "text/plain": [
              "<Figure size 864x360 with 2 Axes>"
            ],
            "image/png": "[encoded data removed]"
          },
          "metadata": {
            "needs_background": "light"
          }
        }
      ]
    },
    {
      "cell_type": "code",
      "source": [
        "def get_min_val_loss_epoch(history):\n",
        "    return \"0\"+str(np.argmin(history.history['val_loss'])+1)\n",
        "\n",
        "def get_max_val_acc_epoch(history):\n",
        "    return \"0\"+str(np.argmax(history.history['val_accuracy'])+1)"
      ],
      "metadata": {
        "id": "CncmHpBGPfXm"
      },
      "execution_count": 20,
      "outputs": []
    },
    {
      "cell_type": "code",
      "source": [
        "epoch_num = get_max_val_acc_epoch(history)\n",
        "model.load_weights(output_dir+\"/weights.\"+epoch_num+\".hdf5\") # Load in model weights\n"
      ],
      "metadata": {
        "id": "fayUYo9BPG10"
      },
      "execution_count": 21,
      "outputs": []
    },
    {
      "cell_type": "code",
      "source": [
        "y_test_probs = model.predict(X_test)\n",
        "\n",
        "# Turn probabilities into an interger prediction\n",
        "y_hat = []\n",
        "for prob in y_test_probs:\n",
        "    y_hat.append(np.argmax(prob))"
      ],
      "metadata": {
        "id": "jEHhdZMZPIzO",
        "colab": {
          "base_uri": "https://localhost:8080/"
        },
        "outputId": "67d95c0c-071e-4904-c40f-f1aa172b0d3c"
      },
      "execution_count": 22,
      "outputs": [
        {
          "output_type": "stream",
          "name": "stdout",
          "text": [
            "186/186 [==============================] - 27s 137ms/step\n"
          ]
        }
      ]
    },
    {
      "cell_type": "code",
      "source": [
        "from sklearn.metrics import confusion_matrix, classification_report, accuracy_score\n",
        "\n",
        "def print_cf2(y_test, y_hat):\n",
        "    cm = confusion_matrix(y_test, y_hat)\n",
        "    sns.set(font_scale = 1.4, color_codes=True, palette=\"deep\")\n",
        "    sns.heatmap(pd.DataFrame(cm, index=labels,columns=[0,1,2]), \n",
        "                annot = True,\n",
        "                annot_kws = {\"size\":16},\n",
        "                fmt=\"d\",\n",
        "                cmap=\"YlGnBu\")\n",
        "    plt.title(\"Confusion Matrix\")\n",
        "    plt.xlabel(\"Predicted Value\")\n",
        "    plt.xticks([0,1,2], labels, rotation=45)\n",
        "    plt.ylabel(\"True Value\")\n",
        "    plt.show()\n",
        "\n",
        "\n",
        "print(\"Accuracy:\", accuracy_score(y_test, y_hat))\n",
        "print_cf2(y_test, y_hat)\n"
      ],
      "metadata": {
        "id": "tSDOm9yZPLPq",
        "colab": {
          "base_uri": "https://localhost:8080/",
          "height": 363
        },
        "outputId": "4b53e911-c1c7-41a8-da9b-a998689600f1"
      },
      "execution_count": 23,
      "outputs": [
        {
          "output_type": "stream",
          "name": "stdout",
          "text": [
            "Accuracy: 0.7486090035407182\n"
          ]
        },
        {
          "output_type": "error",
          "ename": "ValueError",
          "evalue": "ignored",
          "traceback": [
            "\u001b[0;31m---------------------------------------------------------------------------\u001b[0m",
            "\u001b[0;31mValueError\u001b[0m                                Traceback (most recent call last)",
            "\u001b[0;32m<ipython-input-23-0d32b417ce80>\u001b[0m in \u001b[0;36m<module>\u001b[0;34m\u001b[0m\n\u001b[1;32m     17\u001b[0m \u001b[0;34m\u001b[0m\u001b[0m\n\u001b[1;32m     18\u001b[0m \u001b[0mprint\u001b[0m\u001b[0;34m(\u001b[0m\u001b[0;34m\"Accuracy:\"\u001b[0m\u001b[0;34m,\u001b[0m \u001b[0maccuracy_score\u001b[0m\u001b[0;34m(\u001b[0m\u001b[0my_test\u001b[0m\u001b[0;34m,\u001b[0m \u001b[0my_hat\u001b[0m\u001b[0;34m)\u001b[0m\u001b[0;34m)\u001b[0m\u001b[0;34m\u001b[0m\u001b[0;34m\u001b[0m\u001b[0m\n\u001b[0;32m---> 19\u001b[0;31m \u001b[0mprint_cf2\u001b[0m\u001b[0;34m(\u001b[0m\u001b[0my_test\u001b[0m\u001b[0;34m,\u001b[0m \u001b[0my_hat\u001b[0m\u001b[0;34m)\u001b[0m\u001b[0;34m\u001b[0m\u001b[0;34m\u001b[0m\u001b[0m\n\u001b[0m",
            "\u001b[0;32m<ipython-input-23-0d32b417ce80>\u001b[0m in \u001b[0;36mprint_cf2\u001b[0;34m(y_test, y_hat)\u001b[0m\n\u001b[1;32m      4\u001b[0m     \u001b[0mcm\u001b[0m \u001b[0;34m=\u001b[0m \u001b[0mconfusion_matrix\u001b[0m\u001b[0;34m(\u001b[0m\u001b[0my_test\u001b[0m\u001b[0;34m,\u001b[0m \u001b[0my_hat\u001b[0m\u001b[0;34m)\u001b[0m\u001b[0;34m\u001b[0m\u001b[0;34m\u001b[0m\u001b[0m\n\u001b[1;32m      5\u001b[0m     \u001b[0msns\u001b[0m\u001b[0;34m.\u001b[0m\u001b[0mset\u001b[0m\u001b[0;34m(\u001b[0m\u001b[0mfont_scale\u001b[0m \u001b[0;34m=\u001b[0m \u001b[0;36m1.4\u001b[0m\u001b[0;34m,\u001b[0m \u001b[0mcolor_codes\u001b[0m\u001b[0;34m=\u001b[0m\u001b[0;32mTrue\u001b[0m\u001b[0;34m,\u001b[0m \u001b[0mpalette\u001b[0m\u001b[0;34m=\u001b[0m\u001b[0;34m\"deep\"\u001b[0m\u001b[0;34m)\u001b[0m\u001b[0;34m\u001b[0m\u001b[0;34m\u001b[0m\u001b[0m\n\u001b[0;32m----> 6\u001b[0;31m     sns.heatmap(pd.DataFrame(cm, index=labels,columns=[0,1,2]), \n\u001b[0m\u001b[1;32m      7\u001b[0m                 \u001b[0mannot\u001b[0m \u001b[0;34m=\u001b[0m \u001b[0;32mTrue\u001b[0m\u001b[0;34m,\u001b[0m\u001b[0;34m\u001b[0m\u001b[0;34m\u001b[0m\u001b[0m\n\u001b[1;32m      8\u001b[0m                 \u001b[0mannot_kws\u001b[0m \u001b[0;34m=\u001b[0m \u001b[0;34m{\u001b[0m\u001b[0;34m\"size\"\u001b[0m\u001b[0;34m:\u001b[0m\u001b[0;36m16\u001b[0m\u001b[0;34m}\u001b[0m\u001b[0;34m,\u001b[0m\u001b[0;34m\u001b[0m\u001b[0;34m\u001b[0m\u001b[0m\n",
            "\u001b[0;32m/usr/local/lib/python3.7/dist-packages/pandas/core/frame.py\u001b[0m in \u001b[0;36m__init__\u001b[0;34m(self, data, index, columns, dtype, copy)\u001b[0m\n\u001b[1;32m    676\u001b[0m                     \u001b[0mdtype\u001b[0m\u001b[0;34m=\u001b[0m\u001b[0mdtype\u001b[0m\u001b[0;34m,\u001b[0m\u001b[0;34m\u001b[0m\u001b[0;34m\u001b[0m\u001b[0m\n\u001b[1;32m    677\u001b[0m                     \u001b[0mcopy\u001b[0m\u001b[0;34m=\u001b[0m\u001b[0mcopy\u001b[0m\u001b[0;34m,\u001b[0m\u001b[0;34m\u001b[0m\u001b[0;34m\u001b[0m\u001b[0m\n\u001b[0;32m--> 678\u001b[0;31m                     \u001b[0mtyp\u001b[0m\u001b[0;34m=\u001b[0m\u001b[0mmanager\u001b[0m\u001b[0;34m,\u001b[0m\u001b[0;34m\u001b[0m\u001b[0;34m\u001b[0m\u001b[0m\n\u001b[0m\u001b[1;32m    679\u001b[0m                 )\n\u001b[1;32m    680\u001b[0m \u001b[0;34m\u001b[0m\u001b[0m\n",
            "\u001b[0;32m/usr/local/lib/python3.7/dist-packages/pandas/core/internals/construction.py\u001b[0m in \u001b[0;36mndarray_to_mgr\u001b[0;34m(values, index, columns, dtype, copy, typ)\u001b[0m\n\u001b[1;32m    322\u001b[0m     )\n\u001b[1;32m    323\u001b[0m \u001b[0;34m\u001b[0m\u001b[0m\n\u001b[0;32m--> 324\u001b[0;31m     \u001b[0m_check_values_indices_shape_match\u001b[0m\u001b[0;34m(\u001b[0m\u001b[0mvalues\u001b[0m\u001b[0;34m,\u001b[0m \u001b[0mindex\u001b[0m\u001b[0;34m,\u001b[0m \u001b[0mcolumns\u001b[0m\u001b[0;34m)\u001b[0m\u001b[0;34m\u001b[0m\u001b[0;34m\u001b[0m\u001b[0m\n\u001b[0m\u001b[1;32m    325\u001b[0m \u001b[0;34m\u001b[0m\u001b[0m\n\u001b[1;32m    326\u001b[0m     \u001b[0;32mif\u001b[0m \u001b[0mtyp\u001b[0m \u001b[0;34m==\u001b[0m \u001b[0;34m\"array\"\u001b[0m\u001b[0;34m:\u001b[0m\u001b[0;34m\u001b[0m\u001b[0;34m\u001b[0m\u001b[0m\n",
            "\u001b[0;32m/usr/local/lib/python3.7/dist-packages/pandas/core/internals/construction.py\u001b[0m in \u001b[0;36m_check_values_indices_shape_match\u001b[0;34m(values, index, columns)\u001b[0m\n\u001b[1;32m    391\u001b[0m         \u001b[0mpassed\u001b[0m \u001b[0;34m=\u001b[0m \u001b[0mvalues\u001b[0m\u001b[0;34m.\u001b[0m\u001b[0mshape\u001b[0m\u001b[0;34m\u001b[0m\u001b[0;34m\u001b[0m\u001b[0m\n\u001b[1;32m    392\u001b[0m         \u001b[0mimplied\u001b[0m \u001b[0;34m=\u001b[0m \u001b[0;34m(\u001b[0m\u001b[0mlen\u001b[0m\u001b[0;34m(\u001b[0m\u001b[0mindex\u001b[0m\u001b[0;34m)\u001b[0m\u001b[0;34m,\u001b[0m \u001b[0mlen\u001b[0m\u001b[0;34m(\u001b[0m\u001b[0mcolumns\u001b[0m\u001b[0;34m)\u001b[0m\u001b[0;34m)\u001b[0m\u001b[0;34m\u001b[0m\u001b[0;34m\u001b[0m\u001b[0m\n\u001b[0;32m--> 393\u001b[0;31m         \u001b[0;32mraise\u001b[0m \u001b[0mValueError\u001b[0m\u001b[0;34m(\u001b[0m\u001b[0;34mf\"Shape of passed values is {passed}, indices imply {implied}\"\u001b[0m\u001b[0;34m)\u001b[0m\u001b[0;34m\u001b[0m\u001b[0;34m\u001b[0m\u001b[0m\n\u001b[0m\u001b[1;32m    394\u001b[0m \u001b[0;34m\u001b[0m\u001b[0m\n\u001b[1;32m    395\u001b[0m \u001b[0;34m\u001b[0m\u001b[0m\n",
            "\u001b[0;31mValueError\u001b[0m: Shape of passed values is (6, 6), indices imply (6, 3)"
          ]
        }
      ]
    },
    {
      "cell_type": "code",
      "source": [
        "print(classification_report(y_test, y_hat, target_names=labels))\n"
      ],
      "metadata": {
        "id": "fwGQ9vLhPNOZ",
        "colab": {
          "base_uri": "https://localhost:8080/"
        },
        "outputId": "1b1e65d9-ea8e-45f9-f5c9-58f174f21929"
      },
      "execution_count": 24,
      "outputs": [
        {
          "output_type": "stream",
          "name": "stdout",
          "text": [
            "                     precision    recall  f1-score   support\n",
            "\n",
            "               True       0.77      0.88      0.82      2351\n",
            "      Satire/Parody       0.63      0.43      0.51       376\n",
            " Misleading Content       0.74      0.53      0.62      1154\n",
            "   Imposter Content       0.55      0.25      0.34       139\n",
            "   False Connection       0.75      0.85      0.80      1675\n",
            "Manipulated Content       0.75      0.60      0.66       236\n",
            "\n",
            "           accuracy                           0.75      5931\n",
            "          macro avg       0.70      0.59      0.63      5931\n",
            "       weighted avg       0.74      0.75      0.74      5931\n",
            "\n"
          ]
        }
      ]
    }
  ]
}